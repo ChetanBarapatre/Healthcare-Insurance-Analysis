{
  "nbformat": 4,
  "nbformat_minor": 0,
  "metadata": {
    "colab": {
      "provenance": []
    },
    "kernelspec": {
      "name": "python3",
      "display_name": "Python 3"
    },
    "language_info": {
      "name": "python"
    }
  },
  "cells": [
    {
      "cell_type": "code",
      "execution_count": null,
      "metadata": {
        "id": "LoiH-3eDSTg_"
      },
      "outputs": [],
      "source": [
        "import pandas as pd\n",
        "import numpy as np\n",
        "import matplotlib.pyplot as plt\n",
        "import seaborn as sns"
      ]
    },
    {
      "cell_type": "code",
      "source": [
        "hospitalization_details=pd.read_csv('/content/drive/MyDrive/capstone project/healthcare insurance analysis/Capstone_1/Hospitalisation details.csv')\n",
        "hospitalization_details.head()"
      ],
      "metadata": {
        "colab": {
          "base_uri": "https://localhost:8080/",
          "height": 206
        },
        "id": "zrsB4vz6WBiw",
        "outputId": "a7b20558-c00c-4e6e-b9d8-0589faa34199"
      },
      "execution_count": null,
      "outputs": [
        {
          "output_type": "execute_result",
          "data": {
            "text/plain": [
              "  Customer ID  year month  date  children  charges Hospital tier City tier  \\\n",
              "0      Id2335  1992   Jul     9         0   563.84      tier - 2  tier - 3   \n",
              "1      Id2334  1992   Nov    30         0   570.62      tier - 2  tier - 1   \n",
              "2      Id2333  1993   Jun    30         0   600.00      tier - 2  tier - 1   \n",
              "3      Id2332  1992   Sep    13         0   604.54      tier - 3  tier - 3   \n",
              "4      Id2331  1998   Jul    27         0   637.26      tier - 3  tier - 3   \n",
              "\n",
              "  State ID  \n",
              "0    R1013  \n",
              "1    R1013  \n",
              "2    R1013  \n",
              "3    R1013  \n",
              "4    R1013  "
            ],
            "text/html": [
              "\n",
              "  <div id=\"df-f6d68b5d-ddc7-49f9-b14d-ca2777733533\">\n",
              "    <div class=\"colab-df-container\">\n",
              "      <div>\n",
              "<style scoped>\n",
              "    .dataframe tbody tr th:only-of-type {\n",
              "        vertical-align: middle;\n",
              "    }\n",
              "\n",
              "    .dataframe tbody tr th {\n",
              "        vertical-align: top;\n",
              "    }\n",
              "\n",
              "    .dataframe thead th {\n",
              "        text-align: right;\n",
              "    }\n",
              "</style>\n",
              "<table border=\"1\" class=\"dataframe\">\n",
              "  <thead>\n",
              "    <tr style=\"text-align: right;\">\n",
              "      <th></th>\n",
              "      <th>Customer ID</th>\n",
              "      <th>year</th>\n",
              "      <th>month</th>\n",
              "      <th>date</th>\n",
              "      <th>children</th>\n",
              "      <th>charges</th>\n",
              "      <th>Hospital tier</th>\n",
              "      <th>City tier</th>\n",
              "      <th>State ID</th>\n",
              "    </tr>\n",
              "  </thead>\n",
              "  <tbody>\n",
              "    <tr>\n",
              "      <th>0</th>\n",
              "      <td>Id2335</td>\n",
              "      <td>1992</td>\n",
              "      <td>Jul</td>\n",
              "      <td>9</td>\n",
              "      <td>0</td>\n",
              "      <td>563.84</td>\n",
              "      <td>tier - 2</td>\n",
              "      <td>tier - 3</td>\n",
              "      <td>R1013</td>\n",
              "    </tr>\n",
              "    <tr>\n",
              "      <th>1</th>\n",
              "      <td>Id2334</td>\n",
              "      <td>1992</td>\n",
              "      <td>Nov</td>\n",
              "      <td>30</td>\n",
              "      <td>0</td>\n",
              "      <td>570.62</td>\n",
              "      <td>tier - 2</td>\n",
              "      <td>tier - 1</td>\n",
              "      <td>R1013</td>\n",
              "    </tr>\n",
              "    <tr>\n",
              "      <th>2</th>\n",
              "      <td>Id2333</td>\n",
              "      <td>1993</td>\n",
              "      <td>Jun</td>\n",
              "      <td>30</td>\n",
              "      <td>0</td>\n",
              "      <td>600.00</td>\n",
              "      <td>tier - 2</td>\n",
              "      <td>tier - 1</td>\n",
              "      <td>R1013</td>\n",
              "    </tr>\n",
              "    <tr>\n",
              "      <th>3</th>\n",
              "      <td>Id2332</td>\n",
              "      <td>1992</td>\n",
              "      <td>Sep</td>\n",
              "      <td>13</td>\n",
              "      <td>0</td>\n",
              "      <td>604.54</td>\n",
              "      <td>tier - 3</td>\n",
              "      <td>tier - 3</td>\n",
              "      <td>R1013</td>\n",
              "    </tr>\n",
              "    <tr>\n",
              "      <th>4</th>\n",
              "      <td>Id2331</td>\n",
              "      <td>1998</td>\n",
              "      <td>Jul</td>\n",
              "      <td>27</td>\n",
              "      <td>0</td>\n",
              "      <td>637.26</td>\n",
              "      <td>tier - 3</td>\n",
              "      <td>tier - 3</td>\n",
              "      <td>R1013</td>\n",
              "    </tr>\n",
              "  </tbody>\n",
              "</table>\n",
              "</div>\n",
              "      <button class=\"colab-df-convert\" onclick=\"convertToInteractive('df-f6d68b5d-ddc7-49f9-b14d-ca2777733533')\"\n",
              "              title=\"Convert this dataframe to an interactive table.\"\n",
              "              style=\"display:none;\">\n",
              "        \n",
              "  <svg xmlns=\"http://www.w3.org/2000/svg\" height=\"24px\"viewBox=\"0 0 24 24\"\n",
              "       width=\"24px\">\n",
              "    <path d=\"M0 0h24v24H0V0z\" fill=\"none\"/>\n",
              "    <path d=\"M18.56 5.44l.94 2.06.94-2.06 2.06-.94-2.06-.94-.94-2.06-.94 2.06-2.06.94zm-11 1L8.5 8.5l.94-2.06 2.06-.94-2.06-.94L8.5 2.5l-.94 2.06-2.06.94zm10 10l.94 2.06.94-2.06 2.06-.94-2.06-.94-.94-2.06-.94 2.06-2.06.94z\"/><path d=\"M17.41 7.96l-1.37-1.37c-.4-.4-.92-.59-1.43-.59-.52 0-1.04.2-1.43.59L10.3 9.45l-7.72 7.72c-.78.78-.78 2.05 0 2.83L4 21.41c.39.39.9.59 1.41.59.51 0 1.02-.2 1.41-.59l7.78-7.78 2.81-2.81c.8-.78.8-2.07 0-2.86zM5.41 20L4 18.59l7.72-7.72 1.47 1.35L5.41 20z\"/>\n",
              "  </svg>\n",
              "      </button>\n",
              "      \n",
              "  <style>\n",
              "    .colab-df-container {\n",
              "      display:flex;\n",
              "      flex-wrap:wrap;\n",
              "      gap: 12px;\n",
              "    }\n",
              "\n",
              "    .colab-df-convert {\n",
              "      background-color: #E8F0FE;\n",
              "      border: none;\n",
              "      border-radius: 50%;\n",
              "      cursor: pointer;\n",
              "      display: none;\n",
              "      fill: #1967D2;\n",
              "      height: 32px;\n",
              "      padding: 0 0 0 0;\n",
              "      width: 32px;\n",
              "    }\n",
              "\n",
              "    .colab-df-convert:hover {\n",
              "      background-color: #E2EBFA;\n",
              "      box-shadow: 0px 1px 2px rgba(60, 64, 67, 0.3), 0px 1px 3px 1px rgba(60, 64, 67, 0.15);\n",
              "      fill: #174EA6;\n",
              "    }\n",
              "\n",
              "    [theme=dark] .colab-df-convert {\n",
              "      background-color: #3B4455;\n",
              "      fill: #D2E3FC;\n",
              "    }\n",
              "\n",
              "    [theme=dark] .colab-df-convert:hover {\n",
              "      background-color: #434B5C;\n",
              "      box-shadow: 0px 1px 3px 1px rgba(0, 0, 0, 0.15);\n",
              "      filter: drop-shadow(0px 1px 2px rgba(0, 0, 0, 0.3));\n",
              "      fill: #FFFFFF;\n",
              "    }\n",
              "  </style>\n",
              "\n",
              "      <script>\n",
              "        const buttonEl =\n",
              "          document.querySelector('#df-f6d68b5d-ddc7-49f9-b14d-ca2777733533 button.colab-df-convert');\n",
              "        buttonEl.style.display =\n",
              "          google.colab.kernel.accessAllowed ? 'block' : 'none';\n",
              "\n",
              "        async function convertToInteractive(key) {\n",
              "          const element = document.querySelector('#df-f6d68b5d-ddc7-49f9-b14d-ca2777733533');\n",
              "          const dataTable =\n",
              "            await google.colab.kernel.invokeFunction('convertToInteractive',\n",
              "                                                     [key], {});\n",
              "          if (!dataTable) return;\n",
              "\n",
              "          const docLinkHtml = 'Like what you see? Visit the ' +\n",
              "            '<a target=\"_blank\" href=https://colab.research.google.com/notebooks/data_table.ipynb>data table notebook</a>'\n",
              "            + ' to learn more about interactive tables.';\n",
              "          element.innerHTML = '';\n",
              "          dataTable['output_type'] = 'display_data';\n",
              "          await google.colab.output.renderOutput(dataTable, element);\n",
              "          const docLink = document.createElement('div');\n",
              "          docLink.innerHTML = docLinkHtml;\n",
              "          element.appendChild(docLink);\n",
              "        }\n",
              "      </script>\n",
              "    </div>\n",
              "  </div>\n",
              "  "
            ]
          },
          "metadata": {},
          "execution_count": 122
        }
      ]
    },
    {
      "cell_type": "code",
      "source": [
        "medical_examination = pd.read_csv('/content/drive/MyDrive/capstone project/healthcare insurance analysis/Capstone_1/Medical Examinations.csv')\n",
        "medical_examination.head()"
      ],
      "metadata": {
        "colab": {
          "base_uri": "https://localhost:8080/",
          "height": 206
        },
        "id": "rWdDef9TWzDa",
        "outputId": "cc5b74d9-755b-4b97-eea0-ed3bbcb9d032"
      },
      "execution_count": null,
      "outputs": [
        {
          "output_type": "execute_result",
          "data": {
            "text/plain": [
              "  Customer ID     BMI  HBA1C Heart Issues Any Transplants Cancer history  \\\n",
              "0         Id1  47.410   7.47           No              No             No   \n",
              "1         Id2  30.360   5.77           No              No             No   \n",
              "2         Id3  34.485  11.87          yes              No             No   \n",
              "3         Id4  38.095   6.05           No              No             No   \n",
              "4         Id5  35.530   5.45           No              No             No   \n",
              "\n",
              "  NumberOfMajorSurgeries smoker  \n",
              "0       No major surgery    yes  \n",
              "1       No major surgery    yes  \n",
              "2                      2    yes  \n",
              "3       No major surgery    yes  \n",
              "4       No major surgery    yes  "
            ],
            "text/html": [
              "\n",
              "  <div id=\"df-00a0b7ec-765d-4703-ac49-1bf65598dc43\">\n",
              "    <div class=\"colab-df-container\">\n",
              "      <div>\n",
              "<style scoped>\n",
              "    .dataframe tbody tr th:only-of-type {\n",
              "        vertical-align: middle;\n",
              "    }\n",
              "\n",
              "    .dataframe tbody tr th {\n",
              "        vertical-align: top;\n",
              "    }\n",
              "\n",
              "    .dataframe thead th {\n",
              "        text-align: right;\n",
              "    }\n",
              "</style>\n",
              "<table border=\"1\" class=\"dataframe\">\n",
              "  <thead>\n",
              "    <tr style=\"text-align: right;\">\n",
              "      <th></th>\n",
              "      <th>Customer ID</th>\n",
              "      <th>BMI</th>\n",
              "      <th>HBA1C</th>\n",
              "      <th>Heart Issues</th>\n",
              "      <th>Any Transplants</th>\n",
              "      <th>Cancer history</th>\n",
              "      <th>NumberOfMajorSurgeries</th>\n",
              "      <th>smoker</th>\n",
              "    </tr>\n",
              "  </thead>\n",
              "  <tbody>\n",
              "    <tr>\n",
              "      <th>0</th>\n",
              "      <td>Id1</td>\n",
              "      <td>47.410</td>\n",
              "      <td>7.47</td>\n",
              "      <td>No</td>\n",
              "      <td>No</td>\n",
              "      <td>No</td>\n",
              "      <td>No major surgery</td>\n",
              "      <td>yes</td>\n",
              "    </tr>\n",
              "    <tr>\n",
              "      <th>1</th>\n",
              "      <td>Id2</td>\n",
              "      <td>30.360</td>\n",
              "      <td>5.77</td>\n",
              "      <td>No</td>\n",
              "      <td>No</td>\n",
              "      <td>No</td>\n",
              "      <td>No major surgery</td>\n",
              "      <td>yes</td>\n",
              "    </tr>\n",
              "    <tr>\n",
              "      <th>2</th>\n",
              "      <td>Id3</td>\n",
              "      <td>34.485</td>\n",
              "      <td>11.87</td>\n",
              "      <td>yes</td>\n",
              "      <td>No</td>\n",
              "      <td>No</td>\n",
              "      <td>2</td>\n",
              "      <td>yes</td>\n",
              "    </tr>\n",
              "    <tr>\n",
              "      <th>3</th>\n",
              "      <td>Id4</td>\n",
              "      <td>38.095</td>\n",
              "      <td>6.05</td>\n",
              "      <td>No</td>\n",
              "      <td>No</td>\n",
              "      <td>No</td>\n",
              "      <td>No major surgery</td>\n",
              "      <td>yes</td>\n",
              "    </tr>\n",
              "    <tr>\n",
              "      <th>4</th>\n",
              "      <td>Id5</td>\n",
              "      <td>35.530</td>\n",
              "      <td>5.45</td>\n",
              "      <td>No</td>\n",
              "      <td>No</td>\n",
              "      <td>No</td>\n",
              "      <td>No major surgery</td>\n",
              "      <td>yes</td>\n",
              "    </tr>\n",
              "  </tbody>\n",
              "</table>\n",
              "</div>\n",
              "      <button class=\"colab-df-convert\" onclick=\"convertToInteractive('df-00a0b7ec-765d-4703-ac49-1bf65598dc43')\"\n",
              "              title=\"Convert this dataframe to an interactive table.\"\n",
              "              style=\"display:none;\">\n",
              "        \n",
              "  <svg xmlns=\"http://www.w3.org/2000/svg\" height=\"24px\"viewBox=\"0 0 24 24\"\n",
              "       width=\"24px\">\n",
              "    <path d=\"M0 0h24v24H0V0z\" fill=\"none\"/>\n",
              "    <path d=\"M18.56 5.44l.94 2.06.94-2.06 2.06-.94-2.06-.94-.94-2.06-.94 2.06-2.06.94zm-11 1L8.5 8.5l.94-2.06 2.06-.94-2.06-.94L8.5 2.5l-.94 2.06-2.06.94zm10 10l.94 2.06.94-2.06 2.06-.94-2.06-.94-.94-2.06-.94 2.06-2.06.94z\"/><path d=\"M17.41 7.96l-1.37-1.37c-.4-.4-.92-.59-1.43-.59-.52 0-1.04.2-1.43.59L10.3 9.45l-7.72 7.72c-.78.78-.78 2.05 0 2.83L4 21.41c.39.39.9.59 1.41.59.51 0 1.02-.2 1.41-.59l7.78-7.78 2.81-2.81c.8-.78.8-2.07 0-2.86zM5.41 20L4 18.59l7.72-7.72 1.47 1.35L5.41 20z\"/>\n",
              "  </svg>\n",
              "      </button>\n",
              "      \n",
              "  <style>\n",
              "    .colab-df-container {\n",
              "      display:flex;\n",
              "      flex-wrap:wrap;\n",
              "      gap: 12px;\n",
              "    }\n",
              "\n",
              "    .colab-df-convert {\n",
              "      background-color: #E8F0FE;\n",
              "      border: none;\n",
              "      border-radius: 50%;\n",
              "      cursor: pointer;\n",
              "      display: none;\n",
              "      fill: #1967D2;\n",
              "      height: 32px;\n",
              "      padding: 0 0 0 0;\n",
              "      width: 32px;\n",
              "    }\n",
              "\n",
              "    .colab-df-convert:hover {\n",
              "      background-color: #E2EBFA;\n",
              "      box-shadow: 0px 1px 2px rgba(60, 64, 67, 0.3), 0px 1px 3px 1px rgba(60, 64, 67, 0.15);\n",
              "      fill: #174EA6;\n",
              "    }\n",
              "\n",
              "    [theme=dark] .colab-df-convert {\n",
              "      background-color: #3B4455;\n",
              "      fill: #D2E3FC;\n",
              "    }\n",
              "\n",
              "    [theme=dark] .colab-df-convert:hover {\n",
              "      background-color: #434B5C;\n",
              "      box-shadow: 0px 1px 3px 1px rgba(0, 0, 0, 0.15);\n",
              "      filter: drop-shadow(0px 1px 2px rgba(0, 0, 0, 0.3));\n",
              "      fill: #FFFFFF;\n",
              "    }\n",
              "  </style>\n",
              "\n",
              "      <script>\n",
              "        const buttonEl =\n",
              "          document.querySelector('#df-00a0b7ec-765d-4703-ac49-1bf65598dc43 button.colab-df-convert');\n",
              "        buttonEl.style.display =\n",
              "          google.colab.kernel.accessAllowed ? 'block' : 'none';\n",
              "\n",
              "        async function convertToInteractive(key) {\n",
              "          const element = document.querySelector('#df-00a0b7ec-765d-4703-ac49-1bf65598dc43');\n",
              "          const dataTable =\n",
              "            await google.colab.kernel.invokeFunction('convertToInteractive',\n",
              "                                                     [key], {});\n",
              "          if (!dataTable) return;\n",
              "\n",
              "          const docLinkHtml = 'Like what you see? Visit the ' +\n",
              "            '<a target=\"_blank\" href=https://colab.research.google.com/notebooks/data_table.ipynb>data table notebook</a>'\n",
              "            + ' to learn more about interactive tables.';\n",
              "          element.innerHTML = '';\n",
              "          dataTable['output_type'] = 'display_data';\n",
              "          await google.colab.output.renderOutput(dataTable, element);\n",
              "          const docLink = document.createElement('div');\n",
              "          docLink.innerHTML = docLinkHtml;\n",
              "          element.appendChild(docLink);\n",
              "        }\n",
              "      </script>\n",
              "    </div>\n",
              "  </div>\n",
              "  "
            ]
          },
          "metadata": {},
          "execution_count": 123
        }
      ]
    },
    {
      "cell_type": "code",
      "source": [
        "names = pd.read_excel('/content/drive/MyDrive/capstone project/healthcare insurance analysis/Capstone_1/Names.xlsx')\n",
        "names.head()"
      ],
      "metadata": {
        "colab": {
          "base_uri": "https://localhost:8080/",
          "height": 206
        },
        "id": "k7IxK4XJXC3T",
        "outputId": "adc71220-fc08-4283-9aae-01d79e53a8a9"
      },
      "execution_count": null,
      "outputs": [
        {
          "output_type": "execute_result",
          "data": {
            "text/plain": [
              "  Customer ID                    name\n",
              "0         Id1       Hawks, Ms.  Kelly\n",
              "1         Id2  Lehner, Mr.  Matthew D\n",
              "2         Id3           Lu, Mr.  Phil\n",
              "3         Id4    Osborne, Ms.  Kelsey\n",
              "4         Id5    Kadala, Ms.  Kristyn"
            ],
            "text/html": [
              "\n",
              "  <div id=\"df-2267cde1-ccec-4b09-b0ce-aaba735f6bef\">\n",
              "    <div class=\"colab-df-container\">\n",
              "      <div>\n",
              "<style scoped>\n",
              "    .dataframe tbody tr th:only-of-type {\n",
              "        vertical-align: middle;\n",
              "    }\n",
              "\n",
              "    .dataframe tbody tr th {\n",
              "        vertical-align: top;\n",
              "    }\n",
              "\n",
              "    .dataframe thead th {\n",
              "        text-align: right;\n",
              "    }\n",
              "</style>\n",
              "<table border=\"1\" class=\"dataframe\">\n",
              "  <thead>\n",
              "    <tr style=\"text-align: right;\">\n",
              "      <th></th>\n",
              "      <th>Customer ID</th>\n",
              "      <th>name</th>\n",
              "    </tr>\n",
              "  </thead>\n",
              "  <tbody>\n",
              "    <tr>\n",
              "      <th>0</th>\n",
              "      <td>Id1</td>\n",
              "      <td>Hawks, Ms.  Kelly</td>\n",
              "    </tr>\n",
              "    <tr>\n",
              "      <th>1</th>\n",
              "      <td>Id2</td>\n",
              "      <td>Lehner, Mr.  Matthew D</td>\n",
              "    </tr>\n",
              "    <tr>\n",
              "      <th>2</th>\n",
              "      <td>Id3</td>\n",
              "      <td>Lu, Mr.  Phil</td>\n",
              "    </tr>\n",
              "    <tr>\n",
              "      <th>3</th>\n",
              "      <td>Id4</td>\n",
              "      <td>Osborne, Ms.  Kelsey</td>\n",
              "    </tr>\n",
              "    <tr>\n",
              "      <th>4</th>\n",
              "      <td>Id5</td>\n",
              "      <td>Kadala, Ms.  Kristyn</td>\n",
              "    </tr>\n",
              "  </tbody>\n",
              "</table>\n",
              "</div>\n",
              "      <button class=\"colab-df-convert\" onclick=\"convertToInteractive('df-2267cde1-ccec-4b09-b0ce-aaba735f6bef')\"\n",
              "              title=\"Convert this dataframe to an interactive table.\"\n",
              "              style=\"display:none;\">\n",
              "        \n",
              "  <svg xmlns=\"http://www.w3.org/2000/svg\" height=\"24px\"viewBox=\"0 0 24 24\"\n",
              "       width=\"24px\">\n",
              "    <path d=\"M0 0h24v24H0V0z\" fill=\"none\"/>\n",
              "    <path d=\"M18.56 5.44l.94 2.06.94-2.06 2.06-.94-2.06-.94-.94-2.06-.94 2.06-2.06.94zm-11 1L8.5 8.5l.94-2.06 2.06-.94-2.06-.94L8.5 2.5l-.94 2.06-2.06.94zm10 10l.94 2.06.94-2.06 2.06-.94-2.06-.94-.94-2.06-.94 2.06-2.06.94z\"/><path d=\"M17.41 7.96l-1.37-1.37c-.4-.4-.92-.59-1.43-.59-.52 0-1.04.2-1.43.59L10.3 9.45l-7.72 7.72c-.78.78-.78 2.05 0 2.83L4 21.41c.39.39.9.59 1.41.59.51 0 1.02-.2 1.41-.59l7.78-7.78 2.81-2.81c.8-.78.8-2.07 0-2.86zM5.41 20L4 18.59l7.72-7.72 1.47 1.35L5.41 20z\"/>\n",
              "  </svg>\n",
              "      </button>\n",
              "      \n",
              "  <style>\n",
              "    .colab-df-container {\n",
              "      display:flex;\n",
              "      flex-wrap:wrap;\n",
              "      gap: 12px;\n",
              "    }\n",
              "\n",
              "    .colab-df-convert {\n",
              "      background-color: #E8F0FE;\n",
              "      border: none;\n",
              "      border-radius: 50%;\n",
              "      cursor: pointer;\n",
              "      display: none;\n",
              "      fill: #1967D2;\n",
              "      height: 32px;\n",
              "      padding: 0 0 0 0;\n",
              "      width: 32px;\n",
              "    }\n",
              "\n",
              "    .colab-df-convert:hover {\n",
              "      background-color: #E2EBFA;\n",
              "      box-shadow: 0px 1px 2px rgba(60, 64, 67, 0.3), 0px 1px 3px 1px rgba(60, 64, 67, 0.15);\n",
              "      fill: #174EA6;\n",
              "    }\n",
              "\n",
              "    [theme=dark] .colab-df-convert {\n",
              "      background-color: #3B4455;\n",
              "      fill: #D2E3FC;\n",
              "    }\n",
              "\n",
              "    [theme=dark] .colab-df-convert:hover {\n",
              "      background-color: #434B5C;\n",
              "      box-shadow: 0px 1px 3px 1px rgba(0, 0, 0, 0.15);\n",
              "      filter: drop-shadow(0px 1px 2px rgba(0, 0, 0, 0.3));\n",
              "      fill: #FFFFFF;\n",
              "    }\n",
              "  </style>\n",
              "\n",
              "      <script>\n",
              "        const buttonEl =\n",
              "          document.querySelector('#df-2267cde1-ccec-4b09-b0ce-aaba735f6bef button.colab-df-convert');\n",
              "        buttonEl.style.display =\n",
              "          google.colab.kernel.accessAllowed ? 'block' : 'none';\n",
              "\n",
              "        async function convertToInteractive(key) {\n",
              "          const element = document.querySelector('#df-2267cde1-ccec-4b09-b0ce-aaba735f6bef');\n",
              "          const dataTable =\n",
              "            await google.colab.kernel.invokeFunction('convertToInteractive',\n",
              "                                                     [key], {});\n",
              "          if (!dataTable) return;\n",
              "\n",
              "          const docLinkHtml = 'Like what you see? Visit the ' +\n",
              "            '<a target=\"_blank\" href=https://colab.research.google.com/notebooks/data_table.ipynb>data table notebook</a>'\n",
              "            + ' to learn more about interactive tables.';\n",
              "          element.innerHTML = '';\n",
              "          dataTable['output_type'] = 'display_data';\n",
              "          await google.colab.output.renderOutput(dataTable, element);\n",
              "          const docLink = document.createElement('div');\n",
              "          docLink.innerHTML = docLinkHtml;\n",
              "          element.appendChild(docLink);\n",
              "        }\n",
              "      </script>\n",
              "    </div>\n",
              "  </div>\n",
              "  "
            ]
          },
          "metadata": {},
          "execution_count": 124
        }
      ]
    },
    {
      "cell_type": "code",
      "source": [
        "merged_df = pd.merge(hospitalization_details, medical_examination, on=\"Customer ID\")\n",
        "merged_df = pd.merge(merged_df, names, on=\"Customer ID\")"
      ],
      "metadata": {
        "id": "AlzHinBWXUah"
      },
      "execution_count": null,
      "outputs": []
    },
    {
      "cell_type": "code",
      "source": [
        "merged_df.head()"
      ],
      "metadata": {
        "colab": {
          "base_uri": "https://localhost:8080/",
          "height": 426
        },
        "id": "KLRteA6ObZyN",
        "outputId": "ca2e041a-66b6-456f-e215-28c7c54f147c"
      },
      "execution_count": null,
      "outputs": [
        {
          "output_type": "execute_result",
          "data": {
            "text/plain": [
              "  Customer ID  year month  date  children  charges Hospital tier City tier  \\\n",
              "0      Id2335  1992   Jul     9         0   563.84      tier - 2  tier - 3   \n",
              "1      Id2334  1992   Nov    30         0   570.62      tier - 2  tier - 1   \n",
              "2      Id2333  1993   Jun    30         0   600.00      tier - 2  tier - 1   \n",
              "3      Id2332  1992   Sep    13         0   604.54      tier - 3  tier - 3   \n",
              "4      Id2331  1998   Jul    27         0   637.26      tier - 3  tier - 3   \n",
              "\n",
              "  State ID    BMI  HBA1C Heart Issues Any Transplants Cancer history  \\\n",
              "0    R1013  17.58   4.51           No              No             No   \n",
              "1    R1013  17.60   4.39           No              No             No   \n",
              "2    R1013  16.47   6.35           No              No            Yes   \n",
              "3    R1013  17.70   6.28           No              No             No   \n",
              "4    R1013  22.34   5.57           No              No             No   \n",
              "\n",
              "  NumberOfMajorSurgeries smoker                                name  \n",
              "0                      1     No                German, Mr.  Aaron K  \n",
              "1                      1     No              Rosendahl, Mr.  Evan P  \n",
              "2                      1     No                  Albano, Ms.  Julie  \n",
              "3                      1     No  Riveros Gonzalez, Mr.  Juan D. Sr.  \n",
              "4                      1     No               Brietzke, Mr.  Jordan  "
            ],
            "text/html": [
              "\n",
              "  <div id=\"df-3cfa5be9-1864-4e9b-938c-d869a471007d\">\n",
              "    <div class=\"colab-df-container\">\n",
              "      <div>\n",
              "<style scoped>\n",
              "    .dataframe tbody tr th:only-of-type {\n",
              "        vertical-align: middle;\n",
              "    }\n",
              "\n",
              "    .dataframe tbody tr th {\n",
              "        vertical-align: top;\n",
              "    }\n",
              "\n",
              "    .dataframe thead th {\n",
              "        text-align: right;\n",
              "    }\n",
              "</style>\n",
              "<table border=\"1\" class=\"dataframe\">\n",
              "  <thead>\n",
              "    <tr style=\"text-align: right;\">\n",
              "      <th></th>\n",
              "      <th>Customer ID</th>\n",
              "      <th>year</th>\n",
              "      <th>month</th>\n",
              "      <th>date</th>\n",
              "      <th>children</th>\n",
              "      <th>charges</th>\n",
              "      <th>Hospital tier</th>\n",
              "      <th>City tier</th>\n",
              "      <th>State ID</th>\n",
              "      <th>BMI</th>\n",
              "      <th>HBA1C</th>\n",
              "      <th>Heart Issues</th>\n",
              "      <th>Any Transplants</th>\n",
              "      <th>Cancer history</th>\n",
              "      <th>NumberOfMajorSurgeries</th>\n",
              "      <th>smoker</th>\n",
              "      <th>name</th>\n",
              "    </tr>\n",
              "  </thead>\n",
              "  <tbody>\n",
              "    <tr>\n",
              "      <th>0</th>\n",
              "      <td>Id2335</td>\n",
              "      <td>1992</td>\n",
              "      <td>Jul</td>\n",
              "      <td>9</td>\n",
              "      <td>0</td>\n",
              "      <td>563.84</td>\n",
              "      <td>tier - 2</td>\n",
              "      <td>tier - 3</td>\n",
              "      <td>R1013</td>\n",
              "      <td>17.58</td>\n",
              "      <td>4.51</td>\n",
              "      <td>No</td>\n",
              "      <td>No</td>\n",
              "      <td>No</td>\n",
              "      <td>1</td>\n",
              "      <td>No</td>\n",
              "      <td>German, Mr.  Aaron K</td>\n",
              "    </tr>\n",
              "    <tr>\n",
              "      <th>1</th>\n",
              "      <td>Id2334</td>\n",
              "      <td>1992</td>\n",
              "      <td>Nov</td>\n",
              "      <td>30</td>\n",
              "      <td>0</td>\n",
              "      <td>570.62</td>\n",
              "      <td>tier - 2</td>\n",
              "      <td>tier - 1</td>\n",
              "      <td>R1013</td>\n",
              "      <td>17.60</td>\n",
              "      <td>4.39</td>\n",
              "      <td>No</td>\n",
              "      <td>No</td>\n",
              "      <td>No</td>\n",
              "      <td>1</td>\n",
              "      <td>No</td>\n",
              "      <td>Rosendahl, Mr.  Evan P</td>\n",
              "    </tr>\n",
              "    <tr>\n",
              "      <th>2</th>\n",
              "      <td>Id2333</td>\n",
              "      <td>1993</td>\n",
              "      <td>Jun</td>\n",
              "      <td>30</td>\n",
              "      <td>0</td>\n",
              "      <td>600.00</td>\n",
              "      <td>tier - 2</td>\n",
              "      <td>tier - 1</td>\n",
              "      <td>R1013</td>\n",
              "      <td>16.47</td>\n",
              "      <td>6.35</td>\n",
              "      <td>No</td>\n",
              "      <td>No</td>\n",
              "      <td>Yes</td>\n",
              "      <td>1</td>\n",
              "      <td>No</td>\n",
              "      <td>Albano, Ms.  Julie</td>\n",
              "    </tr>\n",
              "    <tr>\n",
              "      <th>3</th>\n",
              "      <td>Id2332</td>\n",
              "      <td>1992</td>\n",
              "      <td>Sep</td>\n",
              "      <td>13</td>\n",
              "      <td>0</td>\n",
              "      <td>604.54</td>\n",
              "      <td>tier - 3</td>\n",
              "      <td>tier - 3</td>\n",
              "      <td>R1013</td>\n",
              "      <td>17.70</td>\n",
              "      <td>6.28</td>\n",
              "      <td>No</td>\n",
              "      <td>No</td>\n",
              "      <td>No</td>\n",
              "      <td>1</td>\n",
              "      <td>No</td>\n",
              "      <td>Riveros Gonzalez, Mr.  Juan D. Sr.</td>\n",
              "    </tr>\n",
              "    <tr>\n",
              "      <th>4</th>\n",
              "      <td>Id2331</td>\n",
              "      <td>1998</td>\n",
              "      <td>Jul</td>\n",
              "      <td>27</td>\n",
              "      <td>0</td>\n",
              "      <td>637.26</td>\n",
              "      <td>tier - 3</td>\n",
              "      <td>tier - 3</td>\n",
              "      <td>R1013</td>\n",
              "      <td>22.34</td>\n",
              "      <td>5.57</td>\n",
              "      <td>No</td>\n",
              "      <td>No</td>\n",
              "      <td>No</td>\n",
              "      <td>1</td>\n",
              "      <td>No</td>\n",
              "      <td>Brietzke, Mr.  Jordan</td>\n",
              "    </tr>\n",
              "  </tbody>\n",
              "</table>\n",
              "</div>\n",
              "      <button class=\"colab-df-convert\" onclick=\"convertToInteractive('df-3cfa5be9-1864-4e9b-938c-d869a471007d')\"\n",
              "              title=\"Convert this dataframe to an interactive table.\"\n",
              "              style=\"display:none;\">\n",
              "        \n",
              "  <svg xmlns=\"http://www.w3.org/2000/svg\" height=\"24px\"viewBox=\"0 0 24 24\"\n",
              "       width=\"24px\">\n",
              "    <path d=\"M0 0h24v24H0V0z\" fill=\"none\"/>\n",
              "    <path d=\"M18.56 5.44l.94 2.06.94-2.06 2.06-.94-2.06-.94-.94-2.06-.94 2.06-2.06.94zm-11 1L8.5 8.5l.94-2.06 2.06-.94-2.06-.94L8.5 2.5l-.94 2.06-2.06.94zm10 10l.94 2.06.94-2.06 2.06-.94-2.06-.94-.94-2.06-.94 2.06-2.06.94z\"/><path d=\"M17.41 7.96l-1.37-1.37c-.4-.4-.92-.59-1.43-.59-.52 0-1.04.2-1.43.59L10.3 9.45l-7.72 7.72c-.78.78-.78 2.05 0 2.83L4 21.41c.39.39.9.59 1.41.59.51 0 1.02-.2 1.41-.59l7.78-7.78 2.81-2.81c.8-.78.8-2.07 0-2.86zM5.41 20L4 18.59l7.72-7.72 1.47 1.35L5.41 20z\"/>\n",
              "  </svg>\n",
              "      </button>\n",
              "      \n",
              "  <style>\n",
              "    .colab-df-container {\n",
              "      display:flex;\n",
              "      flex-wrap:wrap;\n",
              "      gap: 12px;\n",
              "    }\n",
              "\n",
              "    .colab-df-convert {\n",
              "      background-color: #E8F0FE;\n",
              "      border: none;\n",
              "      border-radius: 50%;\n",
              "      cursor: pointer;\n",
              "      display: none;\n",
              "      fill: #1967D2;\n",
              "      height: 32px;\n",
              "      padding: 0 0 0 0;\n",
              "      width: 32px;\n",
              "    }\n",
              "\n",
              "    .colab-df-convert:hover {\n",
              "      background-color: #E2EBFA;\n",
              "      box-shadow: 0px 1px 2px rgba(60, 64, 67, 0.3), 0px 1px 3px 1px rgba(60, 64, 67, 0.15);\n",
              "      fill: #174EA6;\n",
              "    }\n",
              "\n",
              "    [theme=dark] .colab-df-convert {\n",
              "      background-color: #3B4455;\n",
              "      fill: #D2E3FC;\n",
              "    }\n",
              "\n",
              "    [theme=dark] .colab-df-convert:hover {\n",
              "      background-color: #434B5C;\n",
              "      box-shadow: 0px 1px 3px 1px rgba(0, 0, 0, 0.15);\n",
              "      filter: drop-shadow(0px 1px 2px rgba(0, 0, 0, 0.3));\n",
              "      fill: #FFFFFF;\n",
              "    }\n",
              "  </style>\n",
              "\n",
              "      <script>\n",
              "        const buttonEl =\n",
              "          document.querySelector('#df-3cfa5be9-1864-4e9b-938c-d869a471007d button.colab-df-convert');\n",
              "        buttonEl.style.display =\n",
              "          google.colab.kernel.accessAllowed ? 'block' : 'none';\n",
              "\n",
              "        async function convertToInteractive(key) {\n",
              "          const element = document.querySelector('#df-3cfa5be9-1864-4e9b-938c-d869a471007d');\n",
              "          const dataTable =\n",
              "            await google.colab.kernel.invokeFunction('convertToInteractive',\n",
              "                                                     [key], {});\n",
              "          if (!dataTable) return;\n",
              "\n",
              "          const docLinkHtml = 'Like what you see? Visit the ' +\n",
              "            '<a target=\"_blank\" href=https://colab.research.google.com/notebooks/data_table.ipynb>data table notebook</a>'\n",
              "            + ' to learn more about interactive tables.';\n",
              "          element.innerHTML = '';\n",
              "          dataTable['output_type'] = 'display_data';\n",
              "          await google.colab.output.renderOutput(dataTable, element);\n",
              "          const docLink = document.createElement('div');\n",
              "          docLink.innerHTML = docLinkHtml;\n",
              "          element.appendChild(docLink);\n",
              "        }\n",
              "      </script>\n",
              "    </div>\n",
              "  </div>\n",
              "  "
            ]
          },
          "metadata": {},
          "execution_count": 126
        }
      ]
    },
    {
      "cell_type": "code",
      "source": [
        "merged_df.info()"
      ],
      "metadata": {
        "colab": {
          "base_uri": "https://localhost:8080/"
        },
        "id": "Fo-FNPezb8kE",
        "outputId": "aec7286e-ce65-4541-cce7-91751aa5ef41"
      },
      "execution_count": null,
      "outputs": [
        {
          "output_type": "stream",
          "name": "stdout",
          "text": [
            "<class 'pandas.core.frame.DataFrame'>\n",
            "Int64Index: 2335 entries, 0 to 2334\n",
            "Data columns (total 17 columns):\n",
            " #   Column                  Non-Null Count  Dtype  \n",
            "---  ------                  --------------  -----  \n",
            " 0   Customer ID             2335 non-null   object \n",
            " 1   year                    2335 non-null   object \n",
            " 2   month                   2335 non-null   object \n",
            " 3   date                    2335 non-null   int64  \n",
            " 4   children                2335 non-null   int64  \n",
            " 5   charges                 2335 non-null   float64\n",
            " 6   Hospital tier           2335 non-null   object \n",
            " 7   City tier               2335 non-null   object \n",
            " 8   State ID                2335 non-null   object \n",
            " 9   BMI                     2335 non-null   float64\n",
            " 10  HBA1C                   2335 non-null   float64\n",
            " 11  Heart Issues            2335 non-null   object \n",
            " 12  Any Transplants         2335 non-null   object \n",
            " 13  Cancer history          2335 non-null   object \n",
            " 14  NumberOfMajorSurgeries  2335 non-null   object \n",
            " 15  smoker                  2335 non-null   object \n",
            " 16  name                    2335 non-null   object \n",
            "dtypes: float64(3), int64(2), object(12)\n",
            "memory usage: 328.4+ KB\n"
          ]
        }
      ]
    },
    {
      "cell_type": "code",
      "source": [
        "# check for missing values\n",
        "missing_values = merged_df.isnull().sum()\n",
        "missing_values"
      ],
      "metadata": {
        "colab": {
          "base_uri": "https://localhost:8080/"
        },
        "id": "1i1JDsAmrENU",
        "outputId": "40c0b0bb-b0fb-45c5-f8b0-6001100fd536"
      },
      "execution_count": null,
      "outputs": [
        {
          "output_type": "execute_result",
          "data": {
            "text/plain": [
              "Customer ID               0\n",
              "year                      0\n",
              "month                     0\n",
              "date                      0\n",
              "children                  0\n",
              "charges                   0\n",
              "Hospital tier             0\n",
              "City tier                 0\n",
              "State ID                  0\n",
              "BMI                       0\n",
              "HBA1C                     0\n",
              "Heart Issues              0\n",
              "Any Transplants           0\n",
              "Cancer history            0\n",
              "NumberOfMajorSurgeries    0\n",
              "smoker                    0\n",
              "name                      0\n",
              "dtype: int64"
            ]
          },
          "metadata": {},
          "execution_count": 128
        }
      ]
    },
    {
      "cell_type": "code",
      "source": [
        "trivial_rows = merged_df[merged_df.apply(lambda x: x.astype(str).str.contains(r'\\?')).any(axis=1)]\n",
        "trivial_rows"
      ],
      "metadata": {
        "colab": {
          "base_uri": "https://localhost:8080/",
          "height": 704
        },
        "id": "wo-FdeaFrmsI",
        "outputId": "cf3a7a5a-081c-455c-e2c8-7a86a5fcdbc9"
      },
      "execution_count": null,
      "outputs": [
        {
          "output_type": "execute_result",
          "data": {
            "text/plain": [
              "     Customer ID  year month  date  children   charges Hospital tier  \\\n",
              "11        Id2324  1999   Dec    26         0    700.00             ?   \n",
              "13        Id2322  2002     ?    19         0    750.00      tier - 3   \n",
              "17        Id2318  1996     ?    18         0    770.38      tier - 3   \n",
              "542       Id1793  1995   Dec     1         3   4827.90      tier - 1   \n",
              "1046      Id1289     ?   Jul    24         0   8534.67      tier - 2   \n",
              "1049      Id1286     ?   Dec    12         1   8547.69      tier - 2   \n",
              "1700       Id635  2004   Jul    17         0  15518.18      tier - 2   \n",
              "1775       Id560  1994   Jul     1         3  17663.14      tier - 1   \n",
              "2165       Id170  2000   Sep     5         1  37165.16      tier - 1   \n",
              "2332         Id3  1970     ?    11         3  60021.40      tier - 1   \n",
              "\n",
              "     City tier State ID     BMI  HBA1C Heart Issues Any Transplants  \\\n",
              "11    tier - 3    R1013  22.240   5.04           No              No   \n",
              "13    tier - 1    R1012  21.380   8.01           No              No   \n",
              "17           ?    R1012  18.820   5.51          yes              No   \n",
              "542   tier - 2        ?  18.905   4.91          yes              No   \n",
              "1046  tier - 3    R1024  24.320  11.56          yes              No   \n",
              "1049  tier - 1    R1013  29.370   8.01          yes              No   \n",
              "1700  tier - 3    R1015  25.175   4.96           No             yes   \n",
              "1775  tier - 3    R1013  23.980   4.90           No              No   \n",
              "2165  tier - 3        ?  37.620   6.32          yes             yes   \n",
              "2332  tier - 1    R1012  34.485  11.87          yes              No   \n",
              "\n",
              "     Cancer history NumberOfMajorSurgeries smoker                    name  \n",
              "11               No       No major surgery     No    Duffy, Ms.  Meghan K  \n",
              "13               No       No major surgery     No      Street, Ms.  Holly  \n",
              "17               No       No major surgery     No  Gagnon, Ms.  Candice M  \n",
              "542              No                      1     No  Capriolo, Mr.  Michael  \n",
              "1046             No                      1     No   Levine, Ms.  Annie J.  \n",
              "1049             No                      1     No  Ainsley, Ms.  Katie M.  \n",
              "1700             No                      1      ?   Bruns, Mr.  Zachary T  \n",
              "1775             No       No major surgery      ?       Pearlman, Mr.  Oz  \n",
              "2165             No                      2    yes      Torphy, Mr.  Bobby  \n",
              "2332             No                      2    yes           Lu, Mr.  Phil  "
            ],
            "text/html": [
              "\n",
              "  <div id=\"df-bc118d5e-e658-4ff0-9649-c3261eabddf0\">\n",
              "    <div class=\"colab-df-container\">\n",
              "      <div>\n",
              "<style scoped>\n",
              "    .dataframe tbody tr th:only-of-type {\n",
              "        vertical-align: middle;\n",
              "    }\n",
              "\n",
              "    .dataframe tbody tr th {\n",
              "        vertical-align: top;\n",
              "    }\n",
              "\n",
              "    .dataframe thead th {\n",
              "        text-align: right;\n",
              "    }\n",
              "</style>\n",
              "<table border=\"1\" class=\"dataframe\">\n",
              "  <thead>\n",
              "    <tr style=\"text-align: right;\">\n",
              "      <th></th>\n",
              "      <th>Customer ID</th>\n",
              "      <th>year</th>\n",
              "      <th>month</th>\n",
              "      <th>date</th>\n",
              "      <th>children</th>\n",
              "      <th>charges</th>\n",
              "      <th>Hospital tier</th>\n",
              "      <th>City tier</th>\n",
              "      <th>State ID</th>\n",
              "      <th>BMI</th>\n",
              "      <th>HBA1C</th>\n",
              "      <th>Heart Issues</th>\n",
              "      <th>Any Transplants</th>\n",
              "      <th>Cancer history</th>\n",
              "      <th>NumberOfMajorSurgeries</th>\n",
              "      <th>smoker</th>\n",
              "      <th>name</th>\n",
              "    </tr>\n",
              "  </thead>\n",
              "  <tbody>\n",
              "    <tr>\n",
              "      <th>11</th>\n",
              "      <td>Id2324</td>\n",
              "      <td>1999</td>\n",
              "      <td>Dec</td>\n",
              "      <td>26</td>\n",
              "      <td>0</td>\n",
              "      <td>700.00</td>\n",
              "      <td>?</td>\n",
              "      <td>tier - 3</td>\n",
              "      <td>R1013</td>\n",
              "      <td>22.240</td>\n",
              "      <td>5.04</td>\n",
              "      <td>No</td>\n",
              "      <td>No</td>\n",
              "      <td>No</td>\n",
              "      <td>No major surgery</td>\n",
              "      <td>No</td>\n",
              "      <td>Duffy, Ms.  Meghan K</td>\n",
              "    </tr>\n",
              "    <tr>\n",
              "      <th>13</th>\n",
              "      <td>Id2322</td>\n",
              "      <td>2002</td>\n",
              "      <td>?</td>\n",
              "      <td>19</td>\n",
              "      <td>0</td>\n",
              "      <td>750.00</td>\n",
              "      <td>tier - 3</td>\n",
              "      <td>tier - 1</td>\n",
              "      <td>R1012</td>\n",
              "      <td>21.380</td>\n",
              "      <td>8.01</td>\n",
              "      <td>No</td>\n",
              "      <td>No</td>\n",
              "      <td>No</td>\n",
              "      <td>No major surgery</td>\n",
              "      <td>No</td>\n",
              "      <td>Street, Ms.  Holly</td>\n",
              "    </tr>\n",
              "    <tr>\n",
              "      <th>17</th>\n",
              "      <td>Id2318</td>\n",
              "      <td>1996</td>\n",
              "      <td>?</td>\n",
              "      <td>18</td>\n",
              "      <td>0</td>\n",
              "      <td>770.38</td>\n",
              "      <td>tier - 3</td>\n",
              "      <td>?</td>\n",
              "      <td>R1012</td>\n",
              "      <td>18.820</td>\n",
              "      <td>5.51</td>\n",
              "      <td>yes</td>\n",
              "      <td>No</td>\n",
              "      <td>No</td>\n",
              "      <td>No major surgery</td>\n",
              "      <td>No</td>\n",
              "      <td>Gagnon, Ms.  Candice M</td>\n",
              "    </tr>\n",
              "    <tr>\n",
              "      <th>542</th>\n",
              "      <td>Id1793</td>\n",
              "      <td>1995</td>\n",
              "      <td>Dec</td>\n",
              "      <td>1</td>\n",
              "      <td>3</td>\n",
              "      <td>4827.90</td>\n",
              "      <td>tier - 1</td>\n",
              "      <td>tier - 2</td>\n",
              "      <td>?</td>\n",
              "      <td>18.905</td>\n",
              "      <td>4.91</td>\n",
              "      <td>yes</td>\n",
              "      <td>No</td>\n",
              "      <td>No</td>\n",
              "      <td>1</td>\n",
              "      <td>No</td>\n",
              "      <td>Capriolo, Mr.  Michael</td>\n",
              "    </tr>\n",
              "    <tr>\n",
              "      <th>1046</th>\n",
              "      <td>Id1289</td>\n",
              "      <td>?</td>\n",
              "      <td>Jul</td>\n",
              "      <td>24</td>\n",
              "      <td>0</td>\n",
              "      <td>8534.67</td>\n",
              "      <td>tier - 2</td>\n",
              "      <td>tier - 3</td>\n",
              "      <td>R1024</td>\n",
              "      <td>24.320</td>\n",
              "      <td>11.56</td>\n",
              "      <td>yes</td>\n",
              "      <td>No</td>\n",
              "      <td>No</td>\n",
              "      <td>1</td>\n",
              "      <td>No</td>\n",
              "      <td>Levine, Ms.  Annie J.</td>\n",
              "    </tr>\n",
              "    <tr>\n",
              "      <th>1049</th>\n",
              "      <td>Id1286</td>\n",
              "      <td>?</td>\n",
              "      <td>Dec</td>\n",
              "      <td>12</td>\n",
              "      <td>1</td>\n",
              "      <td>8547.69</td>\n",
              "      <td>tier - 2</td>\n",
              "      <td>tier - 1</td>\n",
              "      <td>R1013</td>\n",
              "      <td>29.370</td>\n",
              "      <td>8.01</td>\n",
              "      <td>yes</td>\n",
              "      <td>No</td>\n",
              "      <td>No</td>\n",
              "      <td>1</td>\n",
              "      <td>No</td>\n",
              "      <td>Ainsley, Ms.  Katie M.</td>\n",
              "    </tr>\n",
              "    <tr>\n",
              "      <th>1700</th>\n",
              "      <td>Id635</td>\n",
              "      <td>2004</td>\n",
              "      <td>Jul</td>\n",
              "      <td>17</td>\n",
              "      <td>0</td>\n",
              "      <td>15518.18</td>\n",
              "      <td>tier - 2</td>\n",
              "      <td>tier - 3</td>\n",
              "      <td>R1015</td>\n",
              "      <td>25.175</td>\n",
              "      <td>4.96</td>\n",
              "      <td>No</td>\n",
              "      <td>yes</td>\n",
              "      <td>No</td>\n",
              "      <td>1</td>\n",
              "      <td>?</td>\n",
              "      <td>Bruns, Mr.  Zachary T</td>\n",
              "    </tr>\n",
              "    <tr>\n",
              "      <th>1775</th>\n",
              "      <td>Id560</td>\n",
              "      <td>1994</td>\n",
              "      <td>Jul</td>\n",
              "      <td>1</td>\n",
              "      <td>3</td>\n",
              "      <td>17663.14</td>\n",
              "      <td>tier - 1</td>\n",
              "      <td>tier - 3</td>\n",
              "      <td>R1013</td>\n",
              "      <td>23.980</td>\n",
              "      <td>4.90</td>\n",
              "      <td>No</td>\n",
              "      <td>No</td>\n",
              "      <td>No</td>\n",
              "      <td>No major surgery</td>\n",
              "      <td>?</td>\n",
              "      <td>Pearlman, Mr.  Oz</td>\n",
              "    </tr>\n",
              "    <tr>\n",
              "      <th>2165</th>\n",
              "      <td>Id170</td>\n",
              "      <td>2000</td>\n",
              "      <td>Sep</td>\n",
              "      <td>5</td>\n",
              "      <td>1</td>\n",
              "      <td>37165.16</td>\n",
              "      <td>tier - 1</td>\n",
              "      <td>tier - 3</td>\n",
              "      <td>?</td>\n",
              "      <td>37.620</td>\n",
              "      <td>6.32</td>\n",
              "      <td>yes</td>\n",
              "      <td>yes</td>\n",
              "      <td>No</td>\n",
              "      <td>2</td>\n",
              "      <td>yes</td>\n",
              "      <td>Torphy, Mr.  Bobby</td>\n",
              "    </tr>\n",
              "    <tr>\n",
              "      <th>2332</th>\n",
              "      <td>Id3</td>\n",
              "      <td>1970</td>\n",
              "      <td>?</td>\n",
              "      <td>11</td>\n",
              "      <td>3</td>\n",
              "      <td>60021.40</td>\n",
              "      <td>tier - 1</td>\n",
              "      <td>tier - 1</td>\n",
              "      <td>R1012</td>\n",
              "      <td>34.485</td>\n",
              "      <td>11.87</td>\n",
              "      <td>yes</td>\n",
              "      <td>No</td>\n",
              "      <td>No</td>\n",
              "      <td>2</td>\n",
              "      <td>yes</td>\n",
              "      <td>Lu, Mr.  Phil</td>\n",
              "    </tr>\n",
              "  </tbody>\n",
              "</table>\n",
              "</div>\n",
              "      <button class=\"colab-df-convert\" onclick=\"convertToInteractive('df-bc118d5e-e658-4ff0-9649-c3261eabddf0')\"\n",
              "              title=\"Convert this dataframe to an interactive table.\"\n",
              "              style=\"display:none;\">\n",
              "        \n",
              "  <svg xmlns=\"http://www.w3.org/2000/svg\" height=\"24px\"viewBox=\"0 0 24 24\"\n",
              "       width=\"24px\">\n",
              "    <path d=\"M0 0h24v24H0V0z\" fill=\"none\"/>\n",
              "    <path d=\"M18.56 5.44l.94 2.06.94-2.06 2.06-.94-2.06-.94-.94-2.06-.94 2.06-2.06.94zm-11 1L8.5 8.5l.94-2.06 2.06-.94-2.06-.94L8.5 2.5l-.94 2.06-2.06.94zm10 10l.94 2.06.94-2.06 2.06-.94-2.06-.94-.94-2.06-.94 2.06-2.06.94z\"/><path d=\"M17.41 7.96l-1.37-1.37c-.4-.4-.92-.59-1.43-.59-.52 0-1.04.2-1.43.59L10.3 9.45l-7.72 7.72c-.78.78-.78 2.05 0 2.83L4 21.41c.39.39.9.59 1.41.59.51 0 1.02-.2 1.41-.59l7.78-7.78 2.81-2.81c.8-.78.8-2.07 0-2.86zM5.41 20L4 18.59l7.72-7.72 1.47 1.35L5.41 20z\"/>\n",
              "  </svg>\n",
              "      </button>\n",
              "      \n",
              "  <style>\n",
              "    .colab-df-container {\n",
              "      display:flex;\n",
              "      flex-wrap:wrap;\n",
              "      gap: 12px;\n",
              "    }\n",
              "\n",
              "    .colab-df-convert {\n",
              "      background-color: #E8F0FE;\n",
              "      border: none;\n",
              "      border-radius: 50%;\n",
              "      cursor: pointer;\n",
              "      display: none;\n",
              "      fill: #1967D2;\n",
              "      height: 32px;\n",
              "      padding: 0 0 0 0;\n",
              "      width: 32px;\n",
              "    }\n",
              "\n",
              "    .colab-df-convert:hover {\n",
              "      background-color: #E2EBFA;\n",
              "      box-shadow: 0px 1px 2px rgba(60, 64, 67, 0.3), 0px 1px 3px 1px rgba(60, 64, 67, 0.15);\n",
              "      fill: #174EA6;\n",
              "    }\n",
              "\n",
              "    [theme=dark] .colab-df-convert {\n",
              "      background-color: #3B4455;\n",
              "      fill: #D2E3FC;\n",
              "    }\n",
              "\n",
              "    [theme=dark] .colab-df-convert:hover {\n",
              "      background-color: #434B5C;\n",
              "      box-shadow: 0px 1px 3px 1px rgba(0, 0, 0, 0.15);\n",
              "      filter: drop-shadow(0px 1px 2px rgba(0, 0, 0, 0.3));\n",
              "      fill: #FFFFFF;\n",
              "    }\n",
              "  </style>\n",
              "\n",
              "      <script>\n",
              "        const buttonEl =\n",
              "          document.querySelector('#df-bc118d5e-e658-4ff0-9649-c3261eabddf0 button.colab-df-convert');\n",
              "        buttonEl.style.display =\n",
              "          google.colab.kernel.accessAllowed ? 'block' : 'none';\n",
              "\n",
              "        async function convertToInteractive(key) {\n",
              "          const element = document.querySelector('#df-bc118d5e-e658-4ff0-9649-c3261eabddf0');\n",
              "          const dataTable =\n",
              "            await google.colab.kernel.invokeFunction('convertToInteractive',\n",
              "                                                     [key], {});\n",
              "          if (!dataTable) return;\n",
              "\n",
              "          const docLinkHtml = 'Like what you see? Visit the ' +\n",
              "            '<a target=\"_blank\" href=https://colab.research.google.com/notebooks/data_table.ipynb>data table notebook</a>'\n",
              "            + ' to learn more about interactive tables.';\n",
              "          element.innerHTML = '';\n",
              "          dataTable['output_type'] = 'display_data';\n",
              "          await google.colab.output.renderOutput(dataTable, element);\n",
              "          const docLink = document.createElement('div');\n",
              "          docLink.innerHTML = docLinkHtml;\n",
              "          element.appendChild(docLink);\n",
              "        }\n",
              "      </script>\n",
              "    </div>\n",
              "  </div>\n",
              "  "
            ]
          },
          "metadata": {},
          "execution_count": 129
        }
      ]
    },
    {
      "cell_type": "code",
      "source": [
        "merged_df.shape"
      ],
      "metadata": {
        "colab": {
          "base_uri": "https://localhost:8080/"
        },
        "id": "FBJhd1TnzOvP",
        "outputId": "597184c5-9256-44de-a7ee-4085382509e7"
      },
      "execution_count": null,
      "outputs": [
        {
          "output_type": "execute_result",
          "data": {
            "text/plain": [
              "(2335, 17)"
            ]
          },
          "metadata": {},
          "execution_count": 130
        }
      ]
    },
    {
      "cell_type": "code",
      "source": [
        "# Filter out the rows with trivial values\n",
        "filtered_df = merged_df[~merged_df.apply(lambda x: x.astype(str).str.contains(r'\\?')).any(axis=1)]\n",
        "filtered_df.shape"
      ],
      "metadata": {
        "colab": {
          "base_uri": "https://localhost:8080/"
        },
        "id": "nr3lXwIhzSUT",
        "outputId": "9273a81a-a4b4-4c7b-837e-8146da8a109b"
      },
      "execution_count": null,
      "outputs": [
        {
          "output_type": "execute_result",
          "data": {
            "text/plain": [
              "(2325, 17)"
            ]
          },
          "metadata": {},
          "execution_count": 131
        }
      ]
    },
    {
      "cell_type": "code",
      "source": [
        "filtered_df.head()"
      ],
      "metadata": {
        "id": "F1COwMXc0LDw",
        "colab": {
          "base_uri": "https://localhost:8080/",
          "height": 426
        },
        "outputId": "532abff3-3163-425a-8bf5-96139cd720b3"
      },
      "execution_count": null,
      "outputs": [
        {
          "output_type": "execute_result",
          "data": {
            "text/plain": [
              "  Customer ID  year month  date  children  charges Hospital tier City tier  \\\n",
              "0      Id2335  1992   Jul     9         0   563.84      tier - 2  tier - 3   \n",
              "1      Id2334  1992   Nov    30         0   570.62      tier - 2  tier - 1   \n",
              "2      Id2333  1993   Jun    30         0   600.00      tier - 2  tier - 1   \n",
              "3      Id2332  1992   Sep    13         0   604.54      tier - 3  tier - 3   \n",
              "4      Id2331  1998   Jul    27         0   637.26      tier - 3  tier - 3   \n",
              "\n",
              "  State ID    BMI  HBA1C Heart Issues Any Transplants Cancer history  \\\n",
              "0    R1013  17.58   4.51           No              No             No   \n",
              "1    R1013  17.60   4.39           No              No             No   \n",
              "2    R1013  16.47   6.35           No              No            Yes   \n",
              "3    R1013  17.70   6.28           No              No             No   \n",
              "4    R1013  22.34   5.57           No              No             No   \n",
              "\n",
              "  NumberOfMajorSurgeries smoker                                name  \n",
              "0                      1     No                German, Mr.  Aaron K  \n",
              "1                      1     No              Rosendahl, Mr.  Evan P  \n",
              "2                      1     No                  Albano, Ms.  Julie  \n",
              "3                      1     No  Riveros Gonzalez, Mr.  Juan D. Sr.  \n",
              "4                      1     No               Brietzke, Mr.  Jordan  "
            ],
            "text/html": [
              "\n",
              "  <div id=\"df-e7aba529-c2e8-4055-a0c5-fa4c7ed0e084\">\n",
              "    <div class=\"colab-df-container\">\n",
              "      <div>\n",
              "<style scoped>\n",
              "    .dataframe tbody tr th:only-of-type {\n",
              "        vertical-align: middle;\n",
              "    }\n",
              "\n",
              "    .dataframe tbody tr th {\n",
              "        vertical-align: top;\n",
              "    }\n",
              "\n",
              "    .dataframe thead th {\n",
              "        text-align: right;\n",
              "    }\n",
              "</style>\n",
              "<table border=\"1\" class=\"dataframe\">\n",
              "  <thead>\n",
              "    <tr style=\"text-align: right;\">\n",
              "      <th></th>\n",
              "      <th>Customer ID</th>\n",
              "      <th>year</th>\n",
              "      <th>month</th>\n",
              "      <th>date</th>\n",
              "      <th>children</th>\n",
              "      <th>charges</th>\n",
              "      <th>Hospital tier</th>\n",
              "      <th>City tier</th>\n",
              "      <th>State ID</th>\n",
              "      <th>BMI</th>\n",
              "      <th>HBA1C</th>\n",
              "      <th>Heart Issues</th>\n",
              "      <th>Any Transplants</th>\n",
              "      <th>Cancer history</th>\n",
              "      <th>NumberOfMajorSurgeries</th>\n",
              "      <th>smoker</th>\n",
              "      <th>name</th>\n",
              "    </tr>\n",
              "  </thead>\n",
              "  <tbody>\n",
              "    <tr>\n",
              "      <th>0</th>\n",
              "      <td>Id2335</td>\n",
              "      <td>1992</td>\n",
              "      <td>Jul</td>\n",
              "      <td>9</td>\n",
              "      <td>0</td>\n",
              "      <td>563.84</td>\n",
              "      <td>tier - 2</td>\n",
              "      <td>tier - 3</td>\n",
              "      <td>R1013</td>\n",
              "      <td>17.58</td>\n",
              "      <td>4.51</td>\n",
              "      <td>No</td>\n",
              "      <td>No</td>\n",
              "      <td>No</td>\n",
              "      <td>1</td>\n",
              "      <td>No</td>\n",
              "      <td>German, Mr.  Aaron K</td>\n",
              "    </tr>\n",
              "    <tr>\n",
              "      <th>1</th>\n",
              "      <td>Id2334</td>\n",
              "      <td>1992</td>\n",
              "      <td>Nov</td>\n",
              "      <td>30</td>\n",
              "      <td>0</td>\n",
              "      <td>570.62</td>\n",
              "      <td>tier - 2</td>\n",
              "      <td>tier - 1</td>\n",
              "      <td>R1013</td>\n",
              "      <td>17.60</td>\n",
              "      <td>4.39</td>\n",
              "      <td>No</td>\n",
              "      <td>No</td>\n",
              "      <td>No</td>\n",
              "      <td>1</td>\n",
              "      <td>No</td>\n",
              "      <td>Rosendahl, Mr.  Evan P</td>\n",
              "    </tr>\n",
              "    <tr>\n",
              "      <th>2</th>\n",
              "      <td>Id2333</td>\n",
              "      <td>1993</td>\n",
              "      <td>Jun</td>\n",
              "      <td>30</td>\n",
              "      <td>0</td>\n",
              "      <td>600.00</td>\n",
              "      <td>tier - 2</td>\n",
              "      <td>tier - 1</td>\n",
              "      <td>R1013</td>\n",
              "      <td>16.47</td>\n",
              "      <td>6.35</td>\n",
              "      <td>No</td>\n",
              "      <td>No</td>\n",
              "      <td>Yes</td>\n",
              "      <td>1</td>\n",
              "      <td>No</td>\n",
              "      <td>Albano, Ms.  Julie</td>\n",
              "    </tr>\n",
              "    <tr>\n",
              "      <th>3</th>\n",
              "      <td>Id2332</td>\n",
              "      <td>1992</td>\n",
              "      <td>Sep</td>\n",
              "      <td>13</td>\n",
              "      <td>0</td>\n",
              "      <td>604.54</td>\n",
              "      <td>tier - 3</td>\n",
              "      <td>tier - 3</td>\n",
              "      <td>R1013</td>\n",
              "      <td>17.70</td>\n",
              "      <td>6.28</td>\n",
              "      <td>No</td>\n",
              "      <td>No</td>\n",
              "      <td>No</td>\n",
              "      <td>1</td>\n",
              "      <td>No</td>\n",
              "      <td>Riveros Gonzalez, Mr.  Juan D. Sr.</td>\n",
              "    </tr>\n",
              "    <tr>\n",
              "      <th>4</th>\n",
              "      <td>Id2331</td>\n",
              "      <td>1998</td>\n",
              "      <td>Jul</td>\n",
              "      <td>27</td>\n",
              "      <td>0</td>\n",
              "      <td>637.26</td>\n",
              "      <td>tier - 3</td>\n",
              "      <td>tier - 3</td>\n",
              "      <td>R1013</td>\n",
              "      <td>22.34</td>\n",
              "      <td>5.57</td>\n",
              "      <td>No</td>\n",
              "      <td>No</td>\n",
              "      <td>No</td>\n",
              "      <td>1</td>\n",
              "      <td>No</td>\n",
              "      <td>Brietzke, Mr.  Jordan</td>\n",
              "    </tr>\n",
              "  </tbody>\n",
              "</table>\n",
              "</div>\n",
              "      <button class=\"colab-df-convert\" onclick=\"convertToInteractive('df-e7aba529-c2e8-4055-a0c5-fa4c7ed0e084')\"\n",
              "              title=\"Convert this dataframe to an interactive table.\"\n",
              "              style=\"display:none;\">\n",
              "        \n",
              "  <svg xmlns=\"http://www.w3.org/2000/svg\" height=\"24px\"viewBox=\"0 0 24 24\"\n",
              "       width=\"24px\">\n",
              "    <path d=\"M0 0h24v24H0V0z\" fill=\"none\"/>\n",
              "    <path d=\"M18.56 5.44l.94 2.06.94-2.06 2.06-.94-2.06-.94-.94-2.06-.94 2.06-2.06.94zm-11 1L8.5 8.5l.94-2.06 2.06-.94-2.06-.94L8.5 2.5l-.94 2.06-2.06.94zm10 10l.94 2.06.94-2.06 2.06-.94-2.06-.94-.94-2.06-.94 2.06-2.06.94z\"/><path d=\"M17.41 7.96l-1.37-1.37c-.4-.4-.92-.59-1.43-.59-.52 0-1.04.2-1.43.59L10.3 9.45l-7.72 7.72c-.78.78-.78 2.05 0 2.83L4 21.41c.39.39.9.59 1.41.59.51 0 1.02-.2 1.41-.59l7.78-7.78 2.81-2.81c.8-.78.8-2.07 0-2.86zM5.41 20L4 18.59l7.72-7.72 1.47 1.35L5.41 20z\"/>\n",
              "  </svg>\n",
              "      </button>\n",
              "      \n",
              "  <style>\n",
              "    .colab-df-container {\n",
              "      display:flex;\n",
              "      flex-wrap:wrap;\n",
              "      gap: 12px;\n",
              "    }\n",
              "\n",
              "    .colab-df-convert {\n",
              "      background-color: #E8F0FE;\n",
              "      border: none;\n",
              "      border-radius: 50%;\n",
              "      cursor: pointer;\n",
              "      display: none;\n",
              "      fill: #1967D2;\n",
              "      height: 32px;\n",
              "      padding: 0 0 0 0;\n",
              "      width: 32px;\n",
              "    }\n",
              "\n",
              "    .colab-df-convert:hover {\n",
              "      background-color: #E2EBFA;\n",
              "      box-shadow: 0px 1px 2px rgba(60, 64, 67, 0.3), 0px 1px 3px 1px rgba(60, 64, 67, 0.15);\n",
              "      fill: #174EA6;\n",
              "    }\n",
              "\n",
              "    [theme=dark] .colab-df-convert {\n",
              "      background-color: #3B4455;\n",
              "      fill: #D2E3FC;\n",
              "    }\n",
              "\n",
              "    [theme=dark] .colab-df-convert:hover {\n",
              "      background-color: #434B5C;\n",
              "      box-shadow: 0px 1px 3px 1px rgba(0, 0, 0, 0.15);\n",
              "      filter: drop-shadow(0px 1px 2px rgba(0, 0, 0, 0.3));\n",
              "      fill: #FFFFFF;\n",
              "    }\n",
              "  </style>\n",
              "\n",
              "      <script>\n",
              "        const buttonEl =\n",
              "          document.querySelector('#df-e7aba529-c2e8-4055-a0c5-fa4c7ed0e084 button.colab-df-convert');\n",
              "        buttonEl.style.display =\n",
              "          google.colab.kernel.accessAllowed ? 'block' : 'none';\n",
              "\n",
              "        async function convertToInteractive(key) {\n",
              "          const element = document.querySelector('#df-e7aba529-c2e8-4055-a0c5-fa4c7ed0e084');\n",
              "          const dataTable =\n",
              "            await google.colab.kernel.invokeFunction('convertToInteractive',\n",
              "                                                     [key], {});\n",
              "          if (!dataTable) return;\n",
              "\n",
              "          const docLinkHtml = 'Like what you see? Visit the ' +\n",
              "            '<a target=\"_blank\" href=https://colab.research.google.com/notebooks/data_table.ipynb>data table notebook</a>'\n",
              "            + ' to learn more about interactive tables.';\n",
              "          element.innerHTML = '';\n",
              "          dataTable['output_type'] = 'display_data';\n",
              "          await google.colab.output.renderOutput(dataTable, element);\n",
              "          const docLink = document.createElement('div');\n",
              "          docLink.innerHTML = docLinkHtml;\n",
              "          element.appendChild(docLink);\n",
              "        }\n",
              "      </script>\n",
              "    </div>\n",
              "  </div>\n",
              "  "
            ]
          },
          "metadata": {},
          "execution_count": 132
        }
      ]
    },
    {
      "cell_type": "code",
      "source": [
        "filtered_df.head(2)"
      ],
      "metadata": {
        "colab": {
          "base_uri": "https://localhost:8080/",
          "height": 245
        },
        "id": "1tjNzvNZ1b7r",
        "outputId": "0b8c4ac4-9b80-4cf3-f015-d08dfe3ad09c"
      },
      "execution_count": null,
      "outputs": [
        {
          "output_type": "execute_result",
          "data": {
            "text/plain": [
              "  Customer ID  year month  date  children  charges Hospital tier City tier  \\\n",
              "0      Id2335  1992   Jul     9         0   563.84      tier - 2  tier - 3   \n",
              "1      Id2334  1992   Nov    30         0   570.62      tier - 2  tier - 1   \n",
              "\n",
              "  State ID    BMI  HBA1C Heart Issues Any Transplants Cancer history  \\\n",
              "0    R1013  17.58   4.51           No              No             No   \n",
              "1    R1013  17.60   4.39           No              No             No   \n",
              "\n",
              "  NumberOfMajorSurgeries smoker                    name  \n",
              "0                      1     No    German, Mr.  Aaron K  \n",
              "1                      1     No  Rosendahl, Mr.  Evan P  "
            ],
            "text/html": [
              "\n",
              "  <div id=\"df-46e41729-3684-487c-9d77-02f5208964f2\">\n",
              "    <div class=\"colab-df-container\">\n",
              "      <div>\n",
              "<style scoped>\n",
              "    .dataframe tbody tr th:only-of-type {\n",
              "        vertical-align: middle;\n",
              "    }\n",
              "\n",
              "    .dataframe tbody tr th {\n",
              "        vertical-align: top;\n",
              "    }\n",
              "\n",
              "    .dataframe thead th {\n",
              "        text-align: right;\n",
              "    }\n",
              "</style>\n",
              "<table border=\"1\" class=\"dataframe\">\n",
              "  <thead>\n",
              "    <tr style=\"text-align: right;\">\n",
              "      <th></th>\n",
              "      <th>Customer ID</th>\n",
              "      <th>year</th>\n",
              "      <th>month</th>\n",
              "      <th>date</th>\n",
              "      <th>children</th>\n",
              "      <th>charges</th>\n",
              "      <th>Hospital tier</th>\n",
              "      <th>City tier</th>\n",
              "      <th>State ID</th>\n",
              "      <th>BMI</th>\n",
              "      <th>HBA1C</th>\n",
              "      <th>Heart Issues</th>\n",
              "      <th>Any Transplants</th>\n",
              "      <th>Cancer history</th>\n",
              "      <th>NumberOfMajorSurgeries</th>\n",
              "      <th>smoker</th>\n",
              "      <th>name</th>\n",
              "    </tr>\n",
              "  </thead>\n",
              "  <tbody>\n",
              "    <tr>\n",
              "      <th>0</th>\n",
              "      <td>Id2335</td>\n",
              "      <td>1992</td>\n",
              "      <td>Jul</td>\n",
              "      <td>9</td>\n",
              "      <td>0</td>\n",
              "      <td>563.84</td>\n",
              "      <td>tier - 2</td>\n",
              "      <td>tier - 3</td>\n",
              "      <td>R1013</td>\n",
              "      <td>17.58</td>\n",
              "      <td>4.51</td>\n",
              "      <td>No</td>\n",
              "      <td>No</td>\n",
              "      <td>No</td>\n",
              "      <td>1</td>\n",
              "      <td>No</td>\n",
              "      <td>German, Mr.  Aaron K</td>\n",
              "    </tr>\n",
              "    <tr>\n",
              "      <th>1</th>\n",
              "      <td>Id2334</td>\n",
              "      <td>1992</td>\n",
              "      <td>Nov</td>\n",
              "      <td>30</td>\n",
              "      <td>0</td>\n",
              "      <td>570.62</td>\n",
              "      <td>tier - 2</td>\n",
              "      <td>tier - 1</td>\n",
              "      <td>R1013</td>\n",
              "      <td>17.60</td>\n",
              "      <td>4.39</td>\n",
              "      <td>No</td>\n",
              "      <td>No</td>\n",
              "      <td>No</td>\n",
              "      <td>1</td>\n",
              "      <td>No</td>\n",
              "      <td>Rosendahl, Mr.  Evan P</td>\n",
              "    </tr>\n",
              "  </tbody>\n",
              "</table>\n",
              "</div>\n",
              "      <button class=\"colab-df-convert\" onclick=\"convertToInteractive('df-46e41729-3684-487c-9d77-02f5208964f2')\"\n",
              "              title=\"Convert this dataframe to an interactive table.\"\n",
              "              style=\"display:none;\">\n",
              "        \n",
              "  <svg xmlns=\"http://www.w3.org/2000/svg\" height=\"24px\"viewBox=\"0 0 24 24\"\n",
              "       width=\"24px\">\n",
              "    <path d=\"M0 0h24v24H0V0z\" fill=\"none\"/>\n",
              "    <path d=\"M18.56 5.44l.94 2.06.94-2.06 2.06-.94-2.06-.94-.94-2.06-.94 2.06-2.06.94zm-11 1L8.5 8.5l.94-2.06 2.06-.94-2.06-.94L8.5 2.5l-.94 2.06-2.06.94zm10 10l.94 2.06.94-2.06 2.06-.94-2.06-.94-.94-2.06-.94 2.06-2.06.94z\"/><path d=\"M17.41 7.96l-1.37-1.37c-.4-.4-.92-.59-1.43-.59-.52 0-1.04.2-1.43.59L10.3 9.45l-7.72 7.72c-.78.78-.78 2.05 0 2.83L4 21.41c.39.39.9.59 1.41.59.51 0 1.02-.2 1.41-.59l7.78-7.78 2.81-2.81c.8-.78.8-2.07 0-2.86zM5.41 20L4 18.59l7.72-7.72 1.47 1.35L5.41 20z\"/>\n",
              "  </svg>\n",
              "      </button>\n",
              "      \n",
              "  <style>\n",
              "    .colab-df-container {\n",
              "      display:flex;\n",
              "      flex-wrap:wrap;\n",
              "      gap: 12px;\n",
              "    }\n",
              "\n",
              "    .colab-df-convert {\n",
              "      background-color: #E8F0FE;\n",
              "      border: none;\n",
              "      border-radius: 50%;\n",
              "      cursor: pointer;\n",
              "      display: none;\n",
              "      fill: #1967D2;\n",
              "      height: 32px;\n",
              "      padding: 0 0 0 0;\n",
              "      width: 32px;\n",
              "    }\n",
              "\n",
              "    .colab-df-convert:hover {\n",
              "      background-color: #E2EBFA;\n",
              "      box-shadow: 0px 1px 2px rgba(60, 64, 67, 0.3), 0px 1px 3px 1px rgba(60, 64, 67, 0.15);\n",
              "      fill: #174EA6;\n",
              "    }\n",
              "\n",
              "    [theme=dark] .colab-df-convert {\n",
              "      background-color: #3B4455;\n",
              "      fill: #D2E3FC;\n",
              "    }\n",
              "\n",
              "    [theme=dark] .colab-df-convert:hover {\n",
              "      background-color: #434B5C;\n",
              "      box-shadow: 0px 1px 3px 1px rgba(0, 0, 0, 0.15);\n",
              "      filter: drop-shadow(0px 1px 2px rgba(0, 0, 0, 0.3));\n",
              "      fill: #FFFFFF;\n",
              "    }\n",
              "  </style>\n",
              "\n",
              "      <script>\n",
              "        const buttonEl =\n",
              "          document.querySelector('#df-46e41729-3684-487c-9d77-02f5208964f2 button.colab-df-convert');\n",
              "        buttonEl.style.display =\n",
              "          google.colab.kernel.accessAllowed ? 'block' : 'none';\n",
              "\n",
              "        async function convertToInteractive(key) {\n",
              "          const element = document.querySelector('#df-46e41729-3684-487c-9d77-02f5208964f2');\n",
              "          const dataTable =\n",
              "            await google.colab.kernel.invokeFunction('convertToInteractive',\n",
              "                                                     [key], {});\n",
              "          if (!dataTable) return;\n",
              "\n",
              "          const docLinkHtml = 'Like what you see? Visit the ' +\n",
              "            '<a target=\"_blank\" href=https://colab.research.google.com/notebooks/data_table.ipynb>data table notebook</a>'\n",
              "            + ' to learn more about interactive tables.';\n",
              "          element.innerHTML = '';\n",
              "          dataTable['output_type'] = 'display_data';\n",
              "          await google.colab.output.renderOutput(dataTable, element);\n",
              "          const docLink = document.createElement('div');\n",
              "          docLink.innerHTML = docLinkHtml;\n",
              "          element.appendChild(docLink);\n",
              "        }\n",
              "      </script>\n",
              "    </div>\n",
              "  </div>\n",
              "  "
            ]
          },
          "metadata": {},
          "execution_count": 133
        }
      ]
    },
    {
      "cell_type": "code",
      "source": [
        "df=filtered_df"
      ],
      "metadata": {
        "id": "39Mglk8_1f5_"
      },
      "execution_count": null,
      "outputs": []
    },
    {
      "cell_type": "code",
      "source": [
        "df.month.unique()"
      ],
      "metadata": {
        "colab": {
          "base_uri": "https://localhost:8080/"
        },
        "id": "ioT2erfk6BGp",
        "outputId": "1d92dd6d-1ea4-4250-f891-6b005723622b"
      },
      "execution_count": null,
      "outputs": [
        {
          "output_type": "execute_result",
          "data": {
            "text/plain": [
              "array(['Jul', 'Nov', 'Jun', 'Sep', 'Dec', 'Aug', 'Oct'], dtype=object)"
            ]
          },
          "metadata": {},
          "execution_count": 135
        }
      ]
    },
    {
      "cell_type": "code",
      "source": [
        "month_mapping = { 'Jun': 6, 'Jul': 7, 'Aug': 8,\n",
        "                 'Sep': 9, 'Oct': 10, 'Nov': 11, 'Dec': 12}\n",
        "df['month'] = df['month'].map(month_mapping)"
      ],
      "metadata": {
        "id": "wVeBriP26Edl",
        "colab": {
          "base_uri": "https://localhost:8080/"
        },
        "outputId": "58643418-a39e-4f33-c573-c1c9c9dc60fb"
      },
      "execution_count": null,
      "outputs": [
        {
          "output_type": "stream",
          "name": "stderr",
          "text": [
            "<ipython-input-136-549fa0b7cbbe>:3: SettingWithCopyWarning: \n",
            "A value is trying to be set on a copy of a slice from a DataFrame.\n",
            "Try using .loc[row_indexer,col_indexer] = value instead\n",
            "\n",
            "See the caveats in the documentation: https://pandas.pydata.org/pandas-docs/stable/user_guide/indexing.html#returning-a-view-versus-a-copy\n",
            "  df['month'] = df['month'].map(month_mapping)\n"
          ]
        }
      ]
    },
    {
      "cell_type": "code",
      "source": [
        "df.month.unique()"
      ],
      "metadata": {
        "colab": {
          "base_uri": "https://localhost:8080/"
        },
        "id": "njOmasHs8mcT",
        "outputId": "9c54ebb7-aac4-432f-e59a-09bc9cde090b"
      },
      "execution_count": null,
      "outputs": [
        {
          "output_type": "execute_result",
          "data": {
            "text/plain": [
              "array([ 7, 11,  6,  9, 12,  8, 10])"
            ]
          },
          "metadata": {},
          "execution_count": 137
        }
      ]
    },
    {
      "cell_type": "code",
      "source": [
        "df.head(2)"
      ],
      "metadata": {
        "colab": {
          "base_uri": "https://localhost:8080/",
          "height": 245
        },
        "id": "RZOsCk2k8qwr",
        "outputId": "417fcf35-47d8-40c6-e401-169512768d5f"
      },
      "execution_count": null,
      "outputs": [
        {
          "output_type": "execute_result",
          "data": {
            "text/plain": [
              "  Customer ID  year  month  date  children  charges Hospital tier City tier  \\\n",
              "0      Id2335  1992      7     9         0   563.84      tier - 2  tier - 3   \n",
              "1      Id2334  1992     11    30         0   570.62      tier - 2  tier - 1   \n",
              "\n",
              "  State ID    BMI  HBA1C Heart Issues Any Transplants Cancer history  \\\n",
              "0    R1013  17.58   4.51           No              No             No   \n",
              "1    R1013  17.60   4.39           No              No             No   \n",
              "\n",
              "  NumberOfMajorSurgeries smoker                    name  \n",
              "0                      1     No    German, Mr.  Aaron K  \n",
              "1                      1     No  Rosendahl, Mr.  Evan P  "
            ],
            "text/html": [
              "\n",
              "  <div id=\"df-32126cd1-a09c-46e1-96a0-19cc251d1448\">\n",
              "    <div class=\"colab-df-container\">\n",
              "      <div>\n",
              "<style scoped>\n",
              "    .dataframe tbody tr th:only-of-type {\n",
              "        vertical-align: middle;\n",
              "    }\n",
              "\n",
              "    .dataframe tbody tr th {\n",
              "        vertical-align: top;\n",
              "    }\n",
              "\n",
              "    .dataframe thead th {\n",
              "        text-align: right;\n",
              "    }\n",
              "</style>\n",
              "<table border=\"1\" class=\"dataframe\">\n",
              "  <thead>\n",
              "    <tr style=\"text-align: right;\">\n",
              "      <th></th>\n",
              "      <th>Customer ID</th>\n",
              "      <th>year</th>\n",
              "      <th>month</th>\n",
              "      <th>date</th>\n",
              "      <th>children</th>\n",
              "      <th>charges</th>\n",
              "      <th>Hospital tier</th>\n",
              "      <th>City tier</th>\n",
              "      <th>State ID</th>\n",
              "      <th>BMI</th>\n",
              "      <th>HBA1C</th>\n",
              "      <th>Heart Issues</th>\n",
              "      <th>Any Transplants</th>\n",
              "      <th>Cancer history</th>\n",
              "      <th>NumberOfMajorSurgeries</th>\n",
              "      <th>smoker</th>\n",
              "      <th>name</th>\n",
              "    </tr>\n",
              "  </thead>\n",
              "  <tbody>\n",
              "    <tr>\n",
              "      <th>0</th>\n",
              "      <td>Id2335</td>\n",
              "      <td>1992</td>\n",
              "      <td>7</td>\n",
              "      <td>9</td>\n",
              "      <td>0</td>\n",
              "      <td>563.84</td>\n",
              "      <td>tier - 2</td>\n",
              "      <td>tier - 3</td>\n",
              "      <td>R1013</td>\n",
              "      <td>17.58</td>\n",
              "      <td>4.51</td>\n",
              "      <td>No</td>\n",
              "      <td>No</td>\n",
              "      <td>No</td>\n",
              "      <td>1</td>\n",
              "      <td>No</td>\n",
              "      <td>German, Mr.  Aaron K</td>\n",
              "    </tr>\n",
              "    <tr>\n",
              "      <th>1</th>\n",
              "      <td>Id2334</td>\n",
              "      <td>1992</td>\n",
              "      <td>11</td>\n",
              "      <td>30</td>\n",
              "      <td>0</td>\n",
              "      <td>570.62</td>\n",
              "      <td>tier - 2</td>\n",
              "      <td>tier - 1</td>\n",
              "      <td>R1013</td>\n",
              "      <td>17.60</td>\n",
              "      <td>4.39</td>\n",
              "      <td>No</td>\n",
              "      <td>No</td>\n",
              "      <td>No</td>\n",
              "      <td>1</td>\n",
              "      <td>No</td>\n",
              "      <td>Rosendahl, Mr.  Evan P</td>\n",
              "    </tr>\n",
              "  </tbody>\n",
              "</table>\n",
              "</div>\n",
              "      <button class=\"colab-df-convert\" onclick=\"convertToInteractive('df-32126cd1-a09c-46e1-96a0-19cc251d1448')\"\n",
              "              title=\"Convert this dataframe to an interactive table.\"\n",
              "              style=\"display:none;\">\n",
              "        \n",
              "  <svg xmlns=\"http://www.w3.org/2000/svg\" height=\"24px\"viewBox=\"0 0 24 24\"\n",
              "       width=\"24px\">\n",
              "    <path d=\"M0 0h24v24H0V0z\" fill=\"none\"/>\n",
              "    <path d=\"M18.56 5.44l.94 2.06.94-2.06 2.06-.94-2.06-.94-.94-2.06-.94 2.06-2.06.94zm-11 1L8.5 8.5l.94-2.06 2.06-.94-2.06-.94L8.5 2.5l-.94 2.06-2.06.94zm10 10l.94 2.06.94-2.06 2.06-.94-2.06-.94-.94-2.06-.94 2.06-2.06.94z\"/><path d=\"M17.41 7.96l-1.37-1.37c-.4-.4-.92-.59-1.43-.59-.52 0-1.04.2-1.43.59L10.3 9.45l-7.72 7.72c-.78.78-.78 2.05 0 2.83L4 21.41c.39.39.9.59 1.41.59.51 0 1.02-.2 1.41-.59l7.78-7.78 2.81-2.81c.8-.78.8-2.07 0-2.86zM5.41 20L4 18.59l7.72-7.72 1.47 1.35L5.41 20z\"/>\n",
              "  </svg>\n",
              "      </button>\n",
              "      \n",
              "  <style>\n",
              "    .colab-df-container {\n",
              "      display:flex;\n",
              "      flex-wrap:wrap;\n",
              "      gap: 12px;\n",
              "    }\n",
              "\n",
              "    .colab-df-convert {\n",
              "      background-color: #E8F0FE;\n",
              "      border: none;\n",
              "      border-radius: 50%;\n",
              "      cursor: pointer;\n",
              "      display: none;\n",
              "      fill: #1967D2;\n",
              "      height: 32px;\n",
              "      padding: 0 0 0 0;\n",
              "      width: 32px;\n",
              "    }\n",
              "\n",
              "    .colab-df-convert:hover {\n",
              "      background-color: #E2EBFA;\n",
              "      box-shadow: 0px 1px 2px rgba(60, 64, 67, 0.3), 0px 1px 3px 1px rgba(60, 64, 67, 0.15);\n",
              "      fill: #174EA6;\n",
              "    }\n",
              "\n",
              "    [theme=dark] .colab-df-convert {\n",
              "      background-color: #3B4455;\n",
              "      fill: #D2E3FC;\n",
              "    }\n",
              "\n",
              "    [theme=dark] .colab-df-convert:hover {\n",
              "      background-color: #434B5C;\n",
              "      box-shadow: 0px 1px 3px 1px rgba(0, 0, 0, 0.15);\n",
              "      filter: drop-shadow(0px 1px 2px rgba(0, 0, 0, 0.3));\n",
              "      fill: #FFFFFF;\n",
              "    }\n",
              "  </style>\n",
              "\n",
              "      <script>\n",
              "        const buttonEl =\n",
              "          document.querySelector('#df-32126cd1-a09c-46e1-96a0-19cc251d1448 button.colab-df-convert');\n",
              "        buttonEl.style.display =\n",
              "          google.colab.kernel.accessAllowed ? 'block' : 'none';\n",
              "\n",
              "        async function convertToInteractive(key) {\n",
              "          const element = document.querySelector('#df-32126cd1-a09c-46e1-96a0-19cc251d1448');\n",
              "          const dataTable =\n",
              "            await google.colab.kernel.invokeFunction('convertToInteractive',\n",
              "                                                     [key], {});\n",
              "          if (!dataTable) return;\n",
              "\n",
              "          const docLinkHtml = 'Like what you see? Visit the ' +\n",
              "            '<a target=\"_blank\" href=https://colab.research.google.com/notebooks/data_table.ipynb>data table notebook</a>'\n",
              "            + ' to learn more about interactive tables.';\n",
              "          element.innerHTML = '';\n",
              "          dataTable['output_type'] = 'display_data';\n",
              "          await google.colab.output.renderOutput(dataTable, element);\n",
              "          const docLink = document.createElement('div');\n",
              "          docLink.innerHTML = docLinkHtml;\n",
              "          element.appendChild(docLink);\n",
              "        }\n",
              "      </script>\n",
              "    </div>\n",
              "  </div>\n",
              "  "
            ]
          },
          "metadata": {},
          "execution_count": 138
        }
      ]
    },
    {
      "cell_type": "code",
      "source": [
        "df['Hospital tier'].unique()"
      ],
      "metadata": {
        "colab": {
          "base_uri": "https://localhost:8080/"
        },
        "id": "9KybHN1N8s1x",
        "outputId": "b6008748-a3ab-4fb9-bcef-6e77ede5df0b"
      },
      "execution_count": null,
      "outputs": [
        {
          "output_type": "execute_result",
          "data": {
            "text/plain": [
              "array(['tier - 2', 'tier - 3', 'tier - 1'], dtype=object)"
            ]
          },
          "metadata": {},
          "execution_count": 139
        }
      ]
    },
    {
      "cell_type": "code",
      "source": [
        "hospitaltier_mapping = {'tier - 2': 2, 'tier - 3': 3, 'tier - 1': 1}\n",
        "df['Hospital tier'] = df['Hospital tier'].map(hospitaltier_mapping)"
      ],
      "metadata": {
        "id": "BuyQnP8R9ujm",
        "colab": {
          "base_uri": "https://localhost:8080/"
        },
        "outputId": "c01cb352-d8be-44c5-b158-6248e4439013"
      },
      "execution_count": null,
      "outputs": [
        {
          "output_type": "stream",
          "name": "stderr",
          "text": [
            "<ipython-input-140-25b1903aae59>:2: SettingWithCopyWarning: \n",
            "A value is trying to be set on a copy of a slice from a DataFrame.\n",
            "Try using .loc[row_indexer,col_indexer] = value instead\n",
            "\n",
            "See the caveats in the documentation: https://pandas.pydata.org/pandas-docs/stable/user_guide/indexing.html#returning-a-view-versus-a-copy\n",
            "  df['Hospital tier'] = df['Hospital tier'].map(hospitaltier_mapping)\n"
          ]
        }
      ]
    },
    {
      "cell_type": "code",
      "source": [
        "df['Hospital tier'].unique()"
      ],
      "metadata": {
        "colab": {
          "base_uri": "https://localhost:8080/"
        },
        "id": "oAMWkvRP_Xj1",
        "outputId": "52ce9402-aabb-4eba-fdba-de43659f44f7"
      },
      "execution_count": null,
      "outputs": [
        {
          "output_type": "execute_result",
          "data": {
            "text/plain": [
              "array([2, 3, 1])"
            ]
          },
          "metadata": {},
          "execution_count": 141
        }
      ]
    },
    {
      "cell_type": "code",
      "source": [
        "df['City tier'].unique()"
      ],
      "metadata": {
        "colab": {
          "base_uri": "https://localhost:8080/"
        },
        "id": "dh2F_NDJ_vbX",
        "outputId": "7e395146-2e12-41b2-f0ce-37338a620a76"
      },
      "execution_count": null,
      "outputs": [
        {
          "output_type": "execute_result",
          "data": {
            "text/plain": [
              "array(['tier - 3', 'tier - 1', 'tier - 2'], dtype=object)"
            ]
          },
          "metadata": {},
          "execution_count": 142
        }
      ]
    },
    {
      "cell_type": "code",
      "source": [
        "Citytier_mapping = {'tier - 2': 2, 'tier - 3': 3, 'tier - 1': 1}\n",
        "df['City tier'] = df['City tier'].map(Citytier_mapping)"
      ],
      "metadata": {
        "id": "9GBi9ocX_7Pe",
        "colab": {
          "base_uri": "https://localhost:8080/"
        },
        "outputId": "d0c62ec8-ae80-4bd9-d881-2d22003d657c"
      },
      "execution_count": null,
      "outputs": [
        {
          "output_type": "stream",
          "name": "stderr",
          "text": [
            "<ipython-input-143-a199ff06fd65>:2: SettingWithCopyWarning: \n",
            "A value is trying to be set on a copy of a slice from a DataFrame.\n",
            "Try using .loc[row_indexer,col_indexer] = value instead\n",
            "\n",
            "See the caveats in the documentation: https://pandas.pydata.org/pandas-docs/stable/user_guide/indexing.html#returning-a-view-versus-a-copy\n",
            "  df['City tier'] = df['City tier'].map(Citytier_mapping)\n"
          ]
        }
      ]
    },
    {
      "cell_type": "code",
      "source": [
        "df['City tier'].unique()"
      ],
      "metadata": {
        "colab": {
          "base_uri": "https://localhost:8080/"
        },
        "id": "CtrALu3iAZja",
        "outputId": "048ceee7-9d67-4391-f790-e97e3a096ff6"
      },
      "execution_count": null,
      "outputs": [
        {
          "output_type": "execute_result",
          "data": {
            "text/plain": [
              "array([3, 1, 2])"
            ]
          },
          "metadata": {},
          "execution_count": 144
        }
      ]
    },
    {
      "cell_type": "code",
      "source": [
        "df['State ID'].unique()"
      ],
      "metadata": {
        "colab": {
          "base_uri": "https://localhost:8080/"
        },
        "id": "Shs9deHUAc2q",
        "outputId": "9d070b7f-6fd9-45c0-ed96-fd94f737153a"
      },
      "execution_count": null,
      "outputs": [
        {
          "output_type": "execute_result",
          "data": {
            "text/plain": [
              "array(['R1013', 'R1012', 'R1011', 'R1015', 'R1019', 'R1016', 'R1018',\n",
              "       'R1025', 'R1024', 'R1023', 'R1014', 'R1021', 'R1017', 'R1020',\n",
              "       'R1026', 'R1022'], dtype=object)"
            ]
          },
          "metadata": {},
          "execution_count": 145
        }
      ]
    },
    {
      "cell_type": "code",
      "source": [
        "# Create a new column to store the dummy variable information\n",
        "df['State_Category'] = 'Other'\n",
        "\n",
        "# Assign the states of interest to the 'State_Category' column\n",
        "df.loc[df['State ID'].isin(['R1011', 'R1012', 'R1013']), 'State_Category'] = df['State ID']\n",
        "\n",
        "# Create dummy variables for the 'State_Category' column\n",
        "df_states = pd.get_dummies(df['State_Category'], prefix='State')\n",
        "\n",
        "# Concatenate the dummy variables with the original dataframe\n",
        "df = pd.concat([df, df_states], axis=1)\n",
        "\n",
        "# Drop the 'State_Category' column and one dummy variable (e.g., 'State_Other')\n",
        "df.drop(['State_Category', 'State_Other'], axis=1, inplace=True)\n"
      ],
      "metadata": {
        "colab": {
          "base_uri": "https://localhost:8080/"
        },
        "id": "zHNxwLoDoc2K",
        "outputId": "e80c63a1-bc7f-4a1b-9399-841f8a2c0ba1"
      },
      "execution_count": null,
      "outputs": [
        {
          "output_type": "stream",
          "name": "stderr",
          "text": [
            "<ipython-input-146-461befd784c9>:2: SettingWithCopyWarning: \n",
            "A value is trying to be set on a copy of a slice from a DataFrame.\n",
            "Try using .loc[row_indexer,col_indexer] = value instead\n",
            "\n",
            "See the caveats in the documentation: https://pandas.pydata.org/pandas-docs/stable/user_guide/indexing.html#returning-a-view-versus-a-copy\n",
            "  df['State_Category'] = 'Other'\n"
          ]
        }
      ]
    },
    {
      "cell_type": "code",
      "source": [
        "df.head(2)"
      ],
      "metadata": {
        "colab": {
          "base_uri": "https://localhost:8080/",
          "height": 245
        },
        "id": "Ybhsc-G6onza",
        "outputId": "1a95b109-feab-4e99-ef6e-68142a26676b"
      },
      "execution_count": null,
      "outputs": [
        {
          "output_type": "execute_result",
          "data": {
            "text/plain": [
              "  Customer ID  year  month  date  children  charges  Hospital tier  City tier  \\\n",
              "0      Id2335  1992      7     9         0   563.84              2          3   \n",
              "1      Id2334  1992     11    30         0   570.62              2          1   \n",
              "\n",
              "  State ID    BMI  HBA1C Heart Issues Any Transplants Cancer history  \\\n",
              "0    R1013  17.58   4.51           No              No             No   \n",
              "1    R1013  17.60   4.39           No              No             No   \n",
              "\n",
              "  NumberOfMajorSurgeries smoker                    name  State_R1011  \\\n",
              "0                      1     No    German, Mr.  Aaron K            0   \n",
              "1                      1     No  Rosendahl, Mr.  Evan P            0   \n",
              "\n",
              "   State_R1012  State_R1013  \n",
              "0            0            1  \n",
              "1            0            1  "
            ],
            "text/html": [
              "\n",
              "  <div id=\"df-f25e8957-d536-4126-9dda-e43323b41411\">\n",
              "    <div class=\"colab-df-container\">\n",
              "      <div>\n",
              "<style scoped>\n",
              "    .dataframe tbody tr th:only-of-type {\n",
              "        vertical-align: middle;\n",
              "    }\n",
              "\n",
              "    .dataframe tbody tr th {\n",
              "        vertical-align: top;\n",
              "    }\n",
              "\n",
              "    .dataframe thead th {\n",
              "        text-align: right;\n",
              "    }\n",
              "</style>\n",
              "<table border=\"1\" class=\"dataframe\">\n",
              "  <thead>\n",
              "    <tr style=\"text-align: right;\">\n",
              "      <th></th>\n",
              "      <th>Customer ID</th>\n",
              "      <th>year</th>\n",
              "      <th>month</th>\n",
              "      <th>date</th>\n",
              "      <th>children</th>\n",
              "      <th>charges</th>\n",
              "      <th>Hospital tier</th>\n",
              "      <th>City tier</th>\n",
              "      <th>State ID</th>\n",
              "      <th>BMI</th>\n",
              "      <th>HBA1C</th>\n",
              "      <th>Heart Issues</th>\n",
              "      <th>Any Transplants</th>\n",
              "      <th>Cancer history</th>\n",
              "      <th>NumberOfMajorSurgeries</th>\n",
              "      <th>smoker</th>\n",
              "      <th>name</th>\n",
              "      <th>State_R1011</th>\n",
              "      <th>State_R1012</th>\n",
              "      <th>State_R1013</th>\n",
              "    </tr>\n",
              "  </thead>\n",
              "  <tbody>\n",
              "    <tr>\n",
              "      <th>0</th>\n",
              "      <td>Id2335</td>\n",
              "      <td>1992</td>\n",
              "      <td>7</td>\n",
              "      <td>9</td>\n",
              "      <td>0</td>\n",
              "      <td>563.84</td>\n",
              "      <td>2</td>\n",
              "      <td>3</td>\n",
              "      <td>R1013</td>\n",
              "      <td>17.58</td>\n",
              "      <td>4.51</td>\n",
              "      <td>No</td>\n",
              "      <td>No</td>\n",
              "      <td>No</td>\n",
              "      <td>1</td>\n",
              "      <td>No</td>\n",
              "      <td>German, Mr.  Aaron K</td>\n",
              "      <td>0</td>\n",
              "      <td>0</td>\n",
              "      <td>1</td>\n",
              "    </tr>\n",
              "    <tr>\n",
              "      <th>1</th>\n",
              "      <td>Id2334</td>\n",
              "      <td>1992</td>\n",
              "      <td>11</td>\n",
              "      <td>30</td>\n",
              "      <td>0</td>\n",
              "      <td>570.62</td>\n",
              "      <td>2</td>\n",
              "      <td>1</td>\n",
              "      <td>R1013</td>\n",
              "      <td>17.60</td>\n",
              "      <td>4.39</td>\n",
              "      <td>No</td>\n",
              "      <td>No</td>\n",
              "      <td>No</td>\n",
              "      <td>1</td>\n",
              "      <td>No</td>\n",
              "      <td>Rosendahl, Mr.  Evan P</td>\n",
              "      <td>0</td>\n",
              "      <td>0</td>\n",
              "      <td>1</td>\n",
              "    </tr>\n",
              "  </tbody>\n",
              "</table>\n",
              "</div>\n",
              "      <button class=\"colab-df-convert\" onclick=\"convertToInteractive('df-f25e8957-d536-4126-9dda-e43323b41411')\"\n",
              "              title=\"Convert this dataframe to an interactive table.\"\n",
              "              style=\"display:none;\">\n",
              "        \n",
              "  <svg xmlns=\"http://www.w3.org/2000/svg\" height=\"24px\"viewBox=\"0 0 24 24\"\n",
              "       width=\"24px\">\n",
              "    <path d=\"M0 0h24v24H0V0z\" fill=\"none\"/>\n",
              "    <path d=\"M18.56 5.44l.94 2.06.94-2.06 2.06-.94-2.06-.94-.94-2.06-.94 2.06-2.06.94zm-11 1L8.5 8.5l.94-2.06 2.06-.94-2.06-.94L8.5 2.5l-.94 2.06-2.06.94zm10 10l.94 2.06.94-2.06 2.06-.94-2.06-.94-.94-2.06-.94 2.06-2.06.94z\"/><path d=\"M17.41 7.96l-1.37-1.37c-.4-.4-.92-.59-1.43-.59-.52 0-1.04.2-1.43.59L10.3 9.45l-7.72 7.72c-.78.78-.78 2.05 0 2.83L4 21.41c.39.39.9.59 1.41.59.51 0 1.02-.2 1.41-.59l7.78-7.78 2.81-2.81c.8-.78.8-2.07 0-2.86zM5.41 20L4 18.59l7.72-7.72 1.47 1.35L5.41 20z\"/>\n",
              "  </svg>\n",
              "      </button>\n",
              "      \n",
              "  <style>\n",
              "    .colab-df-container {\n",
              "      display:flex;\n",
              "      flex-wrap:wrap;\n",
              "      gap: 12px;\n",
              "    }\n",
              "\n",
              "    .colab-df-convert {\n",
              "      background-color: #E8F0FE;\n",
              "      border: none;\n",
              "      border-radius: 50%;\n",
              "      cursor: pointer;\n",
              "      display: none;\n",
              "      fill: #1967D2;\n",
              "      height: 32px;\n",
              "      padding: 0 0 0 0;\n",
              "      width: 32px;\n",
              "    }\n",
              "\n",
              "    .colab-df-convert:hover {\n",
              "      background-color: #E2EBFA;\n",
              "      box-shadow: 0px 1px 2px rgba(60, 64, 67, 0.3), 0px 1px 3px 1px rgba(60, 64, 67, 0.15);\n",
              "      fill: #174EA6;\n",
              "    }\n",
              "\n",
              "    [theme=dark] .colab-df-convert {\n",
              "      background-color: #3B4455;\n",
              "      fill: #D2E3FC;\n",
              "    }\n",
              "\n",
              "    [theme=dark] .colab-df-convert:hover {\n",
              "      background-color: #434B5C;\n",
              "      box-shadow: 0px 1px 3px 1px rgba(0, 0, 0, 0.15);\n",
              "      filter: drop-shadow(0px 1px 2px rgba(0, 0, 0, 0.3));\n",
              "      fill: #FFFFFF;\n",
              "    }\n",
              "  </style>\n",
              "\n",
              "      <script>\n",
              "        const buttonEl =\n",
              "          document.querySelector('#df-f25e8957-d536-4126-9dda-e43323b41411 button.colab-df-convert');\n",
              "        buttonEl.style.display =\n",
              "          google.colab.kernel.accessAllowed ? 'block' : 'none';\n",
              "\n",
              "        async function convertToInteractive(key) {\n",
              "          const element = document.querySelector('#df-f25e8957-d536-4126-9dda-e43323b41411');\n",
              "          const dataTable =\n",
              "            await google.colab.kernel.invokeFunction('convertToInteractive',\n",
              "                                                     [key], {});\n",
              "          if (!dataTable) return;\n",
              "\n",
              "          const docLinkHtml = 'Like what you see? Visit the ' +\n",
              "            '<a target=\"_blank\" href=https://colab.research.google.com/notebooks/data_table.ipynb>data table notebook</a>'\n",
              "            + ' to learn more about interactive tables.';\n",
              "          element.innerHTML = '';\n",
              "          dataTable['output_type'] = 'display_data';\n",
              "          await google.colab.output.renderOutput(dataTable, element);\n",
              "          const docLink = document.createElement('div');\n",
              "          docLink.innerHTML = docLinkHtml;\n",
              "          element.appendChild(docLink);\n",
              "        }\n",
              "      </script>\n",
              "    </div>\n",
              "  </div>\n",
              "  "
            ]
          },
          "metadata": {},
          "execution_count": 147
        }
      ]
    },
    {
      "cell_type": "code",
      "source": [
        "df['Heart Issues'].unique()"
      ],
      "metadata": {
        "colab": {
          "base_uri": "https://localhost:8080/"
        },
        "id": "Je-1JAk7pWwt",
        "outputId": "6c5e0676-2acc-4847-cdb4-f10e9cf6b7c6"
      },
      "execution_count": null,
      "outputs": [
        {
          "output_type": "execute_result",
          "data": {
            "text/plain": [
              "array(['No', 'yes'], dtype=object)"
            ]
          },
          "metadata": {},
          "execution_count": 148
        }
      ]
    },
    {
      "cell_type": "code",
      "source": [
        "# Use binary encoding \n",
        "#Replace \"Yes\" with 1 to indicate the presence of heart issues.\n",
        "#Replace \"No\" with 0 to indicate the absence of heart issues.\n",
        "# Replace \"Yes\" with 1 and \"No\" with 0\n",
        "df['Heart Issues'] = df['Heart Issues'].replace({'yes': 1, 'No': 0})\n"
      ],
      "metadata": {
        "id": "xZniN6ESpfuM"
      },
      "execution_count": null,
      "outputs": []
    },
    {
      "cell_type": "code",
      "source": [
        "df['Heart Issues'].unique()"
      ],
      "metadata": {
        "colab": {
          "base_uri": "https://localhost:8080/"
        },
        "id": "tWlVGJ8mrV8s",
        "outputId": "977a49be-03dd-4a98-b812-b981202a0430"
      },
      "execution_count": null,
      "outputs": [
        {
          "output_type": "execute_result",
          "data": {
            "text/plain": [
              "array([0, 1])"
            ]
          },
          "metadata": {},
          "execution_count": 150
        }
      ]
    },
    {
      "cell_type": "code",
      "source": [
        "df['Any Transplants'].unique()"
      ],
      "metadata": {
        "colab": {
          "base_uri": "https://localhost:8080/"
        },
        "id": "Y7SANPSXropG",
        "outputId": "5277e942-7be9-4f04-ce44-45c5bc66908e"
      },
      "execution_count": null,
      "outputs": [
        {
          "output_type": "execute_result",
          "data": {
            "text/plain": [
              "array(['No', 'yes'], dtype=object)"
            ]
          },
          "metadata": {},
          "execution_count": 151
        }
      ]
    },
    {
      "cell_type": "code",
      "source": [
        "# Use binary encoding \n",
        "#Replace \"Yes\" with 1 to indicate the Transplants.\n",
        "#Replace \"No\" with 0 to indicate the non Transplants.\n",
        "# Replace \"Yes\" with 1 and \"No\" with 0\n",
        "df['Any Transplants'] = df['Any Transplants'].replace({'yes': 1, 'No': 0})"
      ],
      "metadata": {
        "id": "-LzNxgaZr0-N"
      },
      "execution_count": null,
      "outputs": []
    },
    {
      "cell_type": "code",
      "source": [
        "df['Any Transplants'].unique()"
      ],
      "metadata": {
        "colab": {
          "base_uri": "https://localhost:8080/"
        },
        "id": "AGtotMcisy5h",
        "outputId": "7eb1446f-5e6c-46d4-e634-257d83e6dfa9"
      },
      "execution_count": null,
      "outputs": [
        {
          "output_type": "execute_result",
          "data": {
            "text/plain": [
              "array([0, 1])"
            ]
          },
          "metadata": {},
          "execution_count": 153
        }
      ]
    },
    {
      "cell_type": "code",
      "source": [
        "df['Cancer history'].unique()"
      ],
      "metadata": {
        "colab": {
          "base_uri": "https://localhost:8080/"
        },
        "id": "BuDzDKJNs6Zk",
        "outputId": "4c111072-9b00-4d6f-c9a0-0d392888dcfb"
      },
      "execution_count": null,
      "outputs": [
        {
          "output_type": "execute_result",
          "data": {
            "text/plain": [
              "array(['No', 'Yes'], dtype=object)"
            ]
          },
          "metadata": {},
          "execution_count": 154
        }
      ]
    },
    {
      "cell_type": "code",
      "source": [
        "# Use binary encoding \n",
        "#Replace \"Yes\" with 1 to indicate presence of cancer.\n",
        "#Replace \"No\" with 0 to indicate absence of cancer.\n",
        "# Replace \"Yes\" with 1 and \"No\" with 0\n",
        "df['Cancer history'] = df['Cancer history'].replace({'Yes': 1, 'No': 0})"
      ],
      "metadata": {
        "id": "-x82Q4xDtE1r"
      },
      "execution_count": null,
      "outputs": []
    },
    {
      "cell_type": "code",
      "source": [
        "df['Cancer history'].unique()"
      ],
      "metadata": {
        "colab": {
          "base_uri": "https://localhost:8080/"
        },
        "id": "1F_VkQXZt0Z_",
        "outputId": "96df2a1f-9111-41c2-d942-fe7a19a740b0"
      },
      "execution_count": null,
      "outputs": [
        {
          "output_type": "execute_result",
          "data": {
            "text/plain": [
              "array([0, 1])"
            ]
          },
          "metadata": {},
          "execution_count": 156
        }
      ]
    },
    {
      "cell_type": "code",
      "source": [
        "df.head(2)"
      ],
      "metadata": {
        "colab": {
          "base_uri": "https://localhost:8080/",
          "height": 245
        },
        "id": "oCyaPi5ft8K9",
        "outputId": "3591ab02-ff19-494a-b929-b2431ed9a8c2"
      },
      "execution_count": null,
      "outputs": [
        {
          "output_type": "execute_result",
          "data": {
            "text/plain": [
              "  Customer ID  year  month  date  children  charges  Hospital tier  City tier  \\\n",
              "0      Id2335  1992      7     9         0   563.84              2          3   \n",
              "1      Id2334  1992     11    30         0   570.62              2          1   \n",
              "\n",
              "  State ID    BMI  HBA1C  Heart Issues  Any Transplants  Cancer history  \\\n",
              "0    R1013  17.58   4.51             0                0               0   \n",
              "1    R1013  17.60   4.39             0                0               0   \n",
              "\n",
              "  NumberOfMajorSurgeries smoker                    name  State_R1011  \\\n",
              "0                      1     No    German, Mr.  Aaron K            0   \n",
              "1                      1     No  Rosendahl, Mr.  Evan P            0   \n",
              "\n",
              "   State_R1012  State_R1013  \n",
              "0            0            1  \n",
              "1            0            1  "
            ],
            "text/html": [
              "\n",
              "  <div id=\"df-a383308b-d3c8-4a99-8c22-03017f3456b5\">\n",
              "    <div class=\"colab-df-container\">\n",
              "      <div>\n",
              "<style scoped>\n",
              "    .dataframe tbody tr th:only-of-type {\n",
              "        vertical-align: middle;\n",
              "    }\n",
              "\n",
              "    .dataframe tbody tr th {\n",
              "        vertical-align: top;\n",
              "    }\n",
              "\n",
              "    .dataframe thead th {\n",
              "        text-align: right;\n",
              "    }\n",
              "</style>\n",
              "<table border=\"1\" class=\"dataframe\">\n",
              "  <thead>\n",
              "    <tr style=\"text-align: right;\">\n",
              "      <th></th>\n",
              "      <th>Customer ID</th>\n",
              "      <th>year</th>\n",
              "      <th>month</th>\n",
              "      <th>date</th>\n",
              "      <th>children</th>\n",
              "      <th>charges</th>\n",
              "      <th>Hospital tier</th>\n",
              "      <th>City tier</th>\n",
              "      <th>State ID</th>\n",
              "      <th>BMI</th>\n",
              "      <th>HBA1C</th>\n",
              "      <th>Heart Issues</th>\n",
              "      <th>Any Transplants</th>\n",
              "      <th>Cancer history</th>\n",
              "      <th>NumberOfMajorSurgeries</th>\n",
              "      <th>smoker</th>\n",
              "      <th>name</th>\n",
              "      <th>State_R1011</th>\n",
              "      <th>State_R1012</th>\n",
              "      <th>State_R1013</th>\n",
              "    </tr>\n",
              "  </thead>\n",
              "  <tbody>\n",
              "    <tr>\n",
              "      <th>0</th>\n",
              "      <td>Id2335</td>\n",
              "      <td>1992</td>\n",
              "      <td>7</td>\n",
              "      <td>9</td>\n",
              "      <td>0</td>\n",
              "      <td>563.84</td>\n",
              "      <td>2</td>\n",
              "      <td>3</td>\n",
              "      <td>R1013</td>\n",
              "      <td>17.58</td>\n",
              "      <td>4.51</td>\n",
              "      <td>0</td>\n",
              "      <td>0</td>\n",
              "      <td>0</td>\n",
              "      <td>1</td>\n",
              "      <td>No</td>\n",
              "      <td>German, Mr.  Aaron K</td>\n",
              "      <td>0</td>\n",
              "      <td>0</td>\n",
              "      <td>1</td>\n",
              "    </tr>\n",
              "    <tr>\n",
              "      <th>1</th>\n",
              "      <td>Id2334</td>\n",
              "      <td>1992</td>\n",
              "      <td>11</td>\n",
              "      <td>30</td>\n",
              "      <td>0</td>\n",
              "      <td>570.62</td>\n",
              "      <td>2</td>\n",
              "      <td>1</td>\n",
              "      <td>R1013</td>\n",
              "      <td>17.60</td>\n",
              "      <td>4.39</td>\n",
              "      <td>0</td>\n",
              "      <td>0</td>\n",
              "      <td>0</td>\n",
              "      <td>1</td>\n",
              "      <td>No</td>\n",
              "      <td>Rosendahl, Mr.  Evan P</td>\n",
              "      <td>0</td>\n",
              "      <td>0</td>\n",
              "      <td>1</td>\n",
              "    </tr>\n",
              "  </tbody>\n",
              "</table>\n",
              "</div>\n",
              "      <button class=\"colab-df-convert\" onclick=\"convertToInteractive('df-a383308b-d3c8-4a99-8c22-03017f3456b5')\"\n",
              "              title=\"Convert this dataframe to an interactive table.\"\n",
              "              style=\"display:none;\">\n",
              "        \n",
              "  <svg xmlns=\"http://www.w3.org/2000/svg\" height=\"24px\"viewBox=\"0 0 24 24\"\n",
              "       width=\"24px\">\n",
              "    <path d=\"M0 0h24v24H0V0z\" fill=\"none\"/>\n",
              "    <path d=\"M18.56 5.44l.94 2.06.94-2.06 2.06-.94-2.06-.94-.94-2.06-.94 2.06-2.06.94zm-11 1L8.5 8.5l.94-2.06 2.06-.94-2.06-.94L8.5 2.5l-.94 2.06-2.06.94zm10 10l.94 2.06.94-2.06 2.06-.94-2.06-.94-.94-2.06-.94 2.06-2.06.94z\"/><path d=\"M17.41 7.96l-1.37-1.37c-.4-.4-.92-.59-1.43-.59-.52 0-1.04.2-1.43.59L10.3 9.45l-7.72 7.72c-.78.78-.78 2.05 0 2.83L4 21.41c.39.39.9.59 1.41.59.51 0 1.02-.2 1.41-.59l7.78-7.78 2.81-2.81c.8-.78.8-2.07 0-2.86zM5.41 20L4 18.59l7.72-7.72 1.47 1.35L5.41 20z\"/>\n",
              "  </svg>\n",
              "      </button>\n",
              "      \n",
              "  <style>\n",
              "    .colab-df-container {\n",
              "      display:flex;\n",
              "      flex-wrap:wrap;\n",
              "      gap: 12px;\n",
              "    }\n",
              "\n",
              "    .colab-df-convert {\n",
              "      background-color: #E8F0FE;\n",
              "      border: none;\n",
              "      border-radius: 50%;\n",
              "      cursor: pointer;\n",
              "      display: none;\n",
              "      fill: #1967D2;\n",
              "      height: 32px;\n",
              "      padding: 0 0 0 0;\n",
              "      width: 32px;\n",
              "    }\n",
              "\n",
              "    .colab-df-convert:hover {\n",
              "      background-color: #E2EBFA;\n",
              "      box-shadow: 0px 1px 2px rgba(60, 64, 67, 0.3), 0px 1px 3px 1px rgba(60, 64, 67, 0.15);\n",
              "      fill: #174EA6;\n",
              "    }\n",
              "\n",
              "    [theme=dark] .colab-df-convert {\n",
              "      background-color: #3B4455;\n",
              "      fill: #D2E3FC;\n",
              "    }\n",
              "\n",
              "    [theme=dark] .colab-df-convert:hover {\n",
              "      background-color: #434B5C;\n",
              "      box-shadow: 0px 1px 3px 1px rgba(0, 0, 0, 0.15);\n",
              "      filter: drop-shadow(0px 1px 2px rgba(0, 0, 0, 0.3));\n",
              "      fill: #FFFFFF;\n",
              "    }\n",
              "  </style>\n",
              "\n",
              "      <script>\n",
              "        const buttonEl =\n",
              "          document.querySelector('#df-a383308b-d3c8-4a99-8c22-03017f3456b5 button.colab-df-convert');\n",
              "        buttonEl.style.display =\n",
              "          google.colab.kernel.accessAllowed ? 'block' : 'none';\n",
              "\n",
              "        async function convertToInteractive(key) {\n",
              "          const element = document.querySelector('#df-a383308b-d3c8-4a99-8c22-03017f3456b5');\n",
              "          const dataTable =\n",
              "            await google.colab.kernel.invokeFunction('convertToInteractive',\n",
              "                                                     [key], {});\n",
              "          if (!dataTable) return;\n",
              "\n",
              "          const docLinkHtml = 'Like what you see? Visit the ' +\n",
              "            '<a target=\"_blank\" href=https://colab.research.google.com/notebooks/data_table.ipynb>data table notebook</a>'\n",
              "            + ' to learn more about interactive tables.';\n",
              "          element.innerHTML = '';\n",
              "          dataTable['output_type'] = 'display_data';\n",
              "          await google.colab.output.renderOutput(dataTable, element);\n",
              "          const docLink = document.createElement('div');\n",
              "          docLink.innerHTML = docLinkHtml;\n",
              "          element.appendChild(docLink);\n",
              "        }\n",
              "      </script>\n",
              "    </div>\n",
              "  </div>\n",
              "  "
            ]
          },
          "metadata": {},
          "execution_count": 157
        }
      ]
    },
    {
      "cell_type": "code",
      "source": [
        "df['smoker'].unique()"
      ],
      "metadata": {
        "colab": {
          "base_uri": "https://localhost:8080/"
        },
        "id": "PFGGHye2t-rh",
        "outputId": "8c95d725-c2e2-4e20-ffe8-799833b56146"
      },
      "execution_count": null,
      "outputs": [
        {
          "output_type": "execute_result",
          "data": {
            "text/plain": [
              "array(['No', 'yes'], dtype=object)"
            ]
          },
          "metadata": {},
          "execution_count": 158
        }
      ]
    },
    {
      "cell_type": "code",
      "source": [
        "# Use binary encoding \n",
        "#Replace \"Yes\" with 1 to indicate smoker.\n",
        "#Replace \"No\" with 0 to indicate no smoker.\n",
        "# Replace \"Yes\" with 1 and \"No\" with 0\n",
        "df['smoker'] = df['smoker'].replace({'yes': 1, 'No': 0})"
      ],
      "metadata": {
        "id": "iSLINOgbzecU"
      },
      "execution_count": null,
      "outputs": []
    },
    {
      "cell_type": "code",
      "source": [
        "df['NumberOfMajorSurgeries'].unique()"
      ],
      "metadata": {
        "colab": {
          "base_uri": "https://localhost:8080/"
        },
        "id": "41yWVvxpzw4f",
        "outputId": "0abef7f4-e0f7-49c5-d903-26f8a384fb9e"
      },
      "execution_count": null,
      "outputs": [
        {
          "output_type": "execute_result",
          "data": {
            "text/plain": [
              "array(['1', 'No major surgery', '2', '3'], dtype=object)"
            ]
          },
          "metadata": {},
          "execution_count": 160
        }
      ]
    },
    {
      "cell_type": "code",
      "source": [
        "# Replace 'No major surgery' with 0\n",
        "df['NumberOfMajorSurgeries'] = df['NumberOfMajorSurgeries'].replace('No major surgery', 0)\n",
        "\n",
        "# Convert the remaining string values to integers\n",
        "df['NumberOfMajorSurgeries'] = pd.to_numeric(df['NumberOfMajorSurgeries'], errors='coerce')\n"
      ],
      "metadata": {
        "id": "cv17VLq30BnA"
      },
      "execution_count": null,
      "outputs": []
    },
    {
      "cell_type": "code",
      "source": [
        "df['NumberOfMajorSurgeries'].unique()"
      ],
      "metadata": {
        "colab": {
          "base_uri": "https://localhost:8080/"
        },
        "id": "nCpbaOoq3Ou3",
        "outputId": "8c620011-ea43-4172-bad8-6867053ca54d"
      },
      "execution_count": null,
      "outputs": [
        {
          "output_type": "execute_result",
          "data": {
            "text/plain": [
              "array([1, 0, 2, 3])"
            ]
          },
          "metadata": {},
          "execution_count": 162
        }
      ]
    },
    {
      "cell_type": "code",
      "source": [
        "df.head(2)"
      ],
      "metadata": {
        "colab": {
          "base_uri": "https://localhost:8080/",
          "height": 245
        },
        "id": "DyyEOSXHBSdD",
        "outputId": "d52fc6e7-2a2c-494b-a900-38bfe3e66f11"
      },
      "execution_count": null,
      "outputs": [
        {
          "output_type": "execute_result",
          "data": {
            "text/plain": [
              "  Customer ID  year  month  date  children  charges  Hospital tier  City tier  \\\n",
              "0      Id2335  1992      7     9         0   563.84              2          3   \n",
              "1      Id2334  1992     11    30         0   570.62              2          1   \n",
              "\n",
              "  State ID    BMI  HBA1C  Heart Issues  Any Transplants  Cancer history  \\\n",
              "0    R1013  17.58   4.51             0                0               0   \n",
              "1    R1013  17.60   4.39             0                0               0   \n",
              "\n",
              "   NumberOfMajorSurgeries  smoker                    name  State_R1011  \\\n",
              "0                       1       0    German, Mr.  Aaron K            0   \n",
              "1                       1       0  Rosendahl, Mr.  Evan P            0   \n",
              "\n",
              "   State_R1012  State_R1013  \n",
              "0            0            1  \n",
              "1            0            1  "
            ],
            "text/html": [
              "\n",
              "  <div id=\"df-598cbd72-76ac-4e3f-a2a4-057ff86e56b5\">\n",
              "    <div class=\"colab-df-container\">\n",
              "      <div>\n",
              "<style scoped>\n",
              "    .dataframe tbody tr th:only-of-type {\n",
              "        vertical-align: middle;\n",
              "    }\n",
              "\n",
              "    .dataframe tbody tr th {\n",
              "        vertical-align: top;\n",
              "    }\n",
              "\n",
              "    .dataframe thead th {\n",
              "        text-align: right;\n",
              "    }\n",
              "</style>\n",
              "<table border=\"1\" class=\"dataframe\">\n",
              "  <thead>\n",
              "    <tr style=\"text-align: right;\">\n",
              "      <th></th>\n",
              "      <th>Customer ID</th>\n",
              "      <th>year</th>\n",
              "      <th>month</th>\n",
              "      <th>date</th>\n",
              "      <th>children</th>\n",
              "      <th>charges</th>\n",
              "      <th>Hospital tier</th>\n",
              "      <th>City tier</th>\n",
              "      <th>State ID</th>\n",
              "      <th>BMI</th>\n",
              "      <th>HBA1C</th>\n",
              "      <th>Heart Issues</th>\n",
              "      <th>Any Transplants</th>\n",
              "      <th>Cancer history</th>\n",
              "      <th>NumberOfMajorSurgeries</th>\n",
              "      <th>smoker</th>\n",
              "      <th>name</th>\n",
              "      <th>State_R1011</th>\n",
              "      <th>State_R1012</th>\n",
              "      <th>State_R1013</th>\n",
              "    </tr>\n",
              "  </thead>\n",
              "  <tbody>\n",
              "    <tr>\n",
              "      <th>0</th>\n",
              "      <td>Id2335</td>\n",
              "      <td>1992</td>\n",
              "      <td>7</td>\n",
              "      <td>9</td>\n",
              "      <td>0</td>\n",
              "      <td>563.84</td>\n",
              "      <td>2</td>\n",
              "      <td>3</td>\n",
              "      <td>R1013</td>\n",
              "      <td>17.58</td>\n",
              "      <td>4.51</td>\n",
              "      <td>0</td>\n",
              "      <td>0</td>\n",
              "      <td>0</td>\n",
              "      <td>1</td>\n",
              "      <td>0</td>\n",
              "      <td>German, Mr.  Aaron K</td>\n",
              "      <td>0</td>\n",
              "      <td>0</td>\n",
              "      <td>1</td>\n",
              "    </tr>\n",
              "    <tr>\n",
              "      <th>1</th>\n",
              "      <td>Id2334</td>\n",
              "      <td>1992</td>\n",
              "      <td>11</td>\n",
              "      <td>30</td>\n",
              "      <td>0</td>\n",
              "      <td>570.62</td>\n",
              "      <td>2</td>\n",
              "      <td>1</td>\n",
              "      <td>R1013</td>\n",
              "      <td>17.60</td>\n",
              "      <td>4.39</td>\n",
              "      <td>0</td>\n",
              "      <td>0</td>\n",
              "      <td>0</td>\n",
              "      <td>1</td>\n",
              "      <td>0</td>\n",
              "      <td>Rosendahl, Mr.  Evan P</td>\n",
              "      <td>0</td>\n",
              "      <td>0</td>\n",
              "      <td>1</td>\n",
              "    </tr>\n",
              "  </tbody>\n",
              "</table>\n",
              "</div>\n",
              "      <button class=\"colab-df-convert\" onclick=\"convertToInteractive('df-598cbd72-76ac-4e3f-a2a4-057ff86e56b5')\"\n",
              "              title=\"Convert this dataframe to an interactive table.\"\n",
              "              style=\"display:none;\">\n",
              "        \n",
              "  <svg xmlns=\"http://www.w3.org/2000/svg\" height=\"24px\"viewBox=\"0 0 24 24\"\n",
              "       width=\"24px\">\n",
              "    <path d=\"M0 0h24v24H0V0z\" fill=\"none\"/>\n",
              "    <path d=\"M18.56 5.44l.94 2.06.94-2.06 2.06-.94-2.06-.94-.94-2.06-.94 2.06-2.06.94zm-11 1L8.5 8.5l.94-2.06 2.06-.94-2.06-.94L8.5 2.5l-.94 2.06-2.06.94zm10 10l.94 2.06.94-2.06 2.06-.94-2.06-.94-.94-2.06-.94 2.06-2.06.94z\"/><path d=\"M17.41 7.96l-1.37-1.37c-.4-.4-.92-.59-1.43-.59-.52 0-1.04.2-1.43.59L10.3 9.45l-7.72 7.72c-.78.78-.78 2.05 0 2.83L4 21.41c.39.39.9.59 1.41.59.51 0 1.02-.2 1.41-.59l7.78-7.78 2.81-2.81c.8-.78.8-2.07 0-2.86zM5.41 20L4 18.59l7.72-7.72 1.47 1.35L5.41 20z\"/>\n",
              "  </svg>\n",
              "      </button>\n",
              "      \n",
              "  <style>\n",
              "    .colab-df-container {\n",
              "      display:flex;\n",
              "      flex-wrap:wrap;\n",
              "      gap: 12px;\n",
              "    }\n",
              "\n",
              "    .colab-df-convert {\n",
              "      background-color: #E8F0FE;\n",
              "      border: none;\n",
              "      border-radius: 50%;\n",
              "      cursor: pointer;\n",
              "      display: none;\n",
              "      fill: #1967D2;\n",
              "      height: 32px;\n",
              "      padding: 0 0 0 0;\n",
              "      width: 32px;\n",
              "    }\n",
              "\n",
              "    .colab-df-convert:hover {\n",
              "      background-color: #E2EBFA;\n",
              "      box-shadow: 0px 1px 2px rgba(60, 64, 67, 0.3), 0px 1px 3px 1px rgba(60, 64, 67, 0.15);\n",
              "      fill: #174EA6;\n",
              "    }\n",
              "\n",
              "    [theme=dark] .colab-df-convert {\n",
              "      background-color: #3B4455;\n",
              "      fill: #D2E3FC;\n",
              "    }\n",
              "\n",
              "    [theme=dark] .colab-df-convert:hover {\n",
              "      background-color: #434B5C;\n",
              "      box-shadow: 0px 1px 3px 1px rgba(0, 0, 0, 0.15);\n",
              "      filter: drop-shadow(0px 1px 2px rgba(0, 0, 0, 0.3));\n",
              "      fill: #FFFFFF;\n",
              "    }\n",
              "  </style>\n",
              "\n",
              "      <script>\n",
              "        const buttonEl =\n",
              "          document.querySelector('#df-598cbd72-76ac-4e3f-a2a4-057ff86e56b5 button.colab-df-convert');\n",
              "        buttonEl.style.display =\n",
              "          google.colab.kernel.accessAllowed ? 'block' : 'none';\n",
              "\n",
              "        async function convertToInteractive(key) {\n",
              "          const element = document.querySelector('#df-598cbd72-76ac-4e3f-a2a4-057ff86e56b5');\n",
              "          const dataTable =\n",
              "            await google.colab.kernel.invokeFunction('convertToInteractive',\n",
              "                                                     [key], {});\n",
              "          if (!dataTable) return;\n",
              "\n",
              "          const docLinkHtml = 'Like what you see? Visit the ' +\n",
              "            '<a target=\"_blank\" href=https://colab.research.google.com/notebooks/data_table.ipynb>data table notebook</a>'\n",
              "            + ' to learn more about interactive tables.';\n",
              "          element.innerHTML = '';\n",
              "          dataTable['output_type'] = 'display_data';\n",
              "          await google.colab.output.renderOutput(dataTable, element);\n",
              "          const docLink = document.createElement('div');\n",
              "          docLink.innerHTML = docLinkHtml;\n",
              "          element.appendChild(docLink);\n",
              "        }\n",
              "      </script>\n",
              "    </div>\n",
              "  </div>\n",
              "  "
            ]
          },
          "metadata": {},
          "execution_count": 163
        }
      ]
    },
    {
      "cell_type": "code",
      "source": [
        "df.info()"
      ],
      "metadata": {
        "colab": {
          "base_uri": "https://localhost:8080/"
        },
        "id": "Y6GBwr7qCW0M",
        "outputId": "1877962d-990f-472a-ffea-a105e3b67048"
      },
      "execution_count": null,
      "outputs": [
        {
          "output_type": "stream",
          "name": "stdout",
          "text": [
            "<class 'pandas.core.frame.DataFrame'>\n",
            "Int64Index: 2325 entries, 0 to 2334\n",
            "Data columns (total 20 columns):\n",
            " #   Column                  Non-Null Count  Dtype  \n",
            "---  ------                  --------------  -----  \n",
            " 0   Customer ID             2325 non-null   object \n",
            " 1   year                    2325 non-null   object \n",
            " 2   month                   2325 non-null   int64  \n",
            " 3   date                    2325 non-null   int64  \n",
            " 4   children                2325 non-null   int64  \n",
            " 5   charges                 2325 non-null   float64\n",
            " 6   Hospital tier           2325 non-null   int64  \n",
            " 7   City tier               2325 non-null   int64  \n",
            " 8   State ID                2325 non-null   object \n",
            " 9   BMI                     2325 non-null   float64\n",
            " 10  HBA1C                   2325 non-null   float64\n",
            " 11  Heart Issues            2325 non-null   int64  \n",
            " 12  Any Transplants         2325 non-null   int64  \n",
            " 13  Cancer history          2325 non-null   int64  \n",
            " 14  NumberOfMajorSurgeries  2325 non-null   int64  \n",
            " 15  smoker                  2325 non-null   int64  \n",
            " 16  name                    2325 non-null   object \n",
            " 17  State_R1011             2325 non-null   uint8  \n",
            " 18  State_R1012             2325 non-null   uint8  \n",
            " 19  State_R1013             2325 non-null   uint8  \n",
            "dtypes: float64(3), int64(10), object(4), uint8(3)\n",
            "memory usage: 398.3+ KB\n"
          ]
        }
      ]
    },
    {
      "cell_type": "code",
      "source": [
        "import datetime\n",
        "\n",
        "# Convert the year column to integer\n",
        "df['year'] = df['year'].astype(int)\n",
        "\n",
        "# Calculate the current year and month\n",
        "current_date = datetime.datetime.now()\n",
        "current_year = current_date.year\n",
        "current_month = current_date.month\n",
        "\n",
        "# Calculate the ages based on year and month\n",
        "df['Age'] = current_year - df['year'] - ((current_month < df['month']).astype(int))\n",
        "\n"
      ],
      "metadata": {
        "id": "KTENThgMELV-"
      },
      "execution_count": null,
      "outputs": []
    },
    {
      "cell_type": "code",
      "source": [
        "df.sample(5)"
      ],
      "metadata": {
        "colab": {
          "base_uri": "https://localhost:8080/",
          "height": 525
        },
        "id": "jFqp79gmFwHI",
        "outputId": "15158a4c-f4ef-4ee4-acfb-2248059dee52"
      },
      "execution_count": null,
      "outputs": [
        {
          "output_type": "execute_result",
          "data": {
            "text/plain": [
              "     Customer ID  year  month  date  children   charges  Hospital tier  \\\n",
              "204       Id2131  2003      8    30         0   2128.43              2   \n",
              "1912       Id423  1972      9    14         1  24520.26              2   \n",
              "1657       Id678  1991      8    21         3  14630.52              2   \n",
              "522       Id1813  1977     12     4         2   4699.47              2   \n",
              "1398       Id937  1984     11    26         3  11730.82              3   \n",
              "\n",
              "      City tier State ID     BMI  ...  Heart Issues  Any Transplants  \\\n",
              "204           1    R1012  30.495  ...             0                0   \n",
              "1912          3    R1011  27.600  ...             0                0   \n",
              "1657          3    R1011  53.480  ...             0                0   \n",
              "522           3    R1013  15.610  ...             0                0   \n",
              "1398          3    R1026  36.800  ...             0                0   \n",
              "\n",
              "      Cancer history  NumberOfMajorSurgeries  smoker  \\\n",
              "204                1                       1       0   \n",
              "1912               0                       2       1   \n",
              "1657               0                       0       0   \n",
              "522                0                       0       0   \n",
              "1398               0                       1       0   \n",
              "\n",
              "                          name State_R1011  State_R1012  State_R1013  Age  \n",
              "204          Fisher, Ms.  Evan           0            1            0   19  \n",
              "1912          Sabo, Ms.  Emily           1            0            0   50  \n",
              "1657    Muhly, Ms.  Margaret E           1            0            0   31  \n",
              "522   Scanlin, Mr.  Timothy P.           0            0            1   45  \n",
              "1398      Savage, Mrs.  Ulrike           0            0            0   38  \n",
              "\n",
              "[5 rows x 21 columns]"
            ],
            "text/html": [
              "\n",
              "  <div id=\"df-db244318-b95d-42b4-a2d7-f17ecb06e33e\">\n",
              "    <div class=\"colab-df-container\">\n",
              "      <div>\n",
              "<style scoped>\n",
              "    .dataframe tbody tr th:only-of-type {\n",
              "        vertical-align: middle;\n",
              "    }\n",
              "\n",
              "    .dataframe tbody tr th {\n",
              "        vertical-align: top;\n",
              "    }\n",
              "\n",
              "    .dataframe thead th {\n",
              "        text-align: right;\n",
              "    }\n",
              "</style>\n",
              "<table border=\"1\" class=\"dataframe\">\n",
              "  <thead>\n",
              "    <tr style=\"text-align: right;\">\n",
              "      <th></th>\n",
              "      <th>Customer ID</th>\n",
              "      <th>year</th>\n",
              "      <th>month</th>\n",
              "      <th>date</th>\n",
              "      <th>children</th>\n",
              "      <th>charges</th>\n",
              "      <th>Hospital tier</th>\n",
              "      <th>City tier</th>\n",
              "      <th>State ID</th>\n",
              "      <th>BMI</th>\n",
              "      <th>...</th>\n",
              "      <th>Heart Issues</th>\n",
              "      <th>Any Transplants</th>\n",
              "      <th>Cancer history</th>\n",
              "      <th>NumberOfMajorSurgeries</th>\n",
              "      <th>smoker</th>\n",
              "      <th>name</th>\n",
              "      <th>State_R1011</th>\n",
              "      <th>State_R1012</th>\n",
              "      <th>State_R1013</th>\n",
              "      <th>Age</th>\n",
              "    </tr>\n",
              "  </thead>\n",
              "  <tbody>\n",
              "    <tr>\n",
              "      <th>204</th>\n",
              "      <td>Id2131</td>\n",
              "      <td>2003</td>\n",
              "      <td>8</td>\n",
              "      <td>30</td>\n",
              "      <td>0</td>\n",
              "      <td>2128.43</td>\n",
              "      <td>2</td>\n",
              "      <td>1</td>\n",
              "      <td>R1012</td>\n",
              "      <td>30.495</td>\n",
              "      <td>...</td>\n",
              "      <td>0</td>\n",
              "      <td>0</td>\n",
              "      <td>1</td>\n",
              "      <td>1</td>\n",
              "      <td>0</td>\n",
              "      <td>Fisher, Ms.  Evan</td>\n",
              "      <td>0</td>\n",
              "      <td>1</td>\n",
              "      <td>0</td>\n",
              "      <td>19</td>\n",
              "    </tr>\n",
              "    <tr>\n",
              "      <th>1912</th>\n",
              "      <td>Id423</td>\n",
              "      <td>1972</td>\n",
              "      <td>9</td>\n",
              "      <td>14</td>\n",
              "      <td>1</td>\n",
              "      <td>24520.26</td>\n",
              "      <td>2</td>\n",
              "      <td>3</td>\n",
              "      <td>R1011</td>\n",
              "      <td>27.600</td>\n",
              "      <td>...</td>\n",
              "      <td>0</td>\n",
              "      <td>0</td>\n",
              "      <td>0</td>\n",
              "      <td>2</td>\n",
              "      <td>1</td>\n",
              "      <td>Sabo, Ms.  Emily</td>\n",
              "      <td>1</td>\n",
              "      <td>0</td>\n",
              "      <td>0</td>\n",
              "      <td>50</td>\n",
              "    </tr>\n",
              "    <tr>\n",
              "      <th>1657</th>\n",
              "      <td>Id678</td>\n",
              "      <td>1991</td>\n",
              "      <td>8</td>\n",
              "      <td>21</td>\n",
              "      <td>3</td>\n",
              "      <td>14630.52</td>\n",
              "      <td>2</td>\n",
              "      <td>3</td>\n",
              "      <td>R1011</td>\n",
              "      <td>53.480</td>\n",
              "      <td>...</td>\n",
              "      <td>0</td>\n",
              "      <td>0</td>\n",
              "      <td>0</td>\n",
              "      <td>0</td>\n",
              "      <td>0</td>\n",
              "      <td>Muhly, Ms.  Margaret E</td>\n",
              "      <td>1</td>\n",
              "      <td>0</td>\n",
              "      <td>0</td>\n",
              "      <td>31</td>\n",
              "    </tr>\n",
              "    <tr>\n",
              "      <th>522</th>\n",
              "      <td>Id1813</td>\n",
              "      <td>1977</td>\n",
              "      <td>12</td>\n",
              "      <td>4</td>\n",
              "      <td>2</td>\n",
              "      <td>4699.47</td>\n",
              "      <td>2</td>\n",
              "      <td>3</td>\n",
              "      <td>R1013</td>\n",
              "      <td>15.610</td>\n",
              "      <td>...</td>\n",
              "      <td>0</td>\n",
              "      <td>0</td>\n",
              "      <td>0</td>\n",
              "      <td>0</td>\n",
              "      <td>0</td>\n",
              "      <td>Scanlin, Mr.  Timothy P.</td>\n",
              "      <td>0</td>\n",
              "      <td>0</td>\n",
              "      <td>1</td>\n",
              "      <td>45</td>\n",
              "    </tr>\n",
              "    <tr>\n",
              "      <th>1398</th>\n",
              "      <td>Id937</td>\n",
              "      <td>1984</td>\n",
              "      <td>11</td>\n",
              "      <td>26</td>\n",
              "      <td>3</td>\n",
              "      <td>11730.82</td>\n",
              "      <td>3</td>\n",
              "      <td>3</td>\n",
              "      <td>R1026</td>\n",
              "      <td>36.800</td>\n",
              "      <td>...</td>\n",
              "      <td>0</td>\n",
              "      <td>0</td>\n",
              "      <td>0</td>\n",
              "      <td>1</td>\n",
              "      <td>0</td>\n",
              "      <td>Savage, Mrs.  Ulrike</td>\n",
              "      <td>0</td>\n",
              "      <td>0</td>\n",
              "      <td>0</td>\n",
              "      <td>38</td>\n",
              "    </tr>\n",
              "  </tbody>\n",
              "</table>\n",
              "<p>5 rows × 21 columns</p>\n",
              "</div>\n",
              "      <button class=\"colab-df-convert\" onclick=\"convertToInteractive('df-db244318-b95d-42b4-a2d7-f17ecb06e33e')\"\n",
              "              title=\"Convert this dataframe to an interactive table.\"\n",
              "              style=\"display:none;\">\n",
              "        \n",
              "  <svg xmlns=\"http://www.w3.org/2000/svg\" height=\"24px\"viewBox=\"0 0 24 24\"\n",
              "       width=\"24px\">\n",
              "    <path d=\"M0 0h24v24H0V0z\" fill=\"none\"/>\n",
              "    <path d=\"M18.56 5.44l.94 2.06.94-2.06 2.06-.94-2.06-.94-.94-2.06-.94 2.06-2.06.94zm-11 1L8.5 8.5l.94-2.06 2.06-.94-2.06-.94L8.5 2.5l-.94 2.06-2.06.94zm10 10l.94 2.06.94-2.06 2.06-.94-2.06-.94-.94-2.06-.94 2.06-2.06.94z\"/><path d=\"M17.41 7.96l-1.37-1.37c-.4-.4-.92-.59-1.43-.59-.52 0-1.04.2-1.43.59L10.3 9.45l-7.72 7.72c-.78.78-.78 2.05 0 2.83L4 21.41c.39.39.9.59 1.41.59.51 0 1.02-.2 1.41-.59l7.78-7.78 2.81-2.81c.8-.78.8-2.07 0-2.86zM5.41 20L4 18.59l7.72-7.72 1.47 1.35L5.41 20z\"/>\n",
              "  </svg>\n",
              "      </button>\n",
              "      \n",
              "  <style>\n",
              "    .colab-df-container {\n",
              "      display:flex;\n",
              "      flex-wrap:wrap;\n",
              "      gap: 12px;\n",
              "    }\n",
              "\n",
              "    .colab-df-convert {\n",
              "      background-color: #E8F0FE;\n",
              "      border: none;\n",
              "      border-radius: 50%;\n",
              "      cursor: pointer;\n",
              "      display: none;\n",
              "      fill: #1967D2;\n",
              "      height: 32px;\n",
              "      padding: 0 0 0 0;\n",
              "      width: 32px;\n",
              "    }\n",
              "\n",
              "    .colab-df-convert:hover {\n",
              "      background-color: #E2EBFA;\n",
              "      box-shadow: 0px 1px 2px rgba(60, 64, 67, 0.3), 0px 1px 3px 1px rgba(60, 64, 67, 0.15);\n",
              "      fill: #174EA6;\n",
              "    }\n",
              "\n",
              "    [theme=dark] .colab-df-convert {\n",
              "      background-color: #3B4455;\n",
              "      fill: #D2E3FC;\n",
              "    }\n",
              "\n",
              "    [theme=dark] .colab-df-convert:hover {\n",
              "      background-color: #434B5C;\n",
              "      box-shadow: 0px 1px 3px 1px rgba(0, 0, 0, 0.15);\n",
              "      filter: drop-shadow(0px 1px 2px rgba(0, 0, 0, 0.3));\n",
              "      fill: #FFFFFF;\n",
              "    }\n",
              "  </style>\n",
              "\n",
              "      <script>\n",
              "        const buttonEl =\n",
              "          document.querySelector('#df-db244318-b95d-42b4-a2d7-f17ecb06e33e button.colab-df-convert');\n",
              "        buttonEl.style.display =\n",
              "          google.colab.kernel.accessAllowed ? 'block' : 'none';\n",
              "\n",
              "        async function convertToInteractive(key) {\n",
              "          const element = document.querySelector('#df-db244318-b95d-42b4-a2d7-f17ecb06e33e');\n",
              "          const dataTable =\n",
              "            await google.colab.kernel.invokeFunction('convertToInteractive',\n",
              "                                                     [key], {});\n",
              "          if (!dataTable) return;\n",
              "\n",
              "          const docLinkHtml = 'Like what you see? Visit the ' +\n",
              "            '<a target=\"_blank\" href=https://colab.research.google.com/notebooks/data_table.ipynb>data table notebook</a>'\n",
              "            + ' to learn more about interactive tables.';\n",
              "          element.innerHTML = '';\n",
              "          dataTable['output_type'] = 'display_data';\n",
              "          await google.colab.output.renderOutput(dataTable, element);\n",
              "          const docLink = document.createElement('div');\n",
              "          docLink.innerHTML = docLinkHtml;\n",
              "          element.appendChild(docLink);\n",
              "        }\n",
              "      </script>\n",
              "    </div>\n",
              "  </div>\n",
              "  "
            ]
          },
          "metadata": {},
          "execution_count": 166
        }
      ]
    },
    {
      "cell_type": "code",
      "source": [
        "# Extract the salutations from the names\n",
        "df['Salutation'] = df['name'].str.extract(r'(Mr\\.|Mrs\\.|Miss|Master|Ms\\.)')"
      ],
      "metadata": {
        "id": "skOLz-wsH9Se"
      },
      "execution_count": null,
      "outputs": []
    },
    {
      "cell_type": "code",
      "source": [
        "df['Salutation'].unique()"
      ],
      "metadata": {
        "colab": {
          "base_uri": "https://localhost:8080/"
        },
        "id": "RT0eRNBII-jI",
        "outputId": "771891d0-1b45-4e71-8e8c-f8b7b0c3b381"
      },
      "execution_count": null,
      "outputs": [
        {
          "output_type": "execute_result",
          "data": {
            "text/plain": [
              "array(['Mr.', 'Ms.', 'Mrs.', 'Master'], dtype=object)"
            ]
          },
          "metadata": {},
          "execution_count": 168
        }
      ]
    },
    {
      "cell_type": "code",
      "source": [
        "df['name'].sample(5)"
      ],
      "metadata": {
        "colab": {
          "base_uri": "https://localhost:8080/"
        },
        "id": "R643-djjJEZS",
        "outputId": "ba1113bf-dfec-4794-8ecd-5dc497795d78"
      },
      "execution_count": null,
      "outputs": [
        {
          "output_type": "execute_result",
          "data": {
            "text/plain": [
              "1509            Hails, Ms.  Kate A.\n",
              "90      Davenport, Ms.  Katherine A\n",
              "977             Bishop, Mr.  Justin\n",
              "942             Dayton, Ms.  Gina M\n",
              "65           Reilly, Ms.  Katharine\n",
              "Name: name, dtype: object"
            ]
          },
          "metadata": {},
          "execution_count": 169
        }
      ]
    },
    {
      "cell_type": "code",
      "source": [
        "# Define the mapping dictionary for salutations and genders\n",
        "salutation_gender_map = {\n",
        "    'Mr.': 'Male',\n",
        "    'Master': 'Male',\n",
        "    'Mrs.': 'Female',\n",
        "    'Ms.': 'Female'\n",
        "}\n",
        "\n",
        "# Map the salutations to genders\n",
        "df['Gender'] = df['Salutation'].map(salutation_gender_map)"
      ],
      "metadata": {
        "id": "SJ-iAKQbJUby"
      },
      "execution_count": null,
      "outputs": []
    },
    {
      "cell_type": "code",
      "source": [
        "df['Gender'].unique()"
      ],
      "metadata": {
        "colab": {
          "base_uri": "https://localhost:8080/"
        },
        "id": "UWwd2xO1Lu2h",
        "outputId": "8b49cba0-a8f9-41bd-f972-46fae98288c3"
      },
      "execution_count": null,
      "outputs": [
        {
          "output_type": "execute_result",
          "data": {
            "text/plain": [
              "array(['Male', 'Female'], dtype=object)"
            ]
          },
          "metadata": {},
          "execution_count": 171
        }
      ]
    },
    {
      "cell_type": "code",
      "source": [
        "# Plotting a histogram\n",
        "plt.hist(df['charges'], bins=14, edgecolor='black')\n",
        "plt.xlabel('Costs')\n",
        "plt.ylabel('Frequency')\n",
        "plt.title('Distribution of Costs')\n",
        "plt.show()"
      ],
      "metadata": {
        "colab": {
          "base_uri": "https://localhost:8080/",
          "height": 472
        },
        "id": "ZuuIQjT8Nc0E",
        "outputId": "4019ebd0-e427-4646-ea41-75ec4ef9281a"
      },
      "execution_count": null,
      "outputs": [
        {
          "output_type": "display_data",
          "data": {
            "text/plain": [
              "<Figure size 640x480 with 1 Axes>"
            ],
            "image/png": "[encoded data removed]"
          },
          "metadata": {}
        }
      ]
    },
    {
      "cell_type": "code",
      "source": [
        "# Plotting a box and whisker plot\n",
        "sns.boxplot(x=df['charges'])\n",
        "plt.title('Box and Whisker Plot - Costs')\n",
        "plt.show()"
      ],
      "metadata": {
        "colab": {
          "base_uri": "https://localhost:8080/",
          "height": 472
        },
        "id": "LCRsIH19QsSN",
        "outputId": "50f6660b-2e18-40d4-a75c-c24cbb93529f"
      },
      "execution_count": null,
      "outputs": [
        {
          "output_type": "display_data",
          "data": {
            "text/plain": [
              "<Figure size 640x480 with 1 Axes>"
            ],
            "image/png": "[encoded data removed]"
          },
          "metadata": {}
        }
      ]
    },
    {
      "cell_type": "code",
      "source": [
        "# Plotting a swarm plot\n",
        "sns.swarmplot(x=df['charges'])\n",
        "plt.title('Swarm Plot - Costs')\n",
        "plt.show()"
      ],
      "metadata": {
        "colab": {
          "base_uri": "https://localhost:8080/",
          "height": 527
        },
        "id": "OziXIT5ARgsi",
        "outputId": "20bc1074-50a9-4c55-f5eb-3ac213255141"
      },
      "execution_count": null,
      "outputs": [
        {
          "output_type": "stream",
          "name": "stderr",
          "text": [
            "/usr/local/lib/python3.10/dist-packages/seaborn/categorical.py:3544: UserWarning: 43.1% of the points cannot be placed; you may want to decrease the size of the markers or use stripplot.\n",
            "  warnings.warn(msg, UserWarning)\n"
          ]
        },
        {
          "output_type": "display_data",
          "data": {
            "text/plain": [
              "<Figure size 640x480 with 1 Axes>"
            ],
            "image/png": "[encoded data removed]"
          },
          "metadata": {}
        }
      ]
    },
    {
      "cell_type": "code",
      "source": [
        "# Calculate percentile values\n",
        "percentiles = np.percentile(df['charges'], [25, 50, 75])\n",
        "percentiles"
      ],
      "metadata": {
        "colab": {
          "base_uri": "https://localhost:8080/"
        },
        "id": "VZms-gwEVb4Z",
        "outputId": "c7e099f7-e4ef-4f63-9c63-e6faf8775d0b"
      },
      "execution_count": null,
      "outputs": [
        {
          "output_type": "execute_result",
          "data": {
            "text/plain": [
              "array([ 5116.5 ,  9634.54, 16903.5 ])"
            ]
          },
          "metadata": {},
          "execution_count": 175
        }
      ]
    },
    {
      "cell_type": "markdown",
      "source": [
        "\n",
        "\n",
        "*   The 25th percentile value of 5116.5 indicates that 25% of the costs fall below this threshold, representing relatively lower costs incurred by a quarter of the patients.\n",
        "*   The 50th percentile (median) value of 9634.54 suggests that half of the patients had costs below this value, providing an estimate of the typical cost incurred.\n",
        "\n",
        "\n",
        "*   The 75th percentile value of 16903.5 signifies that 75% of the costs fall below this threshold, with a smaller percentage of patients incurring higher costs.\n",
        "*   The positively skewed distribution of costs indicates a majority of lower-cost medical events, with a smaller proportion of higher-cost cases.\n",
        "\n",
        "\n",
        "*   The majority of costs incurred by patients in the dataset are relatively low, with a significant portion falling within the 0-10000 range.\n",
        "*   This indicates that healthcare services provided to these patients have lower associated costs, likely involving less complex treatments, routine check-ups, or preventive care.\n",
        "\n",
        "\n",
        "*   Stakeholders in the healthcare industry, such as insurance providers, may need to adjust their pricing and risk assessment strategies based on the prevalence of low-cost medical events among policyholders.\n",
        "*   Healthcare providers should consider optimizing resources and services to meet the demand for low-cost treatments and prioritize preventive care measures.\n",
        "\n",
        "\n",
        "\n",
        "\n",
        "\n",
        "\n",
        "\n",
        "\n",
        "\n"
      ],
      "metadata": {
        "id": "0ncVZJfZd5ic"
      }
    },
    {
      "cell_type": "code",
      "source": [
        "# Create a swarm plot\n",
        "plt.figure(figsize=(10, 6))\n",
        "sns.swarmplot(x='charges', y='Gender', data=df)\n",
        "plt.ylabel('Gender')\n",
        "plt.xlabel('Cost')\n",
        "plt.title('Distribution of Costs across Gender ')\n",
        "plt.show()"
      ],
      "metadata": {
        "colab": {
          "base_uri": "https://localhost:8080/",
          "height": 653
        },
        "id": "8B1T455UVhsE",
        "outputId": "31919a42-0434-4c2d-a621-4afd588ad006"
      },
      "execution_count": null,
      "outputs": [
        {
          "output_type": "stream",
          "name": "stderr",
          "text": [
            "/usr/local/lib/python3.10/dist-packages/seaborn/categorical.py:3544: UserWarning: 20.3% of the points cannot be placed; you may want to decrease the size of the markers or use stripplot.\n",
            "  warnings.warn(msg, UserWarning)\n",
            "/usr/local/lib/python3.10/dist-packages/seaborn/categorical.py:3544: UserWarning: 24.6% of the points cannot be placed; you may want to decrease the size of the markers or use stripplot.\n",
            "  warnings.warn(msg, UserWarning)\n"
          ]
        },
        {
          "output_type": "display_data",
          "data": {
            "text/plain": [
              "<Figure size 1000x600 with 1 Axes>"
            ],
            "image/png": "[encoded data removed]"
          },
          "metadata": {}
        }
      ]
    },
    {
      "cell_type": "markdown",
      "source": [
        "when considering the distribution of costs based on gender, both male and female patients exhibit a similar cost pattern. The majority of the costs for both genders fall within the range of 5000 to 16000. This range indicates that a significant proportion of patients, regardless of gender, experience healthcare costs within this specific range.These findings provide insights into the cost differences across hospital tiers and highlight the common cost range for male and female patients. "
      ],
      "metadata": {
        "id": "0XEqXdxqvuJH"
      }
    },
    {
      "cell_type": "code",
      "source": [
        "# Calculate the average cost by hospital tier\n",
        "average_costs = df.groupby('Hospital tier')['charges'].mean()\n",
        "\n",
        "# Create a bar plot\n",
        "plt.bar(average_costs.index, average_costs)\n",
        "\n",
        "# Set plot labels and title\n",
        "plt.xlabel('Hospital Tier')\n",
        "plt.ylabel('Average Cost')\n",
        "plt.title('Average Cost by Hospital Tier')\n",
        "\n",
        "# Show the plot\n",
        "plt.show()"
      ],
      "metadata": {
        "colab": {
          "base_uri": "https://localhost:8080/",
          "height": 472
        },
        "id": "G0sXkn7Aj6M2",
        "outputId": "f0875310-ec40-4b1c-b271-1214530a6a1c"
      },
      "execution_count": null,
      "outputs": [
        {
          "output_type": "display_data",
          "data": {
            "text/plain": [
              "<Figure size 640x480 with 1 Axes>"
            ],
            "image/png": "[encoded data removed]"
          },
          "metadata": {}
        }
      ]
    },
    {
      "cell_type": "markdown",
      "source": [
        "After analyzing the graph comparing hospital tiers and costs, it can be observed that tier one hospitals tend to have higher costs compared to other tiers. This suggests that patients receiving healthcare services at tier one hospitals may incur higher expenses, which could be attributed to factors such as specialized treatments, advanced medical technologies, or the availability of specialized healthcare professionals."
      ],
      "metadata": {
        "id": "MX_26FdHvHlg"
      }
    },
    {
      "cell_type": "code",
      "source": [
        "# Calculate the median cost by hospital tier\n",
        "median_costs = df.groupby('Hospital tier')['charges'].median()\n",
        "median_costs"
      ],
      "metadata": {
        "id": "Lko9ZhS4kUO_",
        "colab": {
          "base_uri": "https://localhost:8080/"
        },
        "outputId": "90a07d0c-f6d1-4eed-dc25-7cd1759ccae2"
      },
      "execution_count": null,
      "outputs": [
        {
          "output_type": "execute_result",
          "data": {
            "text/plain": [
              "Hospital tier\n",
              "1    32097.435\n",
              "2     7168.760\n",
              "3    10676.830\n",
              "Name: charges, dtype: float64"
            ]
          },
          "metadata": {},
          "execution_count": 178
        }
      ]
    },
    {
      "cell_type": "code",
      "source": [
        "# Define the number of variables (hospital tiers)\n",
        "num_tiers = len(median_costs)\n",
        "\n",
        "# Create a list of tier labels\n",
        "tier_labels = median_costs.index.tolist()\n",
        "\n",
        "# Create a list of median cost values\n",
        "cost_values = median_costs.values.tolist()\n",
        "\n",
        "# Duplicate the first value to close the circle\n",
        "cost_values.append(cost_values[0])\n",
        "\n",
        "# Calculate evenly spaced angles for the radar chart\n",
        "angles = np.linspace(0, 2*np.pi, num_tiers, endpoint=False).tolist()\n",
        "angles.append(angles[0])\n",
        "\n",
        "# Create a radar chart\n",
        "plt.figure(figsize=(8, 8))\n",
        "plt.polar(angles, cost_values, marker='o')\n",
        "\n",
        "# Set the angle ticks and labels\n",
        "plt.xticks(angles[:-1], tier_labels)\n",
        "plt.yticks([])  # Hide the radial axis labels\n",
        "\n",
        "# Fill the area under the curve\n",
        "plt.fill(angles, cost_values, alpha=0.25)\n",
        "\n",
        "# Set plot title\n",
        "plt.title('Median Hospitalization Cost by Hospital Tier')\n",
        "\n",
        "# Show the radar chart\n",
        "plt.show()"
      ],
      "metadata": {
        "colab": {
          "base_uri": "https://localhost:8080/",
          "height": 675
        },
        "id": "kWmRZuSm1u4E",
        "outputId": "24840f47-0063-4e9d-e3b3-b78d2c4db816"
      },
      "execution_count": null,
      "outputs": [
        {
          "output_type": "display_data",
          "data": {
            "text/plain": [
              "<Figure size 800x800 with 1 Axes>"
            ],
            "image/png": "[encoded data removed]"
          },
          "metadata": {}
        }
      ]
    },
    {
      "cell_type": "markdown",
      "source": [
        "The analysis of the radar chart reveals that the median hospitalization cost for tier 1, tier 2, and tier 3 hospitals are approximately $ 32097.435, $7168.760, and $10676.830, respectively"
      ],
      "metadata": {
        "id": "t-5wQSn_4yN2"
      }
    },
    {
      "cell_type": "code",
      "source": [
        "frequency_table = df.groupby(['City tier', 'Hospital tier']).size().unstack()\n",
        "frequency_table"
      ],
      "metadata": {
        "colab": {
          "base_uri": "https://localhost:8080/",
          "height": 175
        },
        "id": "9QNXM0Se6eqb",
        "outputId": "f0d1cbcd-7e66-44d4-b3bf-8081642640cd"
      },
      "execution_count": null,
      "outputs": [
        {
          "output_type": "execute_result",
          "data": {
            "text/plain": [
              "Hospital tier    1    2    3\n",
              "City tier                   \n",
              "1               85  403  241\n",
              "2              106  479  222\n",
              "3              109  452  228"
            ],
            "text/html": [
              "\n",
              "  <div id=\"df-d0d1a72e-98c2-43e4-a220-7c20c115baca\">\n",
              "    <div class=\"colab-df-container\">\n",
              "      <div>\n",
              "<style scoped>\n",
              "    .dataframe tbody tr th:only-of-type {\n",
              "        vertical-align: middle;\n",
              "    }\n",
              "\n",
              "    .dataframe tbody tr th {\n",
              "        vertical-align: top;\n",
              "    }\n",
              "\n",
              "    .dataframe thead th {\n",
              "        text-align: right;\n",
              "    }\n",
              "</style>\n",
              "<table border=\"1\" class=\"dataframe\">\n",
              "  <thead>\n",
              "    <tr style=\"text-align: right;\">\n",
              "      <th>Hospital tier</th>\n",
              "      <th>1</th>\n",
              "      <th>2</th>\n",
              "      <th>3</th>\n",
              "    </tr>\n",
              "    <tr>\n",
              "      <th>City tier</th>\n",
              "      <th></th>\n",
              "      <th></th>\n",
              "      <th></th>\n",
              "    </tr>\n",
              "  </thead>\n",
              "  <tbody>\n",
              "    <tr>\n",
              "      <th>1</th>\n",
              "      <td>85</td>\n",
              "      <td>403</td>\n",
              "      <td>241</td>\n",
              "    </tr>\n",
              "    <tr>\n",
              "      <th>2</th>\n",
              "      <td>106</td>\n",
              "      <td>479</td>\n",
              "      <td>222</td>\n",
              "    </tr>\n",
              "    <tr>\n",
              "      <th>3</th>\n",
              "      <td>109</td>\n",
              "      <td>452</td>\n",
              "      <td>228</td>\n",
              "    </tr>\n",
              "  </tbody>\n",
              "</table>\n",
              "</div>\n",
              "      <button class=\"colab-df-convert\" onclick=\"convertToInteractive('df-d0d1a72e-98c2-43e4-a220-7c20c115baca')\"\n",
              "              title=\"Convert this dataframe to an interactive table.\"\n",
              "              style=\"display:none;\">\n",
              "        \n",
              "  <svg xmlns=\"http://www.w3.org/2000/svg\" height=\"24px\"viewBox=\"0 0 24 24\"\n",
              "       width=\"24px\">\n",
              "    <path d=\"M0 0h24v24H0V0z\" fill=\"none\"/>\n",
              "    <path d=\"M18.56 5.44l.94 2.06.94-2.06 2.06-.94-2.06-.94-.94-2.06-.94 2.06-2.06.94zm-11 1L8.5 8.5l.94-2.06 2.06-.94-2.06-.94L8.5 2.5l-.94 2.06-2.06.94zm10 10l.94 2.06.94-2.06 2.06-.94-2.06-.94-.94-2.06-.94 2.06-2.06.94z\"/><path d=\"M17.41 7.96l-1.37-1.37c-.4-.4-.92-.59-1.43-.59-.52 0-1.04.2-1.43.59L10.3 9.45l-7.72 7.72c-.78.78-.78 2.05 0 2.83L4 21.41c.39.39.9.59 1.41.59.51 0 1.02-.2 1.41-.59l7.78-7.78 2.81-2.81c.8-.78.8-2.07 0-2.86zM5.41 20L4 18.59l7.72-7.72 1.47 1.35L5.41 20z\"/>\n",
              "  </svg>\n",
              "      </button>\n",
              "      \n",
              "  <style>\n",
              "    .colab-df-container {\n",
              "      display:flex;\n",
              "      flex-wrap:wrap;\n",
              "      gap: 12px;\n",
              "    }\n",
              "\n",
              "    .colab-df-convert {\n",
              "      background-color: #E8F0FE;\n",
              "      border: none;\n",
              "      border-radius: 50%;\n",
              "      cursor: pointer;\n",
              "      display: none;\n",
              "      fill: #1967D2;\n",
              "      height: 32px;\n",
              "      padding: 0 0 0 0;\n",
              "      width: 32px;\n",
              "    }\n",
              "\n",
              "    .colab-df-convert:hover {\n",
              "      background-color: #E2EBFA;\n",
              "      box-shadow: 0px 1px 2px rgba(60, 64, 67, 0.3), 0px 1px 3px 1px rgba(60, 64, 67, 0.15);\n",
              "      fill: #174EA6;\n",
              "    }\n",
              "\n",
              "    [theme=dark] .colab-df-convert {\n",
              "      background-color: #3B4455;\n",
              "      fill: #D2E3FC;\n",
              "    }\n",
              "\n",
              "    [theme=dark] .colab-df-convert:hover {\n",
              "      background-color: #434B5C;\n",
              "      box-shadow: 0px 1px 3px 1px rgba(0, 0, 0, 0.15);\n",
              "      filter: drop-shadow(0px 1px 2px rgba(0, 0, 0, 0.3));\n",
              "      fill: #FFFFFF;\n",
              "    }\n",
              "  </style>\n",
              "\n",
              "      <script>\n",
              "        const buttonEl =\n",
              "          document.querySelector('#df-d0d1a72e-98c2-43e4-a220-7c20c115baca button.colab-df-convert');\n",
              "        buttonEl.style.display =\n",
              "          google.colab.kernel.accessAllowed ? 'block' : 'none';\n",
              "\n",
              "        async function convertToInteractive(key) {\n",
              "          const element = document.querySelector('#df-d0d1a72e-98c2-43e4-a220-7c20c115baca');\n",
              "          const dataTable =\n",
              "            await google.colab.kernel.invokeFunction('convertToInteractive',\n",
              "                                                     [key], {});\n",
              "          if (!dataTable) return;\n",
              "\n",
              "          const docLinkHtml = 'Like what you see? Visit the ' +\n",
              "            '<a target=\"_blank\" href=https://colab.research.google.com/notebooks/data_table.ipynb>data table notebook</a>'\n",
              "            + ' to learn more about interactive tables.';\n",
              "          element.innerHTML = '';\n",
              "          dataTable['output_type'] = 'display_data';\n",
              "          await google.colab.output.renderOutput(dataTable, element);\n",
              "          const docLink = document.createElement('div');\n",
              "          docLink.innerHTML = docLinkHtml;\n",
              "          element.appendChild(docLink);\n",
              "        }\n",
              "      </script>\n",
              "    </div>\n",
              "  </div>\n",
              "  "
            ]
          },
          "metadata": {},
          "execution_count": 180
        }
      ]
    },
    {
      "cell_type": "code",
      "source": [
        "# Create a stacked bar chart\n",
        "frequency_table.plot(kind='bar', stacked=True, figsize=(10, 6))\n",
        "\n",
        "# Set plot labels and title\n",
        "plt.xlabel('City Tier')\n",
        "plt.ylabel('Count of People')\n",
        "plt.title('Count of People in Different Tiers of Cities and Hospitals')\n",
        "\n",
        "# Show the plot\n",
        "plt.show()"
      ],
      "metadata": {
        "colab": {
          "base_uri": "https://localhost:8080/",
          "height": 559
        },
        "id": "RT4fqpv31x0c",
        "outputId": "c6fdc67b-23ad-492e-a42e-1e7ac83d5f53"
      },
      "execution_count": null,
      "outputs": [
        {
          "output_type": "display_data",
          "data": {
            "text/plain": [
              "<Figure size 1000x600 with 1 Axes>"
            ],
            "image/png": "[encoded data removed]"
          },
          "metadata": {}
        }
      ]
    },
    {
      "cell_type": "markdown",
      "source": [
        "\n",
        "\n",
        "*   In City Tier 1, the majority of people (85) are associated with Hospital Tier 1, followed by 403 in Hospital Tier 2 and 241 in Hospital Tier 3.\n",
        "\n",
        "*   In City Tier 2, the count is relatively higher across all hospital tiers, with 106 in Hospital Tier 1, 479 in Hospital Tier 2, and 222 in Hospital Tier 3.\n",
        "*   City Tier 3 also demonstrates a similar pattern, with 109 people in Hospital Tier 1, 452 in Hospital Tier 2, and 228 in Hospital Tier 3.\n",
        "\n"
      ],
      "metadata": {
        "id": "z3roBOwZ8roe"
      }
    },
    {
      "cell_type": "code",
      "source": [
        "df.head(2)"
      ],
      "metadata": {
        "id": "8pkujdLR86gO",
        "colab": {
          "base_uri": "https://localhost:8080/",
          "height": 275
        },
        "outputId": "6d572ba0-b34d-4d0e-c3d7-9dd1e622666e"
      },
      "execution_count": null,
      "outputs": [
        {
          "output_type": "execute_result",
          "data": {
            "text/plain": [
              "  Customer ID  year  month  date  children  charges  Hospital tier  City tier  \\\n",
              "0      Id2335  1992      7     9         0   563.84              2          3   \n",
              "1      Id2334  1992     11    30         0   570.62              2          1   \n",
              "\n",
              "  State ID    BMI  ...  Cancer history  NumberOfMajorSurgeries  smoker  \\\n",
              "0    R1013  17.58  ...               0                       1       0   \n",
              "1    R1013  17.60  ...               0                       1       0   \n",
              "\n",
              "                     name  State_R1011  State_R1012 State_R1013  Age  \\\n",
              "0    German, Mr.  Aaron K            0            0           1   30   \n",
              "1  Rosendahl, Mr.  Evan P            0            0           1   30   \n",
              "\n",
              "   Salutation  Gender  \n",
              "0         Mr.    Male  \n",
              "1         Mr.    Male  \n",
              "\n",
              "[2 rows x 23 columns]"
            ],
            "text/html": [
              "\n",
              "  <div id=\"df-0f02e849-9a6b-41da-b26f-5ee7b19e0443\">\n",
              "    <div class=\"colab-df-container\">\n",
              "      <div>\n",
              "<style scoped>\n",
              "    .dataframe tbody tr th:only-of-type {\n",
              "        vertical-align: middle;\n",
              "    }\n",
              "\n",
              "    .dataframe tbody tr th {\n",
              "        vertical-align: top;\n",
              "    }\n",
              "\n",
              "    .dataframe thead th {\n",
              "        text-align: right;\n",
              "    }\n",
              "</style>\n",
              "<table border=\"1\" class=\"dataframe\">\n",
              "  <thead>\n",
              "    <tr style=\"text-align: right;\">\n",
              "      <th></th>\n",
              "      <th>Customer ID</th>\n",
              "      <th>year</th>\n",
              "      <th>month</th>\n",
              "      <th>date</th>\n",
              "      <th>children</th>\n",
              "      <th>charges</th>\n",
              "      <th>Hospital tier</th>\n",
              "      <th>City tier</th>\n",
              "      <th>State ID</th>\n",
              "      <th>BMI</th>\n",
              "      <th>...</th>\n",
              "      <th>Cancer history</th>\n",
              "      <th>NumberOfMajorSurgeries</th>\n",
              "      <th>smoker</th>\n",
              "      <th>name</th>\n",
              "      <th>State_R1011</th>\n",
              "      <th>State_R1012</th>\n",
              "      <th>State_R1013</th>\n",
              "      <th>Age</th>\n",
              "      <th>Salutation</th>\n",
              "      <th>Gender</th>\n",
              "    </tr>\n",
              "  </thead>\n",
              "  <tbody>\n",
              "    <tr>\n",
              "      <th>0</th>\n",
              "      <td>Id2335</td>\n",
              "      <td>1992</td>\n",
              "      <td>7</td>\n",
              "      <td>9</td>\n",
              "      <td>0</td>\n",
              "      <td>563.84</td>\n",
              "      <td>2</td>\n",
              "      <td>3</td>\n",
              "      <td>R1013</td>\n",
              "      <td>17.58</td>\n",
              "      <td>...</td>\n",
              "      <td>0</td>\n",
              "      <td>1</td>\n",
              "      <td>0</td>\n",
              "      <td>German, Mr.  Aaron K</td>\n",
              "      <td>0</td>\n",
              "      <td>0</td>\n",
              "      <td>1</td>\n",
              "      <td>30</td>\n",
              "      <td>Mr.</td>\n",
              "      <td>Male</td>\n",
              "    </tr>\n",
              "    <tr>\n",
              "      <th>1</th>\n",
              "      <td>Id2334</td>\n",
              "      <td>1992</td>\n",
              "      <td>11</td>\n",
              "      <td>30</td>\n",
              "      <td>0</td>\n",
              "      <td>570.62</td>\n",
              "      <td>2</td>\n",
              "      <td>1</td>\n",
              "      <td>R1013</td>\n",
              "      <td>17.60</td>\n",
              "      <td>...</td>\n",
              "      <td>0</td>\n",
              "      <td>1</td>\n",
              "      <td>0</td>\n",
              "      <td>Rosendahl, Mr.  Evan P</td>\n",
              "      <td>0</td>\n",
              "      <td>0</td>\n",
              "      <td>1</td>\n",
              "      <td>30</td>\n",
              "      <td>Mr.</td>\n",
              "      <td>Male</td>\n",
              "    </tr>\n",
              "  </tbody>\n",
              "</table>\n",
              "<p>2 rows × 23 columns</p>\n",
              "</div>\n",
              "      <button class=\"colab-df-convert\" onclick=\"convertToInteractive('df-0f02e849-9a6b-41da-b26f-5ee7b19e0443')\"\n",
              "              title=\"Convert this dataframe to an interactive table.\"\n",
              "              style=\"display:none;\">\n",
              "        \n",
              "  <svg xmlns=\"http://www.w3.org/2000/svg\" height=\"24px\"viewBox=\"0 0 24 24\"\n",
              "       width=\"24px\">\n",
              "    <path d=\"M0 0h24v24H0V0z\" fill=\"none\"/>\n",
              "    <path d=\"M18.56 5.44l.94 2.06.94-2.06 2.06-.94-2.06-.94-.94-2.06-.94 2.06-2.06.94zm-11 1L8.5 8.5l.94-2.06 2.06-.94-2.06-.94L8.5 2.5l-.94 2.06-2.06.94zm10 10l.94 2.06.94-2.06 2.06-.94-2.06-.94-.94-2.06-.94 2.06-2.06.94z\"/><path d=\"M17.41 7.96l-1.37-1.37c-.4-.4-.92-.59-1.43-.59-.52 0-1.04.2-1.43.59L10.3 9.45l-7.72 7.72c-.78.78-.78 2.05 0 2.83L4 21.41c.39.39.9.59 1.41.59.51 0 1.02-.2 1.41-.59l7.78-7.78 2.81-2.81c.8-.78.8-2.07 0-2.86zM5.41 20L4 18.59l7.72-7.72 1.47 1.35L5.41 20z\"/>\n",
              "  </svg>\n",
              "      </button>\n",
              "      \n",
              "  <style>\n",
              "    .colab-df-container {\n",
              "      display:flex;\n",
              "      flex-wrap:wrap;\n",
              "      gap: 12px;\n",
              "    }\n",
              "\n",
              "    .colab-df-convert {\n",
              "      background-color: #E8F0FE;\n",
              "      border: none;\n",
              "      border-radius: 50%;\n",
              "      cursor: pointer;\n",
              "      display: none;\n",
              "      fill: #1967D2;\n",
              "      height: 32px;\n",
              "      padding: 0 0 0 0;\n",
              "      width: 32px;\n",
              "    }\n",
              "\n",
              "    .colab-df-convert:hover {\n",
              "      background-color: #E2EBFA;\n",
              "      box-shadow: 0px 1px 2px rgba(60, 64, 67, 0.3), 0px 1px 3px 1px rgba(60, 64, 67, 0.15);\n",
              "      fill: #174EA6;\n",
              "    }\n",
              "\n",
              "    [theme=dark] .colab-df-convert {\n",
              "      background-color: #3B4455;\n",
              "      fill: #D2E3FC;\n",
              "    }\n",
              "\n",
              "    [theme=dark] .colab-df-convert:hover {\n",
              "      background-color: #434B5C;\n",
              "      box-shadow: 0px 1px 3px 1px rgba(0, 0, 0, 0.15);\n",
              "      filter: drop-shadow(0px 1px 2px rgba(0, 0, 0, 0.3));\n",
              "      fill: #FFFFFF;\n",
              "    }\n",
              "  </style>\n",
              "\n",
              "      <script>\n",
              "        const buttonEl =\n",
              "          document.querySelector('#df-0f02e849-9a6b-41da-b26f-5ee7b19e0443 button.colab-df-convert');\n",
              "        buttonEl.style.display =\n",
              "          google.colab.kernel.accessAllowed ? 'block' : 'none';\n",
              "\n",
              "        async function convertToInteractive(key) {\n",
              "          const element = document.querySelector('#df-0f02e849-9a6b-41da-b26f-5ee7b19e0443');\n",
              "          const dataTable =\n",
              "            await google.colab.kernel.invokeFunction('convertToInteractive',\n",
              "                                                     [key], {});\n",
              "          if (!dataTable) return;\n",
              "\n",
              "          const docLinkHtml = 'Like what you see? Visit the ' +\n",
              "            '<a target=\"_blank\" href=https://colab.research.google.com/notebooks/data_table.ipynb>data table notebook</a>'\n",
              "            + ' to learn more about interactive tables.';\n",
              "          element.innerHTML = '';\n",
              "          dataTable['output_type'] = 'display_data';\n",
              "          await google.colab.output.renderOutput(dataTable, element);\n",
              "          const docLink = document.createElement('div');\n",
              "          docLink.innerHTML = docLinkHtml;\n",
              "          element.appendChild(docLink);\n",
              "        }\n",
              "      </script>\n",
              "    </div>\n",
              "  </div>\n",
              "  "
            ]
          },
          "metadata": {},
          "execution_count": 182
        }
      ]
    },
    {
      "cell_type": "code",
      "source": [
        "#Test the following null hypotheses:\n",
        "#a. The average hospitalization costs for the three types of hospitals are not significantly different\n",
        "\n",
        "# Extract the cost values for each hospital tier\n",
        "hospital_tier_1_costs = df.loc[df['Hospital tier'] == 1, 'charges']\n",
        "hospital_tier_2_costs = df.loc[df['Hospital tier'] == 2, 'charges']\n",
        "hospital_tier_3_costs = df.loc[df['Hospital tier'] == 3, 'charges']\n",
        "\n"
      ],
      "metadata": {
        "id": "YpXcOBqet41C"
      },
      "execution_count": null,
      "outputs": []
    },
    {
      "cell_type": "markdown",
      "source": [
        "1. Null hypothesis (H0): The average hospitalization costs for the three types of hospitals are equal.\n",
        "2. Alternative hypothesis (HA): The average hospitalization costs for the three types of hospitals are significantly different."
      ],
      "metadata": {
        "id": "rq_zErLFwzkG"
      }
    },
    {
      "cell_type": "code",
      "source": [
        "import scipy.stats as stats\n",
        "# Perform one-way ANOVA test\n",
        "f_statistic, p_value = stats.f_oneway(hospital_tier_1_costs, hospital_tier_2_costs, hospital_tier_3_costs)\n",
        "print(f_statistic)\n",
        "print(p_value)\n",
        "# Compare p-value to significance level\n",
        "alpha = 0.05  # Set the significance level\n",
        "if p_value < alpha:\n",
        "    print(\"Reject the null hypothesis. There are significant differences in average hospitalization costs.\")\n",
        "else:\n",
        "    print(\"Fail to reject the null hypothesis. Average hospitalization costs are not significantly different.\")"
      ],
      "metadata": {
        "colab": {
          "base_uri": "https://localhost:8080/"
        },
        "id": "vOL4qZrCvS4T",
        "outputId": "317e7ff0-ec6a-4a2c-db72-b9fa96e62430"
      },
      "execution_count": null,
      "outputs": [
        {
          "output_type": "stream",
          "name": "stdout",
          "text": [
            "493.98956631117636\n",
            "1.7738221310852664e-179\n",
            "Reject the null hypothesis. There are significant differences in average hospitalization costs.\n"
          ]
        }
      ]
    },
    {
      "cell_type": "code",
      "source": [
        "#b. The average hospitalization costs for the three types of cities are not significantly different\n",
        "# Extract the cost values for each city tier\n",
        "city_tier_1_costs = df.loc[df['City tier'] == 1, 'charges']\n",
        "city_tier_2_costs = df.loc[df['City tier'] == 2, 'charges']\n",
        "city_tier_3_costs = df.loc[df['City tier'] == 3, 'charges']"
      ],
      "metadata": {
        "id": "x1nbHFNmyngR"
      },
      "execution_count": null,
      "outputs": []
    },
    {
      "cell_type": "markdown",
      "source": [
        "1. Null hypothesis (H0): The average hospitalization costs for the three types of city are equal.\n",
        "2. Alternative hypothesis (HA): The average hospitalization costs for the three types of city are significantly different."
      ],
      "metadata": {
        "id": "jvyvSuprzsMp"
      }
    },
    {
      "cell_type": "code",
      "source": [
        "# Perform one-way ANOVA test\n",
        "f_statistic, p_value = stats.f_oneway(city_tier_1_costs, city_tier_2_costs, city_tier_3_costs)\n",
        "print(f_statistic)\n",
        "print(p_value)\n",
        "# Compare p-value to significance level\n",
        "alpha = 0.05  # Set the significance level\n",
        "if p_value < alpha:\n",
        "    print(\"Reject the null hypothesis. There are significant differences in average hospitalization costs.\")\n",
        "else:\n",
        "    print(\"Fail to reject the null hypothesis. Average hospitalization costs are not significantly different.\")"
      ],
      "metadata": {
        "colab": {
          "base_uri": "https://localhost:8080/"
        },
        "id": "LK50bxyxzlcJ",
        "outputId": "18e7cd3b-0cda-48b8-e8ea-44b51223f451"
      },
      "execution_count": null,
      "outputs": [
        {
          "output_type": "stream",
          "name": "stdout",
          "text": [
            "1.4543557561814688\n",
            "0.23376344386881315\n",
            "Fail to reject the null hypothesis. Average hospitalization costs are not significantly different.\n"
          ]
        }
      ]
    },
    {
      "cell_type": "code",
      "source": [
        "df.groupby('City tier')['charges'].mean()"
      ],
      "metadata": {
        "colab": {
          "base_uri": "https://localhost:8080/"
        },
        "id": "MZRABBBi0mee",
        "outputId": "e9b06317-62ae-449b-96b7-9ba5c26e0598"
      },
      "execution_count": null,
      "outputs": [
        {
          "output_type": "execute_result",
          "data": {
            "text/plain": [
              "City tier\n",
              "1    13009.972579\n",
              "2    13471.919281\n",
              "3    14045.312066\n",
              "Name: charges, dtype: float64"
            ]
          },
          "metadata": {},
          "execution_count": 187
        }
      ]
    },
    {
      "cell_type": "code",
      "source": [
        "df['smoker'].unique()"
      ],
      "metadata": {
        "colab": {
          "base_uri": "https://localhost:8080/"
        },
        "id": "L8mA91_x4N_A",
        "outputId": "64bff091-74e6-4c51-b650-dd11790ec35d"
      },
      "execution_count": null,
      "outputs": [
        {
          "output_type": "execute_result",
          "data": {
            "text/plain": [
              "array([0, 1])"
            ]
          },
          "metadata": {},
          "execution_count": 188
        }
      ]
    },
    {
      "cell_type": "code",
      "source": [
        "#The average hospitalization cost for smokers is not significantly different from the average cost for nonsmokers\n",
        "# Extract the cost values for smokers and nonsmokers\n",
        "smoker_costs = df.loc[df['smoker'] == 1, 'charges']\n",
        "nonsmoker_costs = df.loc[df['smoker'] == 0, 'charges']\n"
      ],
      "metadata": {
        "id": "_4RL6hwE01Qx"
      },
      "execution_count": null,
      "outputs": []
    },
    {
      "cell_type": "markdown",
      "source": [
        "1. Null hypothesis (H0): The average hospitalization cost for smokers is not significantly different from the average cost for nonsmokers\n",
        "2. Alternative hypothesis (HA): The average hospitalization cost for smokers is  significantly different from the average cost for nonsmokers"
      ],
      "metadata": {
        "id": "yOzc6wWh4sHX"
      }
    },
    {
      "cell_type": "code",
      "source": [
        "# Perform two-sample t-test\n",
        "t_statistic, p_value = stats.ttest_ind(smoker_costs, nonsmoker_costs)\n",
        "print(t_statistic)\n",
        "print(p_value)\n",
        "# Compare p-value to significance level\n",
        "alpha = 0.05  # Set the significance level\n",
        "if p_value < alpha:\n",
        "    print(\"Reject the null hypothesis. The average hospitalization cost for smokers is significantly different from nonsmokers.\")\n",
        "else:\n",
        "    print(\"Fail to reject the null hypothesis. The average hospitalization cost for smokers is not significantly different from nonsmokers.\")"
      ],
      "metadata": {
        "colab": {
          "base_uri": "https://localhost:8080/"
        },
        "id": "EwiJ-0uj4mhx",
        "outputId": "509aa22a-cd27-44a0-8d8e-7a0a20d08b08"
      },
      "execution_count": null,
      "outputs": [
        {
          "output_type": "stream",
          "name": "stdout",
          "text": [
            "74.15560699695726\n",
            "0.0\n",
            "Reject the null hypothesis. The average hospitalization cost for smokers is significantly different from nonsmokers.\n"
          ]
        }
      ]
    },
    {
      "cell_type": "code",
      "source": [
        "df.info()"
      ],
      "metadata": {
        "colab": {
          "base_uri": "https://localhost:8080/"
        },
        "id": "eGztHZaQQowa",
        "outputId": "cfa88eff-531a-46f9-95bb-29d1d6029d49"
      },
      "execution_count": null,
      "outputs": [
        {
          "output_type": "stream",
          "name": "stdout",
          "text": [
            "<class 'pandas.core.frame.DataFrame'>\n",
            "Int64Index: 2325 entries, 0 to 2334\n",
            "Data columns (total 23 columns):\n",
            " #   Column                  Non-Null Count  Dtype  \n",
            "---  ------                  --------------  -----  \n",
            " 0   Customer ID             2325 non-null   object \n",
            " 1   year                    2325 non-null   int64  \n",
            " 2   month                   2325 non-null   int64  \n",
            " 3   date                    2325 non-null   int64  \n",
            " 4   children                2325 non-null   int64  \n",
            " 5   charges                 2325 non-null   float64\n",
            " 6   Hospital tier           2325 non-null   int64  \n",
            " 7   City tier               2325 non-null   int64  \n",
            " 8   State ID                2325 non-null   object \n",
            " 9   BMI                     2325 non-null   float64\n",
            " 10  HBA1C                   2325 non-null   float64\n",
            " 11  Heart Issues            2325 non-null   int64  \n",
            " 12  Any Transplants         2325 non-null   int64  \n",
            " 13  Cancer history          2325 non-null   int64  \n",
            " 14  NumberOfMajorSurgeries  2325 non-null   int64  \n",
            " 15  smoker                  2325 non-null   int64  \n",
            " 16  name                    2325 non-null   object \n",
            " 17  State_R1011             2325 non-null   uint8  \n",
            " 18  State_R1012             2325 non-null   uint8  \n",
            " 19  State_R1013             2325 non-null   uint8  \n",
            " 20  Age                     2325 non-null   int64  \n",
            " 21  Salutation              2325 non-null   object \n",
            " 22  Gender                  2325 non-null   object \n",
            "dtypes: float64(3), int64(12), object(5), uint8(3)\n",
            "memory usage: 452.8+ KB\n"
          ]
        }
      ]
    },
    {
      "cell_type": "code",
      "source": [
        "#d. Smoking and heart issues are independent\n",
        "# Create a contingency table of smoking and heart issues\n",
        "contingency_table = pd.crosstab(df['smoker'], df['Heart Issues'])\n",
        "contingency_table\n",
        "\n"
      ],
      "metadata": {
        "colab": {
          "base_uri": "https://localhost:8080/",
          "height": 143
        },
        "id": "McG0ehaI5EnA",
        "outputId": "442735e1-692c-4256-ce9e-7bf60455322d"
      },
      "execution_count": null,
      "outputs": [
        {
          "output_type": "execute_result",
          "data": {
            "text/plain": [
              "Heart Issues     0    1\n",
              "smoker                 \n",
              "0             1108  731\n",
              "1              297  189"
            ],
            "text/html": [
              "\n",
              "  <div id=\"df-d9a44258-4c3b-41c3-a002-f26b05c159f8\">\n",
              "    <div class=\"colab-df-container\">\n",
              "      <div>\n",
              "<style scoped>\n",
              "    .dataframe tbody tr th:only-of-type {\n",
              "        vertical-align: middle;\n",
              "    }\n",
              "\n",
              "    .dataframe tbody tr th {\n",
              "        vertical-align: top;\n",
              "    }\n",
              "\n",
              "    .dataframe thead th {\n",
              "        text-align: right;\n",
              "    }\n",
              "</style>\n",
              "<table border=\"1\" class=\"dataframe\">\n",
              "  <thead>\n",
              "    <tr style=\"text-align: right;\">\n",
              "      <th>Heart Issues</th>\n",
              "      <th>0</th>\n",
              "      <th>1</th>\n",
              "    </tr>\n",
              "    <tr>\n",
              "      <th>smoker</th>\n",
              "      <th></th>\n",
              "      <th></th>\n",
              "    </tr>\n",
              "  </thead>\n",
              "  <tbody>\n",
              "    <tr>\n",
              "      <th>0</th>\n",
              "      <td>1108</td>\n",
              "      <td>731</td>\n",
              "    </tr>\n",
              "    <tr>\n",
              "      <th>1</th>\n",
              "      <td>297</td>\n",
              "      <td>189</td>\n",
              "    </tr>\n",
              "  </tbody>\n",
              "</table>\n",
              "</div>\n",
              "      <button class=\"colab-df-convert\" onclick=\"convertToInteractive('df-d9a44258-4c3b-41c3-a002-f26b05c159f8')\"\n",
              "              title=\"Convert this dataframe to an interactive table.\"\n",
              "              style=\"display:none;\">\n",
              "        \n",
              "  <svg xmlns=\"http://www.w3.org/2000/svg\" height=\"24px\"viewBox=\"0 0 24 24\"\n",
              "       width=\"24px\">\n",
              "    <path d=\"M0 0h24v24H0V0z\" fill=\"none\"/>\n",
              "    <path d=\"M18.56 5.44l.94 2.06.94-2.06 2.06-.94-2.06-.94-.94-2.06-.94 2.06-2.06.94zm-11 1L8.5 8.5l.94-2.06 2.06-.94-2.06-.94L8.5 2.5l-.94 2.06-2.06.94zm10 10l.94 2.06.94-2.06 2.06-.94-2.06-.94-.94-2.06-.94 2.06-2.06.94z\"/><path d=\"M17.41 7.96l-1.37-1.37c-.4-.4-.92-.59-1.43-.59-.52 0-1.04.2-1.43.59L10.3 9.45l-7.72 7.72c-.78.78-.78 2.05 0 2.83L4 21.41c.39.39.9.59 1.41.59.51 0 1.02-.2 1.41-.59l7.78-7.78 2.81-2.81c.8-.78.8-2.07 0-2.86zM5.41 20L4 18.59l7.72-7.72 1.47 1.35L5.41 20z\"/>\n",
              "  </svg>\n",
              "      </button>\n",
              "      \n",
              "  <style>\n",
              "    .colab-df-container {\n",
              "      display:flex;\n",
              "      flex-wrap:wrap;\n",
              "      gap: 12px;\n",
              "    }\n",
              "\n",
              "    .colab-df-convert {\n",
              "      background-color: #E8F0FE;\n",
              "      border: none;\n",
              "      border-radius: 50%;\n",
              "      cursor: pointer;\n",
              "      display: none;\n",
              "      fill: #1967D2;\n",
              "      height: 32px;\n",
              "      padding: 0 0 0 0;\n",
              "      width: 32px;\n",
              "    }\n",
              "\n",
              "    .colab-df-convert:hover {\n",
              "      background-color: #E2EBFA;\n",
              "      box-shadow: 0px 1px 2px rgba(60, 64, 67, 0.3), 0px 1px 3px 1px rgba(60, 64, 67, 0.15);\n",
              "      fill: #174EA6;\n",
              "    }\n",
              "\n",
              "    [theme=dark] .colab-df-convert {\n",
              "      background-color: #3B4455;\n",
              "      fill: #D2E3FC;\n",
              "    }\n",
              "\n",
              "    [theme=dark] .colab-df-convert:hover {\n",
              "      background-color: #434B5C;\n",
              "      box-shadow: 0px 1px 3px 1px rgba(0, 0, 0, 0.15);\n",
              "      filter: drop-shadow(0px 1px 2px rgba(0, 0, 0, 0.3));\n",
              "      fill: #FFFFFF;\n",
              "    }\n",
              "  </style>\n",
              "\n",
              "      <script>\n",
              "        const buttonEl =\n",
              "          document.querySelector('#df-d9a44258-4c3b-41c3-a002-f26b05c159f8 button.colab-df-convert');\n",
              "        buttonEl.style.display =\n",
              "          google.colab.kernel.accessAllowed ? 'block' : 'none';\n",
              "\n",
              "        async function convertToInteractive(key) {\n",
              "          const element = document.querySelector('#df-d9a44258-4c3b-41c3-a002-f26b05c159f8');\n",
              "          const dataTable =\n",
              "            await google.colab.kernel.invokeFunction('convertToInteractive',\n",
              "                                                     [key], {});\n",
              "          if (!dataTable) return;\n",
              "\n",
              "          const docLinkHtml = 'Like what you see? Visit the ' +\n",
              "            '<a target=\"_blank\" href=https://colab.research.google.com/notebooks/data_table.ipynb>data table notebook</a>'\n",
              "            + ' to learn more about interactive tables.';\n",
              "          element.innerHTML = '';\n",
              "          dataTable['output_type'] = 'display_data';\n",
              "          await google.colab.output.renderOutput(dataTable, element);\n",
              "          const docLink = document.createElement('div');\n",
              "          docLink.innerHTML = docLinkHtml;\n",
              "          element.appendChild(docLink);\n",
              "        }\n",
              "      </script>\n",
              "    </div>\n",
              "  </div>\n",
              "  "
            ]
          },
          "metadata": {},
          "execution_count": 192
        }
      ]
    },
    {
      "cell_type": "code",
      "source": [
        "# Perform chi-square test of independence\n",
        "chi2_statistic, p_value, _, _ = stats.chi2_contingency(contingency_table)\n",
        "print(chi2_statistic)\n",
        "print(p_value)\n",
        "\n",
        "# Compare p-value to significance level\n",
        "alpha = 0.05  # Set the significance level\n",
        "if p_value < alpha:\n",
        "    print(\"Reject the null hypothesis. Smoking and heart issues are not independent.\")\n",
        "else:\n",
        "    print(\"Fail to reject the null hypothesis. Smoking and heart issues are independent.\")"
      ],
      "metadata": {
        "colab": {
          "base_uri": "https://localhost:8080/"
        },
        "id": "2L5xkCK8RqUm",
        "outputId": "7c7f7560-bb89-4f55-f673-980efecbbf06"
      },
      "execution_count": null,
      "outputs": [
        {
          "output_type": "stream",
          "name": "stdout",
          "text": [
            "0.08588150449910657\n",
            "0.7694797581780767\n",
            "Fail to reject the null hypothesis. Smoking and heart issues are independent.\n"
          ]
        }
      ]
    },
    {
      "cell_type": "code",
      "source": [
        "df.head(2)"
      ],
      "metadata": {
        "colab": {
          "base_uri": "https://localhost:8080/",
          "height": 275
        },
        "id": "CRmy42ZNSvZ2",
        "outputId": "75dedf0a-ba14-44e8-9030-01070ed7c193"
      },
      "execution_count": null,
      "outputs": [
        {
          "output_type": "execute_result",
          "data": {
            "text/plain": [
              "  Customer ID  year  month  date  children  charges  Hospital tier  City tier  \\\n",
              "0      Id2335  1992      7     9         0   563.84              2          3   \n",
              "1      Id2334  1992     11    30         0   570.62              2          1   \n",
              "\n",
              "  State ID    BMI  ...  Cancer history  NumberOfMajorSurgeries  smoker  \\\n",
              "0    R1013  17.58  ...               0                       1       0   \n",
              "1    R1013  17.60  ...               0                       1       0   \n",
              "\n",
              "                     name  State_R1011  State_R1012 State_R1013  Age  \\\n",
              "0    German, Mr.  Aaron K            0            0           1   30   \n",
              "1  Rosendahl, Mr.  Evan P            0            0           1   30   \n",
              "\n",
              "   Salutation  Gender  \n",
              "0         Mr.    Male  \n",
              "1         Mr.    Male  \n",
              "\n",
              "[2 rows x 23 columns]"
            ],
            "text/html": [
              "\n",
              "  <div id=\"df-0b4dcb12-2d24-429d-8d23-356fd3df8a00\">\n",
              "    <div class=\"colab-df-container\">\n",
              "      <div>\n",
              "<style scoped>\n",
              "    .dataframe tbody tr th:only-of-type {\n",
              "        vertical-align: middle;\n",
              "    }\n",
              "\n",
              "    .dataframe tbody tr th {\n",
              "        vertical-align: top;\n",
              "    }\n",
              "\n",
              "    .dataframe thead th {\n",
              "        text-align: right;\n",
              "    }\n",
              "</style>\n",
              "<table border=\"1\" class=\"dataframe\">\n",
              "  <thead>\n",
              "    <tr style=\"text-align: right;\">\n",
              "      <th></th>\n",
              "      <th>Customer ID</th>\n",
              "      <th>year</th>\n",
              "      <th>month</th>\n",
              "      <th>date</th>\n",
              "      <th>children</th>\n",
              "      <th>charges</th>\n",
              "      <th>Hospital tier</th>\n",
              "      <th>City tier</th>\n",
              "      <th>State ID</th>\n",
              "      <th>BMI</th>\n",
              "      <th>...</th>\n",
              "      <th>Cancer history</th>\n",
              "      <th>NumberOfMajorSurgeries</th>\n",
              "      <th>smoker</th>\n",
              "      <th>name</th>\n",
              "      <th>State_R1011</th>\n",
              "      <th>State_R1012</th>\n",
              "      <th>State_R1013</th>\n",
              "      <th>Age</th>\n",
              "      <th>Salutation</th>\n",
              "      <th>Gender</th>\n",
              "    </tr>\n",
              "  </thead>\n",
              "  <tbody>\n",
              "    <tr>\n",
              "      <th>0</th>\n",
              "      <td>Id2335</td>\n",
              "      <td>1992</td>\n",
              "      <td>7</td>\n",
              "      <td>9</td>\n",
              "      <td>0</td>\n",
              "      <td>563.84</td>\n",
              "      <td>2</td>\n",
              "      <td>3</td>\n",
              "      <td>R1013</td>\n",
              "      <td>17.58</td>\n",
              "      <td>...</td>\n",
              "      <td>0</td>\n",
              "      <td>1</td>\n",
              "      <td>0</td>\n",
              "      <td>German, Mr.  Aaron K</td>\n",
              "      <td>0</td>\n",
              "      <td>0</td>\n",
              "      <td>1</td>\n",
              "      <td>30</td>\n",
              "      <td>Mr.</td>\n",
              "      <td>Male</td>\n",
              "    </tr>\n",
              "    <tr>\n",
              "      <th>1</th>\n",
              "      <td>Id2334</td>\n",
              "      <td>1992</td>\n",
              "      <td>11</td>\n",
              "      <td>30</td>\n",
              "      <td>0</td>\n",
              "      <td>570.62</td>\n",
              "      <td>2</td>\n",
              "      <td>1</td>\n",
              "      <td>R1013</td>\n",
              "      <td>17.60</td>\n",
              "      <td>...</td>\n",
              "      <td>0</td>\n",
              "      <td>1</td>\n",
              "      <td>0</td>\n",
              "      <td>Rosendahl, Mr.  Evan P</td>\n",
              "      <td>0</td>\n",
              "      <td>0</td>\n",
              "      <td>1</td>\n",
              "      <td>30</td>\n",
              "      <td>Mr.</td>\n",
              "      <td>Male</td>\n",
              "    </tr>\n",
              "  </tbody>\n",
              "</table>\n",
              "<p>2 rows × 23 columns</p>\n",
              "</div>\n",
              "      <button class=\"colab-df-convert\" onclick=\"convertToInteractive('df-0b4dcb12-2d24-429d-8d23-356fd3df8a00')\"\n",
              "              title=\"Convert this dataframe to an interactive table.\"\n",
              "              style=\"display:none;\">\n",
              "        \n",
              "  <svg xmlns=\"http://www.w3.org/2000/svg\" height=\"24px\"viewBox=\"0 0 24 24\"\n",
              "       width=\"24px\">\n",
              "    <path d=\"M0 0h24v24H0V0z\" fill=\"none\"/>\n",
              "    <path d=\"M18.56 5.44l.94 2.06.94-2.06 2.06-.94-2.06-.94-.94-2.06-.94 2.06-2.06.94zm-11 1L8.5 8.5l.94-2.06 2.06-.94-2.06-.94L8.5 2.5l-.94 2.06-2.06.94zm10 10l.94 2.06.94-2.06 2.06-.94-2.06-.94-.94-2.06-.94 2.06-2.06.94z\"/><path d=\"M17.41 7.96l-1.37-1.37c-.4-.4-.92-.59-1.43-.59-.52 0-1.04.2-1.43.59L10.3 9.45l-7.72 7.72c-.78.78-.78 2.05 0 2.83L4 21.41c.39.39.9.59 1.41.59.51 0 1.02-.2 1.41-.59l7.78-7.78 2.81-2.81c.8-.78.8-2.07 0-2.86zM5.41 20L4 18.59l7.72-7.72 1.47 1.35L5.41 20z\"/>\n",
              "  </svg>\n",
              "      </button>\n",
              "      \n",
              "  <style>\n",
              "    .colab-df-container {\n",
              "      display:flex;\n",
              "      flex-wrap:wrap;\n",
              "      gap: 12px;\n",
              "    }\n",
              "\n",
              "    .colab-df-convert {\n",
              "      background-color: #E8F0FE;\n",
              "      border: none;\n",
              "      border-radius: 50%;\n",
              "      cursor: pointer;\n",
              "      display: none;\n",
              "      fill: #1967D2;\n",
              "      height: 32px;\n",
              "      padding: 0 0 0 0;\n",
              "      width: 32px;\n",
              "    }\n",
              "\n",
              "    .colab-df-convert:hover {\n",
              "      background-color: #E2EBFA;\n",
              "      box-shadow: 0px 1px 2px rgba(60, 64, 67, 0.3), 0px 1px 3px 1px rgba(60, 64, 67, 0.15);\n",
              "      fill: #174EA6;\n",
              "    }\n",
              "\n",
              "    [theme=dark] .colab-df-convert {\n",
              "      background-color: #3B4455;\n",
              "      fill: #D2E3FC;\n",
              "    }\n",
              "\n",
              "    [theme=dark] .colab-df-convert:hover {\n",
              "      background-color: #434B5C;\n",
              "      box-shadow: 0px 1px 3px 1px rgba(0, 0, 0, 0.15);\n",
              "      filter: drop-shadow(0px 1px 2px rgba(0, 0, 0, 0.3));\n",
              "      fill: #FFFFFF;\n",
              "    }\n",
              "  </style>\n",
              "\n",
              "      <script>\n",
              "        const buttonEl =\n",
              "          document.querySelector('#df-0b4dcb12-2d24-429d-8d23-356fd3df8a00 button.colab-df-convert');\n",
              "        buttonEl.style.display =\n",
              "          google.colab.kernel.accessAllowed ? 'block' : 'none';\n",
              "\n",
              "        async function convertToInteractive(key) {\n",
              "          const element = document.querySelector('#df-0b4dcb12-2d24-429d-8d23-356fd3df8a00');\n",
              "          const dataTable =\n",
              "            await google.colab.kernel.invokeFunction('convertToInteractive',\n",
              "                                                     [key], {});\n",
              "          if (!dataTable) return;\n",
              "\n",
              "          const docLinkHtml = 'Like what you see? Visit the ' +\n",
              "            '<a target=\"_blank\" href=https://colab.research.google.com/notebooks/data_table.ipynb>data table notebook</a>'\n",
              "            + ' to learn more about interactive tables.';\n",
              "          element.innerHTML = '';\n",
              "          dataTable['output_type'] = 'display_data';\n",
              "          await google.colab.output.renderOutput(dataTable, element);\n",
              "          const docLink = document.createElement('div');\n",
              "          docLink.innerHTML = docLinkHtml;\n",
              "          element.appendChild(docLink);\n",
              "        }\n",
              "      </script>\n",
              "    </div>\n",
              "  </div>\n",
              "  "
            ]
          },
          "metadata": {},
          "execution_count": 194
        }
      ]
    },
    {
      "cell_type": "code",
      "source": [
        "df[['charges','children']].corr()"
      ],
      "metadata": {
        "colab": {
          "base_uri": "https://localhost:8080/",
          "height": 112
        },
        "id": "q6ie5TesWooX",
        "outputId": "6393047c-e2ed-4b90-be33-c2c35272884e"
      },
      "execution_count": null,
      "outputs": [
        {
          "output_type": "execute_result",
          "data": {
            "text/plain": [
              "           charges  children\n",
              "charges   1.000000  0.055901\n",
              "children  0.055901  1.000000"
            ],
            "text/html": [
              "\n",
              "  <div id=\"df-082f2b96-dae1-40ce-982c-07ebfe2a5e8c\">\n",
              "    <div class=\"colab-df-container\">\n",
              "      <div>\n",
              "<style scoped>\n",
              "    .dataframe tbody tr th:only-of-type {\n",
              "        vertical-align: middle;\n",
              "    }\n",
              "\n",
              "    .dataframe tbody tr th {\n",
              "        vertical-align: top;\n",
              "    }\n",
              "\n",
              "    .dataframe thead th {\n",
              "        text-align: right;\n",
              "    }\n",
              "</style>\n",
              "<table border=\"1\" class=\"dataframe\">\n",
              "  <thead>\n",
              "    <tr style=\"text-align: right;\">\n",
              "      <th></th>\n",
              "      <th>charges</th>\n",
              "      <th>children</th>\n",
              "    </tr>\n",
              "  </thead>\n",
              "  <tbody>\n",
              "    <tr>\n",
              "      <th>charges</th>\n",
              "      <td>1.000000</td>\n",
              "      <td>0.055901</td>\n",
              "    </tr>\n",
              "    <tr>\n",
              "      <th>children</th>\n",
              "      <td>0.055901</td>\n",
              "      <td>1.000000</td>\n",
              "    </tr>\n",
              "  </tbody>\n",
              "</table>\n",
              "</div>\n",
              "      <button class=\"colab-df-convert\" onclick=\"convertToInteractive('df-082f2b96-dae1-40ce-982c-07ebfe2a5e8c')\"\n",
              "              title=\"Convert this dataframe to an interactive table.\"\n",
              "              style=\"display:none;\">\n",
              "        \n",
              "  <svg xmlns=\"http://www.w3.org/2000/svg\" height=\"24px\"viewBox=\"0 0 24 24\"\n",
              "       width=\"24px\">\n",
              "    <path d=\"M0 0h24v24H0V0z\" fill=\"none\"/>\n",
              "    <path d=\"M18.56 5.44l.94 2.06.94-2.06 2.06-.94-2.06-.94-.94-2.06-.94 2.06-2.06.94zm-11 1L8.5 8.5l.94-2.06 2.06-.94-2.06-.94L8.5 2.5l-.94 2.06-2.06.94zm10 10l.94 2.06.94-2.06 2.06-.94-2.06-.94-.94-2.06-.94 2.06-2.06.94z\"/><path d=\"M17.41 7.96l-1.37-1.37c-.4-.4-.92-.59-1.43-.59-.52 0-1.04.2-1.43.59L10.3 9.45l-7.72 7.72c-.78.78-.78 2.05 0 2.83L4 21.41c.39.39.9.59 1.41.59.51 0 1.02-.2 1.41-.59l7.78-7.78 2.81-2.81c.8-.78.8-2.07 0-2.86zM5.41 20L4 18.59l7.72-7.72 1.47 1.35L5.41 20z\"/>\n",
              "  </svg>\n",
              "      </button>\n",
              "      \n",
              "  <style>\n",
              "    .colab-df-container {\n",
              "      display:flex;\n",
              "      flex-wrap:wrap;\n",
              "      gap: 12px;\n",
              "    }\n",
              "\n",
              "    .colab-df-convert {\n",
              "      background-color: #E8F0FE;\n",
              "      border: none;\n",
              "      border-radius: 50%;\n",
              "      cursor: pointer;\n",
              "      display: none;\n",
              "      fill: #1967D2;\n",
              "      height: 32px;\n",
              "      padding: 0 0 0 0;\n",
              "      width: 32px;\n",
              "    }\n",
              "\n",
              "    .colab-df-convert:hover {\n",
              "      background-color: #E2EBFA;\n",
              "      box-shadow: 0px 1px 2px rgba(60, 64, 67, 0.3), 0px 1px 3px 1px rgba(60, 64, 67, 0.15);\n",
              "      fill: #174EA6;\n",
              "    }\n",
              "\n",
              "    [theme=dark] .colab-df-convert {\n",
              "      background-color: #3B4455;\n",
              "      fill: #D2E3FC;\n",
              "    }\n",
              "\n",
              "    [theme=dark] .colab-df-convert:hover {\n",
              "      background-color: #434B5C;\n",
              "      box-shadow: 0px 1px 3px 1px rgba(0, 0, 0, 0.15);\n",
              "      filter: drop-shadow(0px 1px 2px rgba(0, 0, 0, 0.3));\n",
              "      fill: #FFFFFF;\n",
              "    }\n",
              "  </style>\n",
              "\n",
              "      <script>\n",
              "        const buttonEl =\n",
              "          document.querySelector('#df-082f2b96-dae1-40ce-982c-07ebfe2a5e8c button.colab-df-convert');\n",
              "        buttonEl.style.display =\n",
              "          google.colab.kernel.accessAllowed ? 'block' : 'none';\n",
              "\n",
              "        async function convertToInteractive(key) {\n",
              "          const element = document.querySelector('#df-082f2b96-dae1-40ce-982c-07ebfe2a5e8c');\n",
              "          const dataTable =\n",
              "            await google.colab.kernel.invokeFunction('convertToInteractive',\n",
              "                                                     [key], {});\n",
              "          if (!dataTable) return;\n",
              "\n",
              "          const docLinkHtml = 'Like what you see? Visit the ' +\n",
              "            '<a target=\"_blank\" href=https://colab.research.google.com/notebooks/data_table.ipynb>data table notebook</a>'\n",
              "            + ' to learn more about interactive tables.';\n",
              "          element.innerHTML = '';\n",
              "          dataTable['output_type'] = 'display_data';\n",
              "          await google.colab.output.renderOutput(dataTable, element);\n",
              "          const docLink = document.createElement('div');\n",
              "          docLink.innerHTML = docLinkHtml;\n",
              "          element.appendChild(docLink);\n",
              "        }\n",
              "      </script>\n",
              "    </div>\n",
              "  </div>\n",
              "  "
            ]
          },
          "metadata": {},
          "execution_count": 195
        }
      ]
    },
    {
      "cell_type": "code",
      "source": [
        "df.columns"
      ],
      "metadata": {
        "colab": {
          "base_uri": "https://localhost:8080/"
        },
        "id": "kIX2OjSfX7Eo",
        "outputId": "5b817e40-60e4-4e45-f4c2-e4a6c5805109"
      },
      "execution_count": null,
      "outputs": [
        {
          "output_type": "execute_result",
          "data": {
            "text/plain": [
              "Index(['Customer ID', 'year', 'month', 'date', 'children', 'charges',\n",
              "       'Hospital tier', 'City tier', 'State ID', 'BMI', 'HBA1C',\n",
              "       'Heart Issues', 'Any Transplants', 'Cancer history',\n",
              "       'NumberOfMajorSurgeries', 'smoker', 'name', 'State_R1011',\n",
              "       'State_R1012', 'State_R1013', 'Age', 'Salutation', 'Gender'],\n",
              "      dtype='object')"
            ]
          },
          "metadata": {},
          "execution_count": 196
        }
      ]
    },
    {
      "cell_type": "code",
      "source": [
        "#drop columns\n",
        "drop_columns=['Customer ID', 'year', 'month', 'date','State ID','name','Salutation']\n",
        "df=df.drop(drop_columns,axis=1)"
      ],
      "metadata": {
        "id": "GgqPTgxbXqSl"
      },
      "execution_count": null,
      "outputs": []
    },
    {
      "cell_type": "code",
      "source": [
        "df['Gender'] = df['Gender'].replace({'Male': 1, 'Female': 0})"
      ],
      "metadata": {
        "id": "VLUD39UfZDLs"
      },
      "execution_count": null,
      "outputs": []
    },
    {
      "cell_type": "code",
      "source": [
        "df.corr()"
      ],
      "metadata": {
        "colab": {
          "base_uri": "https://localhost:8080/",
          "height": 632
        },
        "id": "R1M7BRp0ZXJp",
        "outputId": "c5505db0-0bc6-4f61-9331-aba543326973"
      },
      "execution_count": null,
      "outputs": [
        {
          "output_type": "execute_result",
          "data": {
            "text/plain": [
              "                        children   charges  Hospital tier  City tier  \\\n",
              "children                1.000000  0.055901      -0.052438  -0.015760   \n",
              "charges                 0.055901  1.000000      -0.446687   0.035300   \n",
              "Hospital tier          -0.052438 -0.446687       1.000000  -0.039755   \n",
              "City tier              -0.015760  0.035300      -0.039755   1.000000   \n",
              "BMI                    -0.005339  0.346730      -0.104771   0.038123   \n",
              "HBA1C                  -0.101379  0.139697       0.057855  -0.005404   \n",
              "Heart Issues            0.023984  0.049299       0.053376   0.023152   \n",
              "Any Transplants        -0.142040 -0.127028       0.011729   0.002970   \n",
              "Cancer history         -0.027880 -0.022522      -0.021429  -0.018639   \n",
              "NumberOfMajorSurgeries -0.113161  0.053308       0.033230   0.027937   \n",
              "smoker                  0.017713  0.838462      -0.474077   0.032034   \n",
              "State_R1011             0.011666  0.286956      -0.114685   0.036049   \n",
              "State_R1012             0.005247 -0.074636       0.020272  -0.018253   \n",
              "State_R1013            -0.013834 -0.150634       0.002455   0.002766   \n",
              "Age                    -0.004891  0.304082       0.133041  -0.007767   \n",
              "Gender                  0.015012  0.059778      -0.007156   0.059689   \n",
              "\n",
              "                             BMI     HBA1C  Heart Issues  Any Transplants  \\\n",
              "children               -0.005339 -0.101379      0.023984        -0.142040   \n",
              "charges                 0.346730  0.139697      0.049299        -0.127028   \n",
              "Hospital tier          -0.104771  0.057855      0.053376         0.011729   \n",
              "City tier               0.038123 -0.005404      0.023152         0.002970   \n",
              "BMI                     1.000000 -0.006920      0.017129         0.015893   \n",
              "HBA1C                  -0.006920  1.000000      0.007699        -0.159855   \n",
              "Heart Issues            0.017129  0.007699      1.000000        -0.140269   \n",
              "Any Transplants         0.015893 -0.159855     -0.140269         1.000000   \n",
              "Cancer history         -0.020235 -0.170921      0.111190        -0.114677   \n",
              "NumberOfMajorSurgeries  0.018851 -0.091594      0.206147         0.158593   \n",
              "smoker                  0.107126  0.007257     -0.007159        -0.025101   \n",
              "State_R1011             0.115671  0.015525      0.005852        -0.058553   \n",
              "State_R1012             0.017939 -0.019513      0.021770        -0.066453   \n",
              "State_R1013            -0.208744  0.033453     -0.027967         0.064563   \n",
              "Age                     0.048807  0.460591      0.192429        -0.381145   \n",
              "Gender                  0.015209 -0.024550     -0.002474         0.003921   \n",
              "\n",
              "                        Cancer history  NumberOfMajorSurgeries    smoker  \\\n",
              "children                     -0.027880               -0.113161  0.017713   \n",
              "charges                      -0.022522                0.053308  0.838462   \n",
              "Hospital tier                -0.021429                0.033230 -0.474077   \n",
              "City tier                    -0.018639                0.027937  0.032034   \n",
              "BMI                          -0.020235                0.018851  0.107126   \n",
              "HBA1C                        -0.170921               -0.091594  0.007257   \n",
              "Heart Issues                  0.111190                0.206147 -0.007159   \n",
              "Any Transplants              -0.114677                0.158593 -0.025101   \n",
              "Cancer history                1.000000                0.204208  0.006415   \n",
              "NumberOfMajorSurgeries        0.204208                1.000000  0.017199   \n",
              "smoker                        0.006415                0.017199  1.000000   \n",
              "State_R1011                   0.011919                0.000208  0.336112   \n",
              "State_R1012                   0.058222               -0.002098 -0.106998   \n",
              "State_R1013                  -0.066475               -0.002056 -0.094547   \n",
              "Age                          -0.101695                0.151532  0.011465   \n",
              "Gender                       -0.012069                0.004233  0.083169   \n",
              "\n",
              "                        State_R1011  State_R1012  State_R1013       Age  \\\n",
              "children                   0.011666     0.005247    -0.013834 -0.004891   \n",
              "charges                    0.286956    -0.074636    -0.150634  0.304082   \n",
              "Hospital tier             -0.114685     0.020272     0.002455  0.133041   \n",
              "City tier                  0.036049    -0.018253     0.002766 -0.007767   \n",
              "BMI                        0.115671     0.017939    -0.208744  0.048807   \n",
              "HBA1C                      0.015525    -0.019513     0.033453  0.460591   \n",
              "Heart Issues               0.005852     0.021770    -0.027967  0.192429   \n",
              "Any Transplants           -0.058553    -0.066453     0.064563 -0.381145   \n",
              "Cancer history             0.011919     0.058222    -0.066475 -0.101695   \n",
              "NumberOfMajorSurgeries     0.000208    -0.002098    -0.002056  0.151532   \n",
              "smoker                     0.336112    -0.106998    -0.094547  0.011465   \n",
              "State_R1011                1.000000    -0.327054    -0.341085  0.007435   \n",
              "State_R1012               -0.327054     1.000000    -0.340296 -0.005349   \n",
              "State_R1013               -0.341085    -0.340296     1.000000 -0.010988   \n",
              "Age                        0.007435    -0.005349    -0.010988  1.000000   \n",
              "Gender                    -0.005246    -0.007252     0.021311 -0.020233   \n",
              "\n",
              "                          Gender  \n",
              "children                0.015012  \n",
              "charges                 0.059778  \n",
              "Hospital tier          -0.007156  \n",
              "City tier               0.059689  \n",
              "BMI                     0.015209  \n",
              "HBA1C                  -0.024550  \n",
              "Heart Issues           -0.002474  \n",
              "Any Transplants         0.003921  \n",
              "Cancer history         -0.012069  \n",
              "NumberOfMajorSurgeries  0.004233  \n",
              "smoker                  0.083169  \n",
              "State_R1011            -0.005246  \n",
              "State_R1012            -0.007252  \n",
              "State_R1013             0.021311  \n",
              "Age                    -0.020233  \n",
              "Gender                  1.000000  "
            ],
            "text/html": [
              "\n",
              "  <div id=\"df-8ea7def1-0e06-4e56-ab53-177acdd5aadc\">\n",
              "    <div class=\"colab-df-container\">\n",
              "      <div>\n",
              "<style scoped>\n",
              "    .dataframe tbody tr th:only-of-type {\n",
              "        vertical-align: middle;\n",
              "    }\n",
              "\n",
              "    .dataframe tbody tr th {\n",
              "        vertical-align: top;\n",
              "    }\n",
              "\n",
              "    .dataframe thead th {\n",
              "        text-align: right;\n",
              "    }\n",
              "</style>\n",
              "<table border=\"1\" class=\"dataframe\">\n",
              "  <thead>\n",
              "    <tr style=\"text-align: right;\">\n",
              "      <th></th>\n",
              "      <th>children</th>\n",
              "      <th>charges</th>\n",
              "      <th>Hospital tier</th>\n",
              "      <th>City tier</th>\n",
              "      <th>BMI</th>\n",
              "      <th>HBA1C</th>\n",
              "      <th>Heart Issues</th>\n",
              "      <th>Any Transplants</th>\n",
              "      <th>Cancer history</th>\n",
              "      <th>NumberOfMajorSurgeries</th>\n",
              "      <th>smoker</th>\n",
              "      <th>State_R1011</th>\n",
              "      <th>State_R1012</th>\n",
              "      <th>State_R1013</th>\n",
              "      <th>Age</th>\n",
              "      <th>Gender</th>\n",
              "    </tr>\n",
              "  </thead>\n",
              "  <tbody>\n",
              "    <tr>\n",
              "      <th>children</th>\n",
              "      <td>1.000000</td>\n",
              "      <td>0.055901</td>\n",
              "      <td>-0.052438</td>\n",
              "      <td>-0.015760</td>\n",
              "      <td>-0.005339</td>\n",
              "      <td>-0.101379</td>\n",
              "      <td>0.023984</td>\n",
              "      <td>-0.142040</td>\n",
              "      <td>-0.027880</td>\n",
              "      <td>-0.113161</td>\n",
              "      <td>0.017713</td>\n",
              "      <td>0.011666</td>\n",
              "      <td>0.005247</td>\n",
              "      <td>-0.013834</td>\n",
              "      <td>-0.004891</td>\n",
              "      <td>0.015012</td>\n",
              "    </tr>\n",
              "    <tr>\n",
              "      <th>charges</th>\n",
              "      <td>0.055901</td>\n",
              "      <td>1.000000</td>\n",
              "      <td>-0.446687</td>\n",
              "      <td>0.035300</td>\n",
              "      <td>0.346730</td>\n",
              "      <td>0.139697</td>\n",
              "      <td>0.049299</td>\n",
              "      <td>-0.127028</td>\n",
              "      <td>-0.022522</td>\n",
              "      <td>0.053308</td>\n",
              "      <td>0.838462</td>\n",
              "      <td>0.286956</td>\n",
              "      <td>-0.074636</td>\n",
              "      <td>-0.150634</td>\n",
              "      <td>0.304082</td>\n",
              "      <td>0.059778</td>\n",
              "    </tr>\n",
              "    <tr>\n",
              "      <th>Hospital tier</th>\n",
              "      <td>-0.052438</td>\n",
              "      <td>-0.446687</td>\n",
              "      <td>1.000000</td>\n",
              "      <td>-0.039755</td>\n",
              "      <td>-0.104771</td>\n",
              "      <td>0.057855</td>\n",
              "      <td>0.053376</td>\n",
              "      <td>0.011729</td>\n",
              "      <td>-0.021429</td>\n",
              "      <td>0.033230</td>\n",
              "      <td>-0.474077</td>\n",
              "      <td>-0.114685</td>\n",
              "      <td>0.020272</td>\n",
              "      <td>0.002455</td>\n",
              "      <td>0.133041</td>\n",
              "      <td>-0.007156</td>\n",
              "    </tr>\n",
              "    <tr>\n",
              "      <th>City tier</th>\n",
              "      <td>-0.015760</td>\n",
              "      <td>0.035300</td>\n",
              "      <td>-0.039755</td>\n",
              "      <td>1.000000</td>\n",
              "      <td>0.038123</td>\n",
              "      <td>-0.005404</td>\n",
              "      <td>0.023152</td>\n",
              "      <td>0.002970</td>\n",
              "      <td>-0.018639</td>\n",
              "      <td>0.027937</td>\n",
              "      <td>0.032034</td>\n",
              "      <td>0.036049</td>\n",
              "      <td>-0.018253</td>\n",
              "      <td>0.002766</td>\n",
              "      <td>-0.007767</td>\n",
              "      <td>0.059689</td>\n",
              "    </tr>\n",
              "    <tr>\n",
              "      <th>BMI</th>\n",
              "      <td>-0.005339</td>\n",
              "      <td>0.346730</td>\n",
              "      <td>-0.104771</td>\n",
              "      <td>0.038123</td>\n",
              "      <td>1.000000</td>\n",
              "      <td>-0.006920</td>\n",
              "      <td>0.017129</td>\n",
              "      <td>0.015893</td>\n",
              "      <td>-0.020235</td>\n",
              "      <td>0.018851</td>\n",
              "      <td>0.107126</td>\n",
              "      <td>0.115671</td>\n",
              "      <td>0.017939</td>\n",
              "      <td>-0.208744</td>\n",
              "      <td>0.048807</td>\n",
              "      <td>0.015209</td>\n",
              "    </tr>\n",
              "    <tr>\n",
              "      <th>HBA1C</th>\n",
              "      <td>-0.101379</td>\n",
              "      <td>0.139697</td>\n",
              "      <td>0.057855</td>\n",
              "      <td>-0.005404</td>\n",
              "      <td>-0.006920</td>\n",
              "      <td>1.000000</td>\n",
              "      <td>0.007699</td>\n",
              "      <td>-0.159855</td>\n",
              "      <td>-0.170921</td>\n",
              "      <td>-0.091594</td>\n",
              "      <td>0.007257</td>\n",
              "      <td>0.015525</td>\n",
              "      <td>-0.019513</td>\n",
              "      <td>0.033453</td>\n",
              "      <td>0.460591</td>\n",
              "      <td>-0.024550</td>\n",
              "    </tr>\n",
              "    <tr>\n",
              "      <th>Heart Issues</th>\n",
              "      <td>0.023984</td>\n",
              "      <td>0.049299</td>\n",
              "      <td>0.053376</td>\n",
              "      <td>0.023152</td>\n",
              "      <td>0.017129</td>\n",
              "      <td>0.007699</td>\n",
              "      <td>1.000000</td>\n",
              "      <td>-0.140269</td>\n",
              "      <td>0.111190</td>\n",
              "      <td>0.206147</td>\n",
              "      <td>-0.007159</td>\n",
              "      <td>0.005852</td>\n",
              "      <td>0.021770</td>\n",
              "      <td>-0.027967</td>\n",
              "      <td>0.192429</td>\n",
              "      <td>-0.002474</td>\n",
              "    </tr>\n",
              "    <tr>\n",
              "      <th>Any Transplants</th>\n",
              "      <td>-0.142040</td>\n",
              "      <td>-0.127028</td>\n",
              "      <td>0.011729</td>\n",
              "      <td>0.002970</td>\n",
              "      <td>0.015893</td>\n",
              "      <td>-0.159855</td>\n",
              "      <td>-0.140269</td>\n",
              "      <td>1.000000</td>\n",
              "      <td>-0.114677</td>\n",
              "      <td>0.158593</td>\n",
              "      <td>-0.025101</td>\n",
              "      <td>-0.058553</td>\n",
              "      <td>-0.066453</td>\n",
              "      <td>0.064563</td>\n",
              "      <td>-0.381145</td>\n",
              "      <td>0.003921</td>\n",
              "    </tr>\n",
              "    <tr>\n",
              "      <th>Cancer history</th>\n",
              "      <td>-0.027880</td>\n",
              "      <td>-0.022522</td>\n",
              "      <td>-0.021429</td>\n",
              "      <td>-0.018639</td>\n",
              "      <td>-0.020235</td>\n",
              "      <td>-0.170921</td>\n",
              "      <td>0.111190</td>\n",
              "      <td>-0.114677</td>\n",
              "      <td>1.000000</td>\n",
              "      <td>0.204208</td>\n",
              "      <td>0.006415</td>\n",
              "      <td>0.011919</td>\n",
              "      <td>0.058222</td>\n",
              "      <td>-0.066475</td>\n",
              "      <td>-0.101695</td>\n",
              "      <td>-0.012069</td>\n",
              "    </tr>\n",
              "    <tr>\n",
              "      <th>NumberOfMajorSurgeries</th>\n",
              "      <td>-0.113161</td>\n",
              "      <td>0.053308</td>\n",
              "      <td>0.033230</td>\n",
              "      <td>0.027937</td>\n",
              "      <td>0.018851</td>\n",
              "      <td>-0.091594</td>\n",
              "      <td>0.206147</td>\n",
              "      <td>0.158593</td>\n",
              "      <td>0.204208</td>\n",
              "      <td>1.000000</td>\n",
              "      <td>0.017199</td>\n",
              "      <td>0.000208</td>\n",
              "      <td>-0.002098</td>\n",
              "      <td>-0.002056</td>\n",
              "      <td>0.151532</td>\n",
              "      <td>0.004233</td>\n",
              "    </tr>\n",
              "    <tr>\n",
              "      <th>smoker</th>\n",
              "      <td>0.017713</td>\n",
              "      <td>0.838462</td>\n",
              "      <td>-0.474077</td>\n",
              "      <td>0.032034</td>\n",
              "      <td>0.107126</td>\n",
              "      <td>0.007257</td>\n",
              "      <td>-0.007159</td>\n",
              "      <td>-0.025101</td>\n",
              "      <td>0.006415</td>\n",
              "      <td>0.017199</td>\n",
              "      <td>1.000000</td>\n",
              "      <td>0.336112</td>\n",
              "      <td>-0.106998</td>\n",
              "      <td>-0.094547</td>\n",
              "      <td>0.011465</td>\n",
              "      <td>0.083169</td>\n",
              "    </tr>\n",
              "    <tr>\n",
              "      <th>State_R1011</th>\n",
              "      <td>0.011666</td>\n",
              "      <td>0.286956</td>\n",
              "      <td>-0.114685</td>\n",
              "      <td>0.036049</td>\n",
              "      <td>0.115671</td>\n",
              "      <td>0.015525</td>\n",
              "      <td>0.005852</td>\n",
              "      <td>-0.058553</td>\n",
              "      <td>0.011919</td>\n",
              "      <td>0.000208</td>\n",
              "      <td>0.336112</td>\n",
              "      <td>1.000000</td>\n",
              "      <td>-0.327054</td>\n",
              "      <td>-0.341085</td>\n",
              "      <td>0.007435</td>\n",
              "      <td>-0.005246</td>\n",
              "    </tr>\n",
              "    <tr>\n",
              "      <th>State_R1012</th>\n",
              "      <td>0.005247</td>\n",
              "      <td>-0.074636</td>\n",
              "      <td>0.020272</td>\n",
              "      <td>-0.018253</td>\n",
              "      <td>0.017939</td>\n",
              "      <td>-0.019513</td>\n",
              "      <td>0.021770</td>\n",
              "      <td>-0.066453</td>\n",
              "      <td>0.058222</td>\n",
              "      <td>-0.002098</td>\n",
              "      <td>-0.106998</td>\n",
              "      <td>-0.327054</td>\n",
              "      <td>1.000000</td>\n",
              "      <td>-0.340296</td>\n",
              "      <td>-0.005349</td>\n",
              "      <td>-0.007252</td>\n",
              "    </tr>\n",
              "    <tr>\n",
              "      <th>State_R1013</th>\n",
              "      <td>-0.013834</td>\n",
              "      <td>-0.150634</td>\n",
              "      <td>0.002455</td>\n",
              "      <td>0.002766</td>\n",
              "      <td>-0.208744</td>\n",
              "      <td>0.033453</td>\n",
              "      <td>-0.027967</td>\n",
              "      <td>0.064563</td>\n",
              "      <td>-0.066475</td>\n",
              "      <td>-0.002056</td>\n",
              "      <td>-0.094547</td>\n",
              "      <td>-0.341085</td>\n",
              "      <td>-0.340296</td>\n",
              "      <td>1.000000</td>\n",
              "      <td>-0.010988</td>\n",
              "      <td>0.021311</td>\n",
              "    </tr>\n",
              "    <tr>\n",
              "      <th>Age</th>\n",
              "      <td>-0.004891</td>\n",
              "      <td>0.304082</td>\n",
              "      <td>0.133041</td>\n",
              "      <td>-0.007767</td>\n",
              "      <td>0.048807</td>\n",
              "      <td>0.460591</td>\n",
              "      <td>0.192429</td>\n",
              "      <td>-0.381145</td>\n",
              "      <td>-0.101695</td>\n",
              "      <td>0.151532</td>\n",
              "      <td>0.011465</td>\n",
              "      <td>0.007435</td>\n",
              "      <td>-0.005349</td>\n",
              "      <td>-0.010988</td>\n",
              "      <td>1.000000</td>\n",
              "      <td>-0.020233</td>\n",
              "    </tr>\n",
              "    <tr>\n",
              "      <th>Gender</th>\n",
              "      <td>0.015012</td>\n",
              "      <td>0.059778</td>\n",
              "      <td>-0.007156</td>\n",
              "      <td>0.059689</td>\n",
              "      <td>0.015209</td>\n",
              "      <td>-0.024550</td>\n",
              "      <td>-0.002474</td>\n",
              "      <td>0.003921</td>\n",
              "      <td>-0.012069</td>\n",
              "      <td>0.004233</td>\n",
              "      <td>0.083169</td>\n",
              "      <td>-0.005246</td>\n",
              "      <td>-0.007252</td>\n",
              "      <td>0.021311</td>\n",
              "      <td>-0.020233</td>\n",
              "      <td>1.000000</td>\n",
              "    </tr>\n",
              "  </tbody>\n",
              "</table>\n",
              "</div>\n",
              "      <button class=\"colab-df-convert\" onclick=\"convertToInteractive('df-8ea7def1-0e06-4e56-ab53-177acdd5aadc')\"\n",
              "              title=\"Convert this dataframe to an interactive table.\"\n",
              "              style=\"display:none;\">\n",
              "        \n",
              "  <svg xmlns=\"http://www.w3.org/2000/svg\" height=\"24px\"viewBox=\"0 0 24 24\"\n",
              "       width=\"24px\">\n",
              "    <path d=\"M0 0h24v24H0V0z\" fill=\"none\"/>\n",
              "    <path d=\"M18.56 5.44l.94 2.06.94-2.06 2.06-.94-2.06-.94-.94-2.06-.94 2.06-2.06.94zm-11 1L8.5 8.5l.94-2.06 2.06-.94-2.06-.94L8.5 2.5l-.94 2.06-2.06.94zm10 10l.94 2.06.94-2.06 2.06-.94-2.06-.94-.94-2.06-.94 2.06-2.06.94z\"/><path d=\"M17.41 7.96l-1.37-1.37c-.4-.4-.92-.59-1.43-.59-.52 0-1.04.2-1.43.59L10.3 9.45l-7.72 7.72c-.78.78-.78 2.05 0 2.83L4 21.41c.39.39.9.59 1.41.59.51 0 1.02-.2 1.41-.59l7.78-7.78 2.81-2.81c.8-.78.8-2.07 0-2.86zM5.41 20L4 18.59l7.72-7.72 1.47 1.35L5.41 20z\"/>\n",
              "  </svg>\n",
              "      </button>\n",
              "      \n",
              "  <style>\n",
              "    .colab-df-container {\n",
              "      display:flex;\n",
              "      flex-wrap:wrap;\n",
              "      gap: 12px;\n",
              "    }\n",
              "\n",
              "    .colab-df-convert {\n",
              "      background-color: #E8F0FE;\n",
              "      border: none;\n",
              "      border-radius: 50%;\n",
              "      cursor: pointer;\n",
              "      display: none;\n",
              "      fill: #1967D2;\n",
              "      height: 32px;\n",
              "      padding: 0 0 0 0;\n",
              "      width: 32px;\n",
              "    }\n",
              "\n",
              "    .colab-df-convert:hover {\n",
              "      background-color: #E2EBFA;\n",
              "      box-shadow: 0px 1px 2px rgba(60, 64, 67, 0.3), 0px 1px 3px 1px rgba(60, 64, 67, 0.15);\n",
              "      fill: #174EA6;\n",
              "    }\n",
              "\n",
              "    [theme=dark] .colab-df-convert {\n",
              "      background-color: #3B4455;\n",
              "      fill: #D2E3FC;\n",
              "    }\n",
              "\n",
              "    [theme=dark] .colab-df-convert:hover {\n",
              "      background-color: #434B5C;\n",
              "      box-shadow: 0px 1px 3px 1px rgba(0, 0, 0, 0.15);\n",
              "      filter: drop-shadow(0px 1px 2px rgba(0, 0, 0, 0.3));\n",
              "      fill: #FFFFFF;\n",
              "    }\n",
              "  </style>\n",
              "\n",
              "      <script>\n",
              "        const buttonEl =\n",
              "          document.querySelector('#df-8ea7def1-0e06-4e56-ab53-177acdd5aadc button.colab-df-convert');\n",
              "        buttonEl.style.display =\n",
              "          google.colab.kernel.accessAllowed ? 'block' : 'none';\n",
              "\n",
              "        async function convertToInteractive(key) {\n",
              "          const element = document.querySelector('#df-8ea7def1-0e06-4e56-ab53-177acdd5aadc');\n",
              "          const dataTable =\n",
              "            await google.colab.kernel.invokeFunction('convertToInteractive',\n",
              "                                                     [key], {});\n",
              "          if (!dataTable) return;\n",
              "\n",
              "          const docLinkHtml = 'Like what you see? Visit the ' +\n",
              "            '<a target=\"_blank\" href=https://colab.research.google.com/notebooks/data_table.ipynb>data table notebook</a>'\n",
              "            + ' to learn more about interactive tables.';\n",
              "          element.innerHTML = '';\n",
              "          dataTable['output_type'] = 'display_data';\n",
              "          await google.colab.output.renderOutput(dataTable, element);\n",
              "          const docLink = document.createElement('div');\n",
              "          docLink.innerHTML = docLinkHtml;\n",
              "          element.appendChild(docLink);\n",
              "        }\n",
              "      </script>\n",
              "    </div>\n",
              "  </div>\n",
              "  "
            ]
          },
          "metadata": {},
          "execution_count": 199
        }
      ]
    },
    {
      "cell_type": "code",
      "source": [
        "# Create a correlation matrix\n",
        "corr_matrix = df.corr()\n",
        "\n",
        "# Generate a heatmap of the correlation matrix\n",
        "plt.figure(figsize=(10, 8))\n",
        "sns.heatmap(corr_matrix,annot=True,cmap='coolwarm', square=True)\n",
        "plt.title(\"Correlation Heatmap\")\n",
        "\n",
        "# Display the heatmap\n",
        "plt.show()"
      ],
      "metadata": {
        "colab": {
          "base_uri": "https://localhost:8080/",
          "height": 861
        },
        "id": "0ctjvvvPSxRp",
        "outputId": "21d0f5e7-55fc-4c50-8607-ec687b71d045"
      },
      "execution_count": null,
      "outputs": [
        {
          "output_type": "display_data",
          "data": {
            "text/plain": [
              "<Figure size 1000x800 with 2 Axes>"
            ],
            "image/png": "[encoded data removed]"
          },
          "metadata": {}
        }
      ]
    },
    {
      "cell_type": "code",
      "source": [
        "#2. Develop and evaluate the final model using regression with a stochastic gradient descent optimizer. Also, ensure that you apply all the following suggestions:\n",
        "#Split the data into features (X) and the target variable (y)\n",
        "X = df.drop(['charges'], axis=1)\n",
        "y = df['charges']"
      ],
      "metadata": {
        "id": "nFSHnZYSd-QJ"
      },
      "execution_count": null,
      "outputs": []
    },
    {
      "cell_type": "code",
      "source": [
        "X.shape"
      ],
      "metadata": {
        "colab": {
          "base_uri": "https://localhost:8080/"
        },
        "id": "diajCBzEakAo",
        "outputId": "ed489c07-e44d-4cba-dee7-844d43b3a560"
      },
      "execution_count": null,
      "outputs": [
        {
          "output_type": "execute_result",
          "data": {
            "text/plain": [
              "(2325, 15)"
            ]
          },
          "metadata": {},
          "execution_count": 202
        }
      ]
    },
    {
      "cell_type": "code",
      "source": [
        "y.shape"
      ],
      "metadata": {
        "colab": {
          "base_uri": "https://localhost:8080/"
        },
        "id": "OkBgamcIeZo5",
        "outputId": "9d5bf39d-fcd2-45a9-f307-ac4c0797a04f"
      },
      "execution_count": null,
      "outputs": [
        {
          "output_type": "execute_result",
          "data": {
            "text/plain": [
              "(2325,)"
            ]
          },
          "metadata": {},
          "execution_count": 203
        }
      ]
    },
    {
      "cell_type": "code",
      "source": [
        "#function to train and evaluate the model on each fold\n",
        "from sklearn.linear_model import SGDRegressor\n",
        "from sklearn.pipeline import make_pipeline\n",
        "from sklearn.preprocessing import StandardScaler\n",
        "from sklearn.metrics import mean_squared_error\n",
        "from sklearn.model_selection import KFold\n",
        "from sklearn.metrics import r2_score"
      ],
      "metadata": {
        "id": "cMCre7bAf1l_"
      },
      "execution_count": null,
      "outputs": []
    },
    {
      "cell_type": "markdown",
      "source": [
        "#SGDRegressor"
      ],
      "metadata": {
        "id": "0PcumbR8CVxA"
      }
    },
    {
      "cell_type": "code",
      "source": [
        "cv = KFold(n_splits=5, shuffle=True, random_state=42)\n",
        "models = []\n",
        "validation_scores = []\n",
        "R2_score = []\n",
        "\n",
        "for train_index, val_index in cv.split(X,y):\n",
        "    X_train, X_val = X.iloc[train_index], X.iloc[val_index]\n",
        "    y_train, y_val = y.iloc[train_index], y.iloc[val_index]\n",
        "\n",
        "    model = make_pipeline(StandardScaler(), SGDRegressor())\n",
        "    model.fit(X_train, y_train)\n",
        "    y_pred = model.predict(X_val)\n",
        "    rmse = mean_squared_error(y_val, y_pred, squared=False)\n",
        "    R2_sgd=r2_score(y_val, y_pred)\n",
        "    models.append(model)\n",
        "    validation_scores.append(rmse)\n",
        "    R2_score.append(R2_sgd)"
      ],
      "metadata": {
        "id": "tP_FPDYmgfma"
      },
      "execution_count": null,
      "outputs": []
    },
    {
      "cell_type": "code",
      "source": [
        "#Print the validation scores for each fold\n",
        "for fold, score in enumerate(validation_scores):\n",
        "    print(f\"Fold {fold+1}: RMSE = {score}\")"
      ],
      "metadata": {
        "colab": {
          "base_uri": "https://localhost:8080/"
        },
        "id": "X_7sBy1Vng4m",
        "outputId": "63f8a383-824d-4a51-baa9-488908f58ab6"
      },
      "execution_count": null,
      "outputs": [
        {
          "output_type": "stream",
          "name": "stdout",
          "text": [
            "Fold 1: RMSE = 4812.210425469586\n",
            "Fold 2: RMSE = 4929.056589931018\n",
            "Fold 3: RMSE = 3979.6950865829913\n",
            "Fold 4: RMSE = 4202.124740481857\n",
            "Fold 5: RMSE = 4457.946039529037\n"
          ]
        }
      ]
    },
    {
      "cell_type": "code",
      "source": [
        "RMSE_sgd = sum(validation_scores)/len(validation_scores)\n",
        "RMSE_sgd"
      ],
      "metadata": {
        "colab": {
          "base_uri": "https://localhost:8080/"
        },
        "id": "sALZOvoqplOc",
        "outputId": "cfb660a2-c428-4164-d67b-69d098986ddf"
      },
      "execution_count": null,
      "outputs": [
        {
          "output_type": "execute_result",
          "data": {
            "text/plain": [
              "4476.2065763988985"
            ]
          },
          "metadata": {},
          "execution_count": 207
        }
      ]
    },
    {
      "cell_type": "code",
      "source": [
        "#Print the R2 scores for each fold\n",
        "for fold, score in enumerate(R2_score):\n",
        "    print(f\"Fold {fold+1}: R2 = {score}\")"
      ],
      "metadata": {
        "colab": {
          "base_uri": "https://localhost:8080/"
        },
        "id": "TW7kxnoGijrl",
        "outputId": "b834a251-19d6-40cc-85d0-53e75b402c74"
      },
      "execution_count": null,
      "outputs": [
        {
          "output_type": "stream",
          "name": "stdout",
          "text": [
            "Fold 1: R2 = 0.837654060654295\n",
            "Fold 2: R2 = 0.8354244261867851\n",
            "Fold 3: R2 = 0.8770029291507151\n",
            "Fold 4: R2 = 0.8664466364219856\n",
            "Fold 5: R2 = 0.8688506055388208\n"
          ]
        }
      ]
    },
    {
      "cell_type": "code",
      "source": [
        "R2_sgd = sum(R2_score)/len(R2_score)\n",
        "R2_sgd"
      ],
      "metadata": {
        "colab": {
          "base_uri": "https://localhost:8080/"
        },
        "id": "zJJZhT0XjD0U",
        "outputId": "431d4e95-6b7e-48f2-f442-ccc39c3574a4"
      },
      "execution_count": null,
      "outputs": [
        {
          "output_type": "execute_result",
          "data": {
            "text/plain": [
              "0.8570757315905203"
            ]
          },
          "metadata": {},
          "execution_count": 209
        }
      ]
    },
    {
      "cell_type": "code",
      "source": [
        "#Determine the variable importance scores using the final trained model\n",
        "final_model = models[-3]  # Use the model from the last fold\n",
        "importance_scores = final_model.named_steps['sgdregressor'].coef_\n",
        "importance_scores"
      ],
      "metadata": {
        "colab": {
          "base_uri": "https://localhost:8080/"
        },
        "id": "nfeVhhRini6f",
        "outputId": "f17448f5-f7a1-4677-e4a7-a36e5d68ffc4"
      },
      "execution_count": null,
      "outputs": [
        {
          "output_type": "execute_result",
          "data": {
            "text/plain": [
              "array([  486.40482349, -1167.35247113,    14.00494603,  2677.49394453,\n",
              "          85.027407  ,  -101.31220453,   105.10321153,   163.91060926,\n",
              "        -175.0730268 ,  9264.86665882,  -434.73210577,  -236.01027165,\n",
              "        -653.16492769,  3434.71607088,    22.17547125])"
            ]
          },
          "metadata": {},
          "execution_count": 210
        }
      ]
    },
    {
      "cell_type": "code",
      "source": [
        "selected_features = X.columns[importance_scores != 0]\n",
        "redundant_features = X.columns[importance_scores == 0]"
      ],
      "metadata": {
        "id": "3pcpXBSzpWzH"
      },
      "execution_count": null,
      "outputs": []
    },
    {
      "cell_type": "code",
      "source": [
        "selected_features"
      ],
      "metadata": {
        "colab": {
          "base_uri": "https://localhost:8080/"
        },
        "id": "iiYUoJFapaz1",
        "outputId": "6ba85d62-f94c-4909-e86a-d9305a74ec8a"
      },
      "execution_count": null,
      "outputs": [
        {
          "output_type": "execute_result",
          "data": {
            "text/plain": [
              "Index(['children', 'Hospital tier', 'City tier', 'BMI', 'HBA1C',\n",
              "       'Heart Issues', 'Any Transplants', 'Cancer history',\n",
              "       'NumberOfMajorSurgeries', 'smoker', 'State_R1011', 'State_R1012',\n",
              "       'State_R1013', 'Age', 'Gender'],\n",
              "      dtype='object')"
            ]
          },
          "metadata": {},
          "execution_count": 212
        }
      ]
    },
    {
      "cell_type": "code",
      "source": [
        "redundant_features"
      ],
      "metadata": {
        "colab": {
          "base_uri": "https://localhost:8080/"
        },
        "id": "q9xcu9sXpdAE",
        "outputId": "200182c8-0cc9-49e9-f4d2-c45bd977d7ac"
      },
      "execution_count": null,
      "outputs": [
        {
          "output_type": "execute_result",
          "data": {
            "text/plain": [
              "Index([], dtype='object')"
            ]
          },
          "metadata": {},
          "execution_count": 213
        }
      ]
    },
    {
      "cell_type": "markdown",
      "source": [
        "Case scenario:\n",
        "Estimate the cost of hospitalization for Christopher, Ms. Jayna (her date of birth is \n",
        "12/28/1988, height is 170 cm, and weight is 85 kgs). She lives in a tier-1 city and her state’s \n",
        "State ID is R1011. She lives with her partner and two children. She was found to be \n",
        "nondiabetic (HbA1c = 5.8). She smokes but is otherwise healthy. She has had no \n",
        "transplants or major surgeries. Her father died of lung cancer. Hospitalization costs will be \n",
        "estimated using tier-1 hospitals"
      ],
      "metadata": {
        "id": "uAO0fccOY5gH"
      }
    },
    {
      "cell_type": "code",
      "source": [
        "df.columns\n"
      ],
      "metadata": {
        "colab": {
          "base_uri": "https://localhost:8080/"
        },
        "id": "e3Rxyl-RZVJ2",
        "outputId": "cda3b28f-71b1-4104-8229-8164cf88a8bc"
      },
      "execution_count": null,
      "outputs": [
        {
          "output_type": "execute_result",
          "data": {
            "text/plain": [
              "Index(['children', 'charges', 'Hospital tier', 'City tier', 'BMI', 'HBA1C',\n",
              "       'Heart Issues', 'Any Transplants', 'Cancer history',\n",
              "       'NumberOfMajorSurgeries', 'smoker', 'State_R1011', 'State_R1012',\n",
              "       'State_R1013', 'Age', 'Gender'],\n",
              "      dtype='object')"
            ]
          },
          "metadata": {},
          "execution_count": 214
        }
      ]
    },
    {
      "cell_type": "code",
      "source": [
        "df.head(1)"
      ],
      "metadata": {
        "colab": {
          "base_uri": "https://localhost:8080/",
          "height": 162
        },
        "id": "io3BKgDOZgRN",
        "outputId": "22d0cac7-186c-48c1-8806-3f53b0db279a"
      },
      "execution_count": null,
      "outputs": [
        {
          "output_type": "execute_result",
          "data": {
            "text/plain": [
              "   children  charges  Hospital tier  City tier    BMI  HBA1C  Heart Issues  \\\n",
              "0         0   563.84              2          3  17.58   4.51             0   \n",
              "\n",
              "   Any Transplants  Cancer history  NumberOfMajorSurgeries  smoker  \\\n",
              "0                0               0                       1       0   \n",
              "\n",
              "   State_R1011  State_R1012  State_R1013  Age  Gender  \n",
              "0            0            0            1   30       1  "
            ],
            "text/html": [
              "\n",
              "  <div id=\"df-fb3d92e1-af73-4a6a-aeb9-5bf907f20266\">\n",
              "    <div class=\"colab-df-container\">\n",
              "      <div>\n",
              "<style scoped>\n",
              "    .dataframe tbody tr th:only-of-type {\n",
              "        vertical-align: middle;\n",
              "    }\n",
              "\n",
              "    .dataframe tbody tr th {\n",
              "        vertical-align: top;\n",
              "    }\n",
              "\n",
              "    .dataframe thead th {\n",
              "        text-align: right;\n",
              "    }\n",
              "</style>\n",
              "<table border=\"1\" class=\"dataframe\">\n",
              "  <thead>\n",
              "    <tr style=\"text-align: right;\">\n",
              "      <th></th>\n",
              "      <th>children</th>\n",
              "      <th>charges</th>\n",
              "      <th>Hospital tier</th>\n",
              "      <th>City tier</th>\n",
              "      <th>BMI</th>\n",
              "      <th>HBA1C</th>\n",
              "      <th>Heart Issues</th>\n",
              "      <th>Any Transplants</th>\n",
              "      <th>Cancer history</th>\n",
              "      <th>NumberOfMajorSurgeries</th>\n",
              "      <th>smoker</th>\n",
              "      <th>State_R1011</th>\n",
              "      <th>State_R1012</th>\n",
              "      <th>State_R1013</th>\n",
              "      <th>Age</th>\n",
              "      <th>Gender</th>\n",
              "    </tr>\n",
              "  </thead>\n",
              "  <tbody>\n",
              "    <tr>\n",
              "      <th>0</th>\n",
              "      <td>0</td>\n",
              "      <td>563.84</td>\n",
              "      <td>2</td>\n",
              "      <td>3</td>\n",
              "      <td>17.58</td>\n",
              "      <td>4.51</td>\n",
              "      <td>0</td>\n",
              "      <td>0</td>\n",
              "      <td>0</td>\n",
              "      <td>1</td>\n",
              "      <td>0</td>\n",
              "      <td>0</td>\n",
              "      <td>0</td>\n",
              "      <td>1</td>\n",
              "      <td>30</td>\n",
              "      <td>1</td>\n",
              "    </tr>\n",
              "  </tbody>\n",
              "</table>\n",
              "</div>\n",
              "      <button class=\"colab-df-convert\" onclick=\"convertToInteractive('df-fb3d92e1-af73-4a6a-aeb9-5bf907f20266')\"\n",
              "              title=\"Convert this dataframe to an interactive table.\"\n",
              "              style=\"display:none;\">\n",
              "        \n",
              "  <svg xmlns=\"http://www.w3.org/2000/svg\" height=\"24px\"viewBox=\"0 0 24 24\"\n",
              "       width=\"24px\">\n",
              "    <path d=\"M0 0h24v24H0V0z\" fill=\"none\"/>\n",
              "    <path d=\"M18.56 5.44l.94 2.06.94-2.06 2.06-.94-2.06-.94-.94-2.06-.94 2.06-2.06.94zm-11 1L8.5 8.5l.94-2.06 2.06-.94-2.06-.94L8.5 2.5l-.94 2.06-2.06.94zm10 10l.94 2.06.94-2.06 2.06-.94-2.06-.94-.94-2.06-.94 2.06-2.06.94z\"/><path d=\"M17.41 7.96l-1.37-1.37c-.4-.4-.92-.59-1.43-.59-.52 0-1.04.2-1.43.59L10.3 9.45l-7.72 7.72c-.78.78-.78 2.05 0 2.83L4 21.41c.39.39.9.59 1.41.59.51 0 1.02-.2 1.41-.59l7.78-7.78 2.81-2.81c.8-.78.8-2.07 0-2.86zM5.41 20L4 18.59l7.72-7.72 1.47 1.35L5.41 20z\"/>\n",
              "  </svg>\n",
              "      </button>\n",
              "      \n",
              "  <style>\n",
              "    .colab-df-container {\n",
              "      display:flex;\n",
              "      flex-wrap:wrap;\n",
              "      gap: 12px;\n",
              "    }\n",
              "\n",
              "    .colab-df-convert {\n",
              "      background-color: #E8F0FE;\n",
              "      border: none;\n",
              "      border-radius: 50%;\n",
              "      cursor: pointer;\n",
              "      display: none;\n",
              "      fill: #1967D2;\n",
              "      height: 32px;\n",
              "      padding: 0 0 0 0;\n",
              "      width: 32px;\n",
              "    }\n",
              "\n",
              "    .colab-df-convert:hover {\n",
              "      background-color: #E2EBFA;\n",
              "      box-shadow: 0px 1px 2px rgba(60, 64, 67, 0.3), 0px 1px 3px 1px rgba(60, 64, 67, 0.15);\n",
              "      fill: #174EA6;\n",
              "    }\n",
              "\n",
              "    [theme=dark] .colab-df-convert {\n",
              "      background-color: #3B4455;\n",
              "      fill: #D2E3FC;\n",
              "    }\n",
              "\n",
              "    [theme=dark] .colab-df-convert:hover {\n",
              "      background-color: #434B5C;\n",
              "      box-shadow: 0px 1px 3px 1px rgba(0, 0, 0, 0.15);\n",
              "      filter: drop-shadow(0px 1px 2px rgba(0, 0, 0, 0.3));\n",
              "      fill: #FFFFFF;\n",
              "    }\n",
              "  </style>\n",
              "\n",
              "      <script>\n",
              "        const buttonEl =\n",
              "          document.querySelector('#df-fb3d92e1-af73-4a6a-aeb9-5bf907f20266 button.colab-df-convert');\n",
              "        buttonEl.style.display =\n",
              "          google.colab.kernel.accessAllowed ? 'block' : 'none';\n",
              "\n",
              "        async function convertToInteractive(key) {\n",
              "          const element = document.querySelector('#df-fb3d92e1-af73-4a6a-aeb9-5bf907f20266');\n",
              "          const dataTable =\n",
              "            await google.colab.kernel.invokeFunction('convertToInteractive',\n",
              "                                                     [key], {});\n",
              "          if (!dataTable) return;\n",
              "\n",
              "          const docLinkHtml = 'Like what you see? Visit the ' +\n",
              "            '<a target=\"_blank\" href=https://colab.research.google.com/notebooks/data_table.ipynb>data table notebook</a>'\n",
              "            + ' to learn more about interactive tables.';\n",
              "          element.innerHTML = '';\n",
              "          dataTable['output_type'] = 'display_data';\n",
              "          await google.colab.output.renderOutput(dataTable, element);\n",
              "          const docLink = document.createElement('div');\n",
              "          docLink.innerHTML = docLinkHtml;\n",
              "          element.appendChild(docLink);\n",
              "        }\n",
              "      </script>\n",
              "    </div>\n",
              "  </div>\n",
              "  "
            ]
          },
          "metadata": {},
          "execution_count": 215
        }
      ]
    },
    {
      "cell_type": "code",
      "source": [
        "df['Cancer history'].unique()"
      ],
      "metadata": {
        "colab": {
          "base_uri": "https://localhost:8080/"
        },
        "id": "Nu_TNZXkb-ey",
        "outputId": "2be64f30-b4cf-446c-d7b6-642f776789c7"
      },
      "execution_count": null,
      "outputs": [
        {
          "output_type": "execute_result",
          "data": {
            "text/plain": [
              "array([0, 1])"
            ]
          },
          "metadata": {},
          "execution_count": 216
        }
      ]
    },
    {
      "cell_type": "code",
      "source": [
        "#test using usecase\n",
        "data = {'children': [2],\n",
        "        'Hospital tier': [1],\n",
        "        'City tier': [1],\n",
        "        'BMI': [85 / (1.7**2)],\n",
        "        'HBA1C': [5.8],\n",
        "        'Heart Issues': [0],\n",
        "        'Any Transplants': [0],\n",
        "        'Cancer history': [1],\n",
        "        'NumberOfMajorSurgeries': [0],\n",
        "        'smoker': [1],\n",
        "        'State_R1011': [1],\n",
        "        'State_R1012': [0],\n",
        "        'State_R1013': [0],\n",
        "        'Age': [34],\n",
        "        'Gender': [0],\n",
        "      }\n",
        "        \n",
        "input_data = pd.DataFrame(data)"
      ],
      "metadata": {
        "id": "ojank002Ynog"
      },
      "execution_count": null,
      "outputs": []
    },
    {
      "cell_type": "code",
      "source": [
        "#predicted cost for miss jayna\n",
        "predicted_costs= []\n",
        "for model in models:\n",
        "    predicted_cost = model.predict(input_data)\n",
        "    predicted_costs.append(predicted_cost)\n",
        "\n",
        "final_predicted_cost = sum(predicted_costs) / len(predicted_costs)\n",
        "\n",
        "print(f\"Predicted hospitalization cost for Ms. Jayna: {final_predicted_cost}\")"
      ],
      "metadata": {
        "colab": {
          "base_uri": "https://localhost:8080/"
        },
        "id": "goa7uzmMdq-n",
        "outputId": "136b7cce-cd06-4e5c-ac6c-c97f78a2645d"
      },
      "execution_count": null,
      "outputs": [
        {
          "output_type": "stream",
          "name": "stdout",
          "text": [
            "Predicted hospitalization cost for Ms. Jayna: [31835.16495508]\n"
          ]
        }
      ]
    },
    {
      "cell_type": "markdown",
      "source": [
        "The predicted hospitalization cost for Ms. Jayna using the stochastic gradient descent (SGD) regression algorithm is approximately $31,785.28."
      ],
      "metadata": {
        "id": "Tk44bUtijCd8"
      }
    },
    {
      "cell_type": "code",
      "source": [],
      "metadata": {
        "id": "nw5j91y3jBwu"
      },
      "execution_count": null,
      "outputs": []
    },
    {
      "cell_type": "markdown",
      "source": [
        "#RandomForestRegressor"
      ],
      "metadata": {
        "id": "2IPVfY7OjEM9"
      }
    },
    {
      "cell_type": "code",
      "source": [
        "from sklearn.ensemble import RandomForestRegressor\n",
        "from xgboost import XGBRegressor"
      ],
      "metadata": {
        "id": "Z0ZU9h6r9avb"
      },
      "execution_count": null,
      "outputs": []
    },
    {
      "cell_type": "code",
      "source": [
        "cv = KFold(n_splits=5, shuffle=True, random_state=42)\n",
        "models_1 = []\n",
        "validation_scores = []\n",
        "R2_score = []\n",
        "\n",
        "\n",
        "for train_index, val_index in cv.split(X,y):\n",
        "    X_train, X_val = X.iloc[train_index], X.iloc[val_index]\n",
        "    y_train, y_val = y.iloc[train_index], y.iloc[val_index]\n",
        "\n",
        "    model = RandomForestRegressor()\n",
        "    model.fit(X_train, y_train)\n",
        "    y_pred = model.predict(X_val)\n",
        "    rmse = mean_squared_error(y_val, y_pred, squared=False)\n",
        "    R2_rf=r2_score(y_val, y_pred)\n",
        "  \n",
        "\n",
        "    models_1.append(model)\n",
        "    validation_scores.append(rmse)\n",
        "    R2_score.append(R2_rf)\n",
        "  "
      ],
      "metadata": {
        "id": "5AykXTRNjZEb"
      },
      "execution_count": null,
      "outputs": []
    },
    {
      "cell_type": "code",
      "source": [
        "#Print the validation scores for each fold\n",
        "for fold, score in enumerate(validation_scores):\n",
        "    print(f\"Fold {fold+1}: RMSE = {score}\")"
      ],
      "metadata": {
        "colab": {
          "base_uri": "https://localhost:8080/"
        },
        "id": "ypSc2Y2JlZD4",
        "outputId": "d9371e78-fbe1-46fa-ec2e-a576502fba6f"
      },
      "execution_count": null,
      "outputs": [
        {
          "output_type": "stream",
          "name": "stdout",
          "text": [
            "Fold 1: RMSE = 3865.730889858857\n",
            "Fold 2: RMSE = 4017.239557325537\n",
            "Fold 3: RMSE = 2872.5548587998223\n",
            "Fold 4: RMSE = 3186.36487779269\n",
            "Fold 5: RMSE = 3628.5665615781004\n"
          ]
        }
      ]
    },
    {
      "cell_type": "code",
      "source": [
        "RMSE_rf=sum(validation_scores)/len(validation_scores)\n",
        "RMSE_rf"
      ],
      "metadata": {
        "colab": {
          "base_uri": "https://localhost:8080/"
        },
        "id": "fs4WVgglodD7",
        "outputId": "ab59d507-38eb-43d3-a075-03fbfee07508"
      },
      "execution_count": null,
      "outputs": [
        {
          "output_type": "execute_result",
          "data": {
            "text/plain": [
              "3514.091349071002"
            ]
          },
          "metadata": {},
          "execution_count": 222
        }
      ]
    },
    {
      "cell_type": "code",
      "source": [
        "#Print the R2 scores for each fold\n",
        "for fold, score in enumerate(R2_score):\n",
        "    print(f\"Fold {fold+1}: R2 = {score}\")"
      ],
      "metadata": {
        "colab": {
          "base_uri": "https://localhost:8080/"
        },
        "id": "nAwSSJDUkTRj",
        "outputId": "fd05c640-f75c-452b-bb7e-59073796d3ad"
      },
      "execution_count": null,
      "outputs": [
        {
          "output_type": "stream",
          "name": "stdout",
          "text": [
            "Fold 1: R2 = 0.8952351859846276\n",
            "Fold 2: R2 = 0.8906816091203535\n",
            "Fold 3: R2 = 0.9359186232155936\n",
            "Fold 4: R2 = 0.9232094174334601\n",
            "Fold 5: R2 = 0.9131105870058711\n"
          ]
        }
      ]
    },
    {
      "cell_type": "code",
      "source": [
        "R2_rf = sum(R2_score)/len(R2_score)\n",
        "R2_rf"
      ],
      "metadata": {
        "colab": {
          "base_uri": "https://localhost:8080/"
        },
        "id": "hJj0C1amkUjC",
        "outputId": "80978ba6-688f-4e74-f8a7-8472581a9b94"
      },
      "execution_count": null,
      "outputs": [
        {
          "output_type": "execute_result",
          "data": {
            "text/plain": [
              "0.9116310845519813"
            ]
          },
          "metadata": {},
          "execution_count": 224
        }
      ]
    },
    {
      "cell_type": "code",
      "source": [
        "#predicted cost for miss jayna\n",
        "predicted_costs= []\n",
        "for model in models_1:\n",
        "    predicted_cost = model.predict(input_data)\n",
        "    predicted_costs.append(predicted_cost)\n",
        "\n",
        "final_predicted_cost = sum(predicted_costs) / len(predicted_costs)\n",
        "\n",
        "print(f\"Predicted hospitalization cost for Ms. Jayna: {final_predicted_cost}\")"
      ],
      "metadata": {
        "colab": {
          "base_uri": "https://localhost:8080/"
        },
        "id": "I8RlsRdekh2N",
        "outputId": "a9a8f431-763f-4b0a-eba9-eb604bc64d41"
      },
      "execution_count": null,
      "outputs": [
        {
          "output_type": "stream",
          "name": "stdout",
          "text": [
            "Predicted hospitalization cost for Ms. Jayna: [24767.2365]\n"
          ]
        }
      ]
    },
    {
      "cell_type": "markdown",
      "source": [
        "The predicted hospitalization cost for Ms. Jayna using the random forest regression algorithm is approximately $25,309.39"
      ],
      "metadata": {
        "id": "nqxSPeqPnqdc"
      }
    },
    {
      "cell_type": "markdown",
      "source": [
        "#XGBRegressor"
      ],
      "metadata": {
        "id": "Wp29vqFXnszU"
      }
    },
    {
      "cell_type": "code",
      "source": [
        "cv = KFold(n_splits=5, shuffle=True, random_state=42)\n",
        "models_2 = []\n",
        "validation_scores = []\n",
        "R2_score = []\n",
        "\n",
        "for train_index, val_index in cv.split(X,y):\n",
        "    X_train, X_val = X.iloc[train_index], X.iloc[val_index]\n",
        "    y_train, y_val = y.iloc[train_index], y.iloc[val_index]\n",
        "\n",
        "    model = XGBRegressor()\n",
        "    model.fit(X_train, y_train)\n",
        "    y_pred = model.predict(X_val)\n",
        "    rmse = mean_squared_error(y_val, y_pred, squared=False)\n",
        "    R2_xgb=r2_score(y_val, y_pred)\n",
        "   \n",
        "    models_2.append(model)\n",
        "    validation_scores.append(rmse)\n",
        "    R2_score.append(R2_xgb)\n",
        "   "
      ],
      "metadata": {
        "id": "eGZot2FLnyaU"
      },
      "execution_count": null,
      "outputs": []
    },
    {
      "cell_type": "code",
      "source": [
        "#Print the validation scores for each fold\n",
        "for fold, score in enumerate(validation_scores):\n",
        "    print(f\"Fold {fold+1}: RMSE = {score}\")"
      ],
      "metadata": {
        "colab": {
          "base_uri": "https://localhost:8080/"
        },
        "id": "V6-ZB5IsqN68",
        "outputId": "814863cf-ea53-4573-8929-4781ba9cbde5"
      },
      "execution_count": null,
      "outputs": [
        {
          "output_type": "stream",
          "name": "stdout",
          "text": [
            "Fold 1: RMSE = 3940.7949546058444\n",
            "Fold 2: RMSE = 3995.7099284337255\n",
            "Fold 3: RMSE = 3068.85307960118\n",
            "Fold 4: RMSE = 3140.639655756391\n",
            "Fold 5: RMSE = 3837.2301217113104\n"
          ]
        }
      ]
    },
    {
      "cell_type": "code",
      "source": [
        "RMSE_xgb=sum(validation_scores)/len(validation_scores)\n",
        "RMSE_xgb"
      ],
      "metadata": {
        "colab": {
          "base_uri": "https://localhost:8080/"
        },
        "id": "6fRMT9_QqQIS",
        "outputId": "40253b73-8228-436b-f77a-a515467cc537"
      },
      "execution_count": null,
      "outputs": [
        {
          "output_type": "execute_result",
          "data": {
            "text/plain": [
              "3596.64554802169"
            ]
          },
          "metadata": {},
          "execution_count": 228
        }
      ]
    },
    {
      "cell_type": "code",
      "source": [
        "#Print the R2 scores for each fold\n",
        "for fold, score in enumerate(R2_score):\n",
        "    print(f\"Fold {fold+1}: R2 = {score}\")"
      ],
      "metadata": {
        "colab": {
          "base_uri": "https://localhost:8080/"
        },
        "id": "J8QWPV0FkpQ7",
        "outputId": "fe3b1205-cdf0-4211-8b82-c0e84e93c65d"
      },
      "execution_count": null,
      "outputs": [
        {
          "output_type": "stream",
          "name": "stdout",
          "text": [
            "Fold 1: R2 = 0.8911270757298282\n",
            "Fold 2: R2 = 0.8918502113707162\n",
            "Fold 3: R2 = 0.9268612782993992\n",
            "Fold 4: R2 = 0.9253975363382101\n",
            "Fold 5: R2 = 0.9028299636972541\n"
          ]
        }
      ]
    },
    {
      "cell_type": "code",
      "source": [
        "R2_xgb = sum(R2_score)/len(R2_score)\n",
        "R2_xgb"
      ],
      "metadata": {
        "colab": {
          "base_uri": "https://localhost:8080/"
        },
        "id": "RYRVwLL9kqab",
        "outputId": "d12dc3da-c709-4d92-fdf8-84f3331c0dfe"
      },
      "execution_count": null,
      "outputs": [
        {
          "output_type": "execute_result",
          "data": {
            "text/plain": [
              "0.9076132130870815"
            ]
          },
          "metadata": {},
          "execution_count": 230
        }
      ]
    },
    {
      "cell_type": "code",
      "source": [
        "#predicted cost for miss jayna\n",
        "predicted_costs= []\n",
        "for model in models_2:\n",
        "    predicted_cost = model.predict(input_data)\n",
        "    predicted_costs.append(predicted_cost)\n",
        "\n",
        "final_predicted_cost = sum(predicted_costs) / len(predicted_costs)\n",
        "\n",
        "print(f\"Predicted hospitalization cost for Ms. Jayna: {final_predicted_cost}\")"
      ],
      "metadata": {
        "colab": {
          "base_uri": "https://localhost:8080/"
        },
        "id": "dMD0a4oFqbLt",
        "outputId": "01af51b8-ca7a-4bb2-e7eb-432cc8334056"
      },
      "execution_count": null,
      "outputs": [
        {
          "output_type": "stream",
          "name": "stdout",
          "text": [
            "Predicted hospitalization cost for Ms. Jayna: [26482.646]\n"
          ]
        }
      ]
    },
    {
      "cell_type": "markdown",
      "source": [
        "The predicted hospitalization cost for Ms. Jayna using the XGBRegressor algorithm is $25,188.285."
      ],
      "metadata": {
        "id": "UoRFlG7aq6iw"
      }
    },
    {
      "cell_type": "code",
      "source": [],
      "metadata": {
        "id": "SfcLFpmWrPF2"
      },
      "execution_count": null,
      "outputs": []
    },
    {
      "cell_type": "markdown",
      "source": [
        "1. Stochastic Gradient Descent (SGD) Regressor: The model has an RMSE of 4469.65. This indicates that, on average, the predicted hospitalization costs deviate from the actual costs by approximately $4469.65. The higher the RMSE, the larger the prediction errors. Therefore, the SGD Regressor may not be the most accurate model for cost prediction.\n",
        "\n",
        "2. Random Forest (RF) Regressor: The model has a lower RMSE of 3507.32 compared to the SGD Regressor. This suggests that the RF Regressor performs better in predicting hospitalization costs, with lower average prediction errors. The RF Regressor takes into account the interactions among features and can capture complex relationships, resulting in improved accuracy.\n",
        "\n",
        "3. XGBoost (XGB) Regressor: The model has an RMSE of 3669.18, which is slightly higher than the RF Regressor. However, it still performs better than the SGD Regressor. XGBoost is a powerful algorithm that combines the strengths of gradient boosting and regularization techniques, resulting in accurate predictions\n",
        "\n",
        "\n",
        "\n",
        "\n",
        "\n",
        "based on the RMSE values, the Random Forest Regressor shows the lowest prediction errors and can be considered the most reliable model for estimating hospitalization costs"
      ],
      "metadata": {
        "id": "cmXLQOONtvNa"
      }
    },
    {
      "cell_type": "code",
      "source": [],
      "metadata": {
        "id": "MIuKJtdEt-m5"
      },
      "execution_count": null,
      "outputs": []
    }
  ]
}